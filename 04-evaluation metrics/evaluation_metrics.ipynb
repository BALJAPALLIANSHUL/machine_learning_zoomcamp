{
 "cells": [
  {
   "cell_type": "code",
   "execution_count": 1,
   "id": "ad8829b1-612b-4e9c-b198-72781199b929",
   "metadata": {},
   "outputs": [],
   "source": [
    "#!jupyter nbconvert --to python ../3-churn-prediction/churn-prediction.ipynb\n",
    "#!mv ../3-churn-prediction/churn-prediction.py ../04-evaluation\\ metrics"
   ]
  },
  {
   "cell_type": "code",
   "execution_count": 2,
   "id": "56988b28-e8a1-45bb-8259-3de15f42c2ac",
   "metadata": {},
   "outputs": [
    {
     "name": "stdout",
     "output_type": "stream",
     "text": [
      "Path to dataset files: /home/codespace/.cache/kagglehub/datasets/blastchar/telco-customer-churn/versions/1\n",
      "gender\n"
     ]
    },
    {
     "data": {
      "text/html": [
       "<div>\n",
       "<style scoped>\n",
       "    .dataframe tbody tr th:only-of-type {\n",
       "        vertical-align: middle;\n",
       "    }\n",
       "\n",
       "    .dataframe tbody tr th {\n",
       "        vertical-align: top;\n",
       "    }\n",
       "\n",
       "    .dataframe thead th {\n",
       "        text-align: right;\n",
       "    }\n",
       "</style>\n",
       "<table border=\"1\" class=\"dataframe\">\n",
       "  <thead>\n",
       "    <tr style=\"text-align: right;\">\n",
       "      <th></th>\n",
       "      <th>churn_rate</th>\n",
       "      <th>count</th>\n",
       "      <th>diff with global churn rate</th>\n",
       "      <th>risk_ratio</th>\n",
       "    </tr>\n",
       "    <tr>\n",
       "      <th>gender</th>\n",
       "      <th></th>\n",
       "      <th></th>\n",
       "      <th></th>\n",
       "      <th></th>\n",
       "    </tr>\n",
       "  </thead>\n",
       "  <tbody>\n",
       "    <tr>\n",
       "      <th>female</th>\n",
       "      <td>0.269209</td>\n",
       "      <td>3488</td>\n",
       "      <td>0.003839</td>\n",
       "      <td>1.014466</td>\n",
       "    </tr>\n",
       "    <tr>\n",
       "      <th>male</th>\n",
       "      <td>0.261603</td>\n",
       "      <td>3555</td>\n",
       "      <td>-0.003766</td>\n",
       "      <td>0.985807</td>\n",
       "    </tr>\n",
       "  </tbody>\n",
       "</table>\n",
       "</div>"
      ],
      "text/plain": [
       "        churn_rate  count  diff with global churn rate  risk_ratio\n",
       "gender                                                            \n",
       "female    0.269209   3488                     0.003839    1.014466\n",
       "male      0.261603   3555                    -0.003766    0.985807"
      ]
     },
     "metadata": {},
     "output_type": "display_data"
    },
    {
     "name": "stdout",
     "output_type": "stream",
     "text": [
      "\n",
      "\n",
      "\n",
      "seniorcitizen\n"
     ]
    },
    {
     "data": {
      "text/html": [
       "<div>\n",
       "<style scoped>\n",
       "    .dataframe tbody tr th:only-of-type {\n",
       "        vertical-align: middle;\n",
       "    }\n",
       "\n",
       "    .dataframe tbody tr th {\n",
       "        vertical-align: top;\n",
       "    }\n",
       "\n",
       "    .dataframe thead th {\n",
       "        text-align: right;\n",
       "    }\n",
       "</style>\n",
       "<table border=\"1\" class=\"dataframe\">\n",
       "  <thead>\n",
       "    <tr style=\"text-align: right;\">\n",
       "      <th></th>\n",
       "      <th>churn_rate</th>\n",
       "      <th>count</th>\n",
       "      <th>diff with global churn rate</th>\n",
       "      <th>risk_ratio</th>\n",
       "    </tr>\n",
       "    <tr>\n",
       "      <th>seniorcitizen</th>\n",
       "      <th></th>\n",
       "      <th></th>\n",
       "      <th></th>\n",
       "      <th></th>\n",
       "    </tr>\n",
       "  </thead>\n",
       "  <tbody>\n",
       "    <tr>\n",
       "      <th>0</th>\n",
       "      <td>0.236062</td>\n",
       "      <td>5901</td>\n",
       "      <td>-0.029308</td>\n",
       "      <td>0.889557</td>\n",
       "    </tr>\n",
       "    <tr>\n",
       "      <th>1</th>\n",
       "      <td>0.416813</td>\n",
       "      <td>1142</td>\n",
       "      <td>0.151443</td>\n",
       "      <td>1.570686</td>\n",
       "    </tr>\n",
       "  </tbody>\n",
       "</table>\n",
       "</div>"
      ],
      "text/plain": [
       "               churn_rate  count  diff with global churn rate  risk_ratio\n",
       "seniorcitizen                                                            \n",
       "0                0.236062   5901                    -0.029308    0.889557\n",
       "1                0.416813   1142                     0.151443    1.570686"
      ]
     },
     "metadata": {},
     "output_type": "display_data"
    },
    {
     "name": "stdout",
     "output_type": "stream",
     "text": [
      "\n",
      "\n",
      "\n",
      "partner\n"
     ]
    },
    {
     "data": {
      "text/html": [
       "<div>\n",
       "<style scoped>\n",
       "    .dataframe tbody tr th:only-of-type {\n",
       "        vertical-align: middle;\n",
       "    }\n",
       "\n",
       "    .dataframe tbody tr th {\n",
       "        vertical-align: top;\n",
       "    }\n",
       "\n",
       "    .dataframe thead th {\n",
       "        text-align: right;\n",
       "    }\n",
       "</style>\n",
       "<table border=\"1\" class=\"dataframe\">\n",
       "  <thead>\n",
       "    <tr style=\"text-align: right;\">\n",
       "      <th></th>\n",
       "      <th>churn_rate</th>\n",
       "      <th>count</th>\n",
       "      <th>diff with global churn rate</th>\n",
       "      <th>risk_ratio</th>\n",
       "    </tr>\n",
       "    <tr>\n",
       "      <th>partner</th>\n",
       "      <th></th>\n",
       "      <th></th>\n",
       "      <th></th>\n",
       "      <th></th>\n",
       "    </tr>\n",
       "  </thead>\n",
       "  <tbody>\n",
       "    <tr>\n",
       "      <th>no</th>\n",
       "      <td>0.329580</td>\n",
       "      <td>3641</td>\n",
       "      <td>0.064210</td>\n",
       "      <td>1.241964</td>\n",
       "    </tr>\n",
       "    <tr>\n",
       "      <th>yes</th>\n",
       "      <td>0.196649</td>\n",
       "      <td>3402</td>\n",
       "      <td>-0.068721</td>\n",
       "      <td>0.741038</td>\n",
       "    </tr>\n",
       "  </tbody>\n",
       "</table>\n",
       "</div>"
      ],
      "text/plain": [
       "         churn_rate  count  diff with global churn rate  risk_ratio\n",
       "partner                                                            \n",
       "no         0.329580   3641                     0.064210    1.241964\n",
       "yes        0.196649   3402                    -0.068721    0.741038"
      ]
     },
     "metadata": {},
     "output_type": "display_data"
    },
    {
     "name": "stdout",
     "output_type": "stream",
     "text": [
      "\n",
      "\n",
      "\n",
      "dependents\n"
     ]
    },
    {
     "data": {
      "text/html": [
       "<div>\n",
       "<style scoped>\n",
       "    .dataframe tbody tr th:only-of-type {\n",
       "        vertical-align: middle;\n",
       "    }\n",
       "\n",
       "    .dataframe tbody tr th {\n",
       "        vertical-align: top;\n",
       "    }\n",
       "\n",
       "    .dataframe thead th {\n",
       "        text-align: right;\n",
       "    }\n",
       "</style>\n",
       "<table border=\"1\" class=\"dataframe\">\n",
       "  <thead>\n",
       "    <tr style=\"text-align: right;\">\n",
       "      <th></th>\n",
       "      <th>churn_rate</th>\n",
       "      <th>count</th>\n",
       "      <th>diff with global churn rate</th>\n",
       "      <th>risk_ratio</th>\n",
       "    </tr>\n",
       "    <tr>\n",
       "      <th>dependents</th>\n",
       "      <th></th>\n",
       "      <th></th>\n",
       "      <th></th>\n",
       "      <th></th>\n",
       "    </tr>\n",
       "  </thead>\n",
       "  <tbody>\n",
       "    <tr>\n",
       "      <th>no</th>\n",
       "      <td>0.312791</td>\n",
       "      <td>4933</td>\n",
       "      <td>0.047422</td>\n",
       "      <td>1.178700</td>\n",
       "    </tr>\n",
       "    <tr>\n",
       "      <th>yes</th>\n",
       "      <td>0.154502</td>\n",
       "      <td>2110</td>\n",
       "      <td>-0.110868</td>\n",
       "      <td>0.582215</td>\n",
       "    </tr>\n",
       "  </tbody>\n",
       "</table>\n",
       "</div>"
      ],
      "text/plain": [
       "            churn_rate  count  diff with global churn rate  risk_ratio\n",
       "dependents                                                            \n",
       "no            0.312791   4933                     0.047422    1.178700\n",
       "yes           0.154502   2110                    -0.110868    0.582215"
      ]
     },
     "metadata": {},
     "output_type": "display_data"
    },
    {
     "name": "stdout",
     "output_type": "stream",
     "text": [
      "\n",
      "\n",
      "\n",
      "phoneservice\n"
     ]
    },
    {
     "data": {
      "text/html": [
       "<div>\n",
       "<style scoped>\n",
       "    .dataframe tbody tr th:only-of-type {\n",
       "        vertical-align: middle;\n",
       "    }\n",
       "\n",
       "    .dataframe tbody tr th {\n",
       "        vertical-align: top;\n",
       "    }\n",
       "\n",
       "    .dataframe thead th {\n",
       "        text-align: right;\n",
       "    }\n",
       "</style>\n",
       "<table border=\"1\" class=\"dataframe\">\n",
       "  <thead>\n",
       "    <tr style=\"text-align: right;\">\n",
       "      <th></th>\n",
       "      <th>churn_rate</th>\n",
       "      <th>count</th>\n",
       "      <th>diff with global churn rate</th>\n",
       "      <th>risk_ratio</th>\n",
       "    </tr>\n",
       "    <tr>\n",
       "      <th>phoneservice</th>\n",
       "      <th></th>\n",
       "      <th></th>\n",
       "      <th></th>\n",
       "      <th></th>\n",
       "    </tr>\n",
       "  </thead>\n",
       "  <tbody>\n",
       "    <tr>\n",
       "      <th>no</th>\n",
       "      <td>0.249267</td>\n",
       "      <td>682</td>\n",
       "      <td>-0.016103</td>\n",
       "      <td>0.939319</td>\n",
       "    </tr>\n",
       "    <tr>\n",
       "      <th>yes</th>\n",
       "      <td>0.267096</td>\n",
       "      <td>6361</td>\n",
       "      <td>0.001726</td>\n",
       "      <td>1.006506</td>\n",
       "    </tr>\n",
       "  </tbody>\n",
       "</table>\n",
       "</div>"
      ],
      "text/plain": [
       "              churn_rate  count  diff with global churn rate  risk_ratio\n",
       "phoneservice                                                            \n",
       "no              0.249267    682                    -0.016103    0.939319\n",
       "yes             0.267096   6361                     0.001726    1.006506"
      ]
     },
     "metadata": {},
     "output_type": "display_data"
    },
    {
     "name": "stdout",
     "output_type": "stream",
     "text": [
      "\n",
      "\n",
      "\n",
      "multiplelines\n"
     ]
    },
    {
     "data": {
      "text/html": [
       "<div>\n",
       "<style scoped>\n",
       "    .dataframe tbody tr th:only-of-type {\n",
       "        vertical-align: middle;\n",
       "    }\n",
       "\n",
       "    .dataframe tbody tr th {\n",
       "        vertical-align: top;\n",
       "    }\n",
       "\n",
       "    .dataframe thead th {\n",
       "        text-align: right;\n",
       "    }\n",
       "</style>\n",
       "<table border=\"1\" class=\"dataframe\">\n",
       "  <thead>\n",
       "    <tr style=\"text-align: right;\">\n",
       "      <th></th>\n",
       "      <th>churn_rate</th>\n",
       "      <th>count</th>\n",
       "      <th>diff with global churn rate</th>\n",
       "      <th>risk_ratio</th>\n",
       "    </tr>\n",
       "    <tr>\n",
       "      <th>multiplelines</th>\n",
       "      <th></th>\n",
       "      <th></th>\n",
       "      <th></th>\n",
       "      <th></th>\n",
       "    </tr>\n",
       "  </thead>\n",
       "  <tbody>\n",
       "    <tr>\n",
       "      <th>no</th>\n",
       "      <td>0.250442</td>\n",
       "      <td>3390</td>\n",
       "      <td>-0.014927</td>\n",
       "      <td>0.943749</td>\n",
       "    </tr>\n",
       "    <tr>\n",
       "      <th>no_phone_service</th>\n",
       "      <td>0.249267</td>\n",
       "      <td>682</td>\n",
       "      <td>-0.016103</td>\n",
       "      <td>0.939319</td>\n",
       "    </tr>\n",
       "    <tr>\n",
       "      <th>yes</th>\n",
       "      <td>0.286099</td>\n",
       "      <td>2971</td>\n",
       "      <td>0.020729</td>\n",
       "      <td>1.078114</td>\n",
       "    </tr>\n",
       "  </tbody>\n",
       "</table>\n",
       "</div>"
      ],
      "text/plain": [
       "                  churn_rate  count  diff with global churn rate  risk_ratio\n",
       "multiplelines                                                               \n",
       "no                  0.250442   3390                    -0.014927    0.943749\n",
       "no_phone_service    0.249267    682                    -0.016103    0.939319\n",
       "yes                 0.286099   2971                     0.020729    1.078114"
      ]
     },
     "metadata": {},
     "output_type": "display_data"
    },
    {
     "name": "stdout",
     "output_type": "stream",
     "text": [
      "\n",
      "\n",
      "\n",
      "internetservice\n"
     ]
    },
    {
     "data": {
      "text/html": [
       "<div>\n",
       "<style scoped>\n",
       "    .dataframe tbody tr th:only-of-type {\n",
       "        vertical-align: middle;\n",
       "    }\n",
       "\n",
       "    .dataframe tbody tr th {\n",
       "        vertical-align: top;\n",
       "    }\n",
       "\n",
       "    .dataframe thead th {\n",
       "        text-align: right;\n",
       "    }\n",
       "</style>\n",
       "<table border=\"1\" class=\"dataframe\">\n",
       "  <thead>\n",
       "    <tr style=\"text-align: right;\">\n",
       "      <th></th>\n",
       "      <th>churn_rate</th>\n",
       "      <th>count</th>\n",
       "      <th>diff with global churn rate</th>\n",
       "      <th>risk_ratio</th>\n",
       "    </tr>\n",
       "    <tr>\n",
       "      <th>internetservice</th>\n",
       "      <th></th>\n",
       "      <th></th>\n",
       "      <th></th>\n",
       "      <th></th>\n",
       "    </tr>\n",
       "  </thead>\n",
       "  <tbody>\n",
       "    <tr>\n",
       "      <th>dsl</th>\n",
       "      <td>0.189591</td>\n",
       "      <td>2421</td>\n",
       "      <td>-0.075779</td>\n",
       "      <td>0.714441</td>\n",
       "    </tr>\n",
       "    <tr>\n",
       "      <th>fiber_optic</th>\n",
       "      <td>0.418928</td>\n",
       "      <td>3096</td>\n",
       "      <td>0.153558</td>\n",
       "      <td>1.578656</td>\n",
       "    </tr>\n",
       "    <tr>\n",
       "      <th>no</th>\n",
       "      <td>0.074050</td>\n",
       "      <td>1526</td>\n",
       "      <td>-0.191320</td>\n",
       "      <td>0.279044</td>\n",
       "    </tr>\n",
       "  </tbody>\n",
       "</table>\n",
       "</div>"
      ],
      "text/plain": [
       "                 churn_rate  count  diff with global churn rate  risk_ratio\n",
       "internetservice                                                            \n",
       "dsl                0.189591   2421                    -0.075779    0.714441\n",
       "fiber_optic        0.418928   3096                     0.153558    1.578656\n",
       "no                 0.074050   1526                    -0.191320    0.279044"
      ]
     },
     "metadata": {},
     "output_type": "display_data"
    },
    {
     "name": "stdout",
     "output_type": "stream",
     "text": [
      "\n",
      "\n",
      "\n",
      "onlinesecurity\n"
     ]
    },
    {
     "data": {
      "text/html": [
       "<div>\n",
       "<style scoped>\n",
       "    .dataframe tbody tr th:only-of-type {\n",
       "        vertical-align: middle;\n",
       "    }\n",
       "\n",
       "    .dataframe tbody tr th {\n",
       "        vertical-align: top;\n",
       "    }\n",
       "\n",
       "    .dataframe thead th {\n",
       "        text-align: right;\n",
       "    }\n",
       "</style>\n",
       "<table border=\"1\" class=\"dataframe\">\n",
       "  <thead>\n",
       "    <tr style=\"text-align: right;\">\n",
       "      <th></th>\n",
       "      <th>churn_rate</th>\n",
       "      <th>count</th>\n",
       "      <th>diff with global churn rate</th>\n",
       "      <th>risk_ratio</th>\n",
       "    </tr>\n",
       "    <tr>\n",
       "      <th>onlinesecurity</th>\n",
       "      <th></th>\n",
       "      <th></th>\n",
       "      <th></th>\n",
       "      <th></th>\n",
       "    </tr>\n",
       "  </thead>\n",
       "  <tbody>\n",
       "    <tr>\n",
       "      <th>no</th>\n",
       "      <td>0.417667</td>\n",
       "      <td>3498</td>\n",
       "      <td>0.152297</td>\n",
       "      <td>1.573906</td>\n",
       "    </tr>\n",
       "    <tr>\n",
       "      <th>no_internet_service</th>\n",
       "      <td>0.074050</td>\n",
       "      <td>1526</td>\n",
       "      <td>-0.191320</td>\n",
       "      <td>0.279044</td>\n",
       "    </tr>\n",
       "    <tr>\n",
       "      <th>yes</th>\n",
       "      <td>0.146112</td>\n",
       "      <td>2019</td>\n",
       "      <td>-0.119258</td>\n",
       "      <td>0.550597</td>\n",
       "    </tr>\n",
       "  </tbody>\n",
       "</table>\n",
       "</div>"
      ],
      "text/plain": [
       "                     churn_rate  count  diff with global churn rate  \\\n",
       "onlinesecurity                                                        \n",
       "no                     0.417667   3498                     0.152297   \n",
       "no_internet_service    0.074050   1526                    -0.191320   \n",
       "yes                    0.146112   2019                    -0.119258   \n",
       "\n",
       "                     risk_ratio  \n",
       "onlinesecurity                   \n",
       "no                     1.573906  \n",
       "no_internet_service    0.279044  \n",
       "yes                    0.550597  "
      ]
     },
     "metadata": {},
     "output_type": "display_data"
    },
    {
     "name": "stdout",
     "output_type": "stream",
     "text": [
      "\n",
      "\n",
      "\n",
      "onlinebackup\n"
     ]
    },
    {
     "data": {
      "text/html": [
       "<div>\n",
       "<style scoped>\n",
       "    .dataframe tbody tr th:only-of-type {\n",
       "        vertical-align: middle;\n",
       "    }\n",
       "\n",
       "    .dataframe tbody tr th {\n",
       "        vertical-align: top;\n",
       "    }\n",
       "\n",
       "    .dataframe thead th {\n",
       "        text-align: right;\n",
       "    }\n",
       "</style>\n",
       "<table border=\"1\" class=\"dataframe\">\n",
       "  <thead>\n",
       "    <tr style=\"text-align: right;\">\n",
       "      <th></th>\n",
       "      <th>churn_rate</th>\n",
       "      <th>count</th>\n",
       "      <th>diff with global churn rate</th>\n",
       "      <th>risk_ratio</th>\n",
       "    </tr>\n",
       "    <tr>\n",
       "      <th>onlinebackup</th>\n",
       "      <th></th>\n",
       "      <th></th>\n",
       "      <th></th>\n",
       "      <th></th>\n",
       "    </tr>\n",
       "  </thead>\n",
       "  <tbody>\n",
       "    <tr>\n",
       "      <th>no</th>\n",
       "      <td>0.399288</td>\n",
       "      <td>3088</td>\n",
       "      <td>0.133918</td>\n",
       "      <td>1.504645</td>\n",
       "    </tr>\n",
       "    <tr>\n",
       "      <th>no_internet_service</th>\n",
       "      <td>0.074050</td>\n",
       "      <td>1526</td>\n",
       "      <td>-0.191320</td>\n",
       "      <td>0.279044</td>\n",
       "    </tr>\n",
       "    <tr>\n",
       "      <th>yes</th>\n",
       "      <td>0.215315</td>\n",
       "      <td>2429</td>\n",
       "      <td>-0.050055</td>\n",
       "      <td>0.811377</td>\n",
       "    </tr>\n",
       "  </tbody>\n",
       "</table>\n",
       "</div>"
      ],
      "text/plain": [
       "                     churn_rate  count  diff with global churn rate  \\\n",
       "onlinebackup                                                          \n",
       "no                     0.399288   3088                     0.133918   \n",
       "no_internet_service    0.074050   1526                    -0.191320   \n",
       "yes                    0.215315   2429                    -0.050055   \n",
       "\n",
       "                     risk_ratio  \n",
       "onlinebackup                     \n",
       "no                     1.504645  \n",
       "no_internet_service    0.279044  \n",
       "yes                    0.811377  "
      ]
     },
     "metadata": {},
     "output_type": "display_data"
    },
    {
     "name": "stdout",
     "output_type": "stream",
     "text": [
      "\n",
      "\n",
      "\n",
      "deviceprotection\n"
     ]
    },
    {
     "data": {
      "text/html": [
       "<div>\n",
       "<style scoped>\n",
       "    .dataframe tbody tr th:only-of-type {\n",
       "        vertical-align: middle;\n",
       "    }\n",
       "\n",
       "    .dataframe tbody tr th {\n",
       "        vertical-align: top;\n",
       "    }\n",
       "\n",
       "    .dataframe thead th {\n",
       "        text-align: right;\n",
       "    }\n",
       "</style>\n",
       "<table border=\"1\" class=\"dataframe\">\n",
       "  <thead>\n",
       "    <tr style=\"text-align: right;\">\n",
       "      <th></th>\n",
       "      <th>churn_rate</th>\n",
       "      <th>count</th>\n",
       "      <th>diff with global churn rate</th>\n",
       "      <th>risk_ratio</th>\n",
       "    </tr>\n",
       "    <tr>\n",
       "      <th>deviceprotection</th>\n",
       "      <th></th>\n",
       "      <th></th>\n",
       "      <th></th>\n",
       "      <th></th>\n",
       "    </tr>\n",
       "  </thead>\n",
       "  <tbody>\n",
       "    <tr>\n",
       "      <th>no</th>\n",
       "      <td>0.391276</td>\n",
       "      <td>3095</td>\n",
       "      <td>0.125906</td>\n",
       "      <td>1.474456</td>\n",
       "    </tr>\n",
       "    <tr>\n",
       "      <th>no_internet_service</th>\n",
       "      <td>0.074050</td>\n",
       "      <td>1526</td>\n",
       "      <td>-0.191320</td>\n",
       "      <td>0.279044</td>\n",
       "    </tr>\n",
       "    <tr>\n",
       "      <th>yes</th>\n",
       "      <td>0.225021</td>\n",
       "      <td>2422</td>\n",
       "      <td>-0.040349</td>\n",
       "      <td>0.847951</td>\n",
       "    </tr>\n",
       "  </tbody>\n",
       "</table>\n",
       "</div>"
      ],
      "text/plain": [
       "                     churn_rate  count  diff with global churn rate  \\\n",
       "deviceprotection                                                      \n",
       "no                     0.391276   3095                     0.125906   \n",
       "no_internet_service    0.074050   1526                    -0.191320   \n",
       "yes                    0.225021   2422                    -0.040349   \n",
       "\n",
       "                     risk_ratio  \n",
       "deviceprotection                 \n",
       "no                     1.474456  \n",
       "no_internet_service    0.279044  \n",
       "yes                    0.847951  "
      ]
     },
     "metadata": {},
     "output_type": "display_data"
    },
    {
     "name": "stdout",
     "output_type": "stream",
     "text": [
      "\n",
      "\n",
      "\n",
      "techsupport\n"
     ]
    },
    {
     "data": {
      "text/html": [
       "<div>\n",
       "<style scoped>\n",
       "    .dataframe tbody tr th:only-of-type {\n",
       "        vertical-align: middle;\n",
       "    }\n",
       "\n",
       "    .dataframe tbody tr th {\n",
       "        vertical-align: top;\n",
       "    }\n",
       "\n",
       "    .dataframe thead th {\n",
       "        text-align: right;\n",
       "    }\n",
       "</style>\n",
       "<table border=\"1\" class=\"dataframe\">\n",
       "  <thead>\n",
       "    <tr style=\"text-align: right;\">\n",
       "      <th></th>\n",
       "      <th>churn_rate</th>\n",
       "      <th>count</th>\n",
       "      <th>diff with global churn rate</th>\n",
       "      <th>risk_ratio</th>\n",
       "    </tr>\n",
       "    <tr>\n",
       "      <th>techsupport</th>\n",
       "      <th></th>\n",
       "      <th></th>\n",
       "      <th></th>\n",
       "      <th></th>\n",
       "    </tr>\n",
       "  </thead>\n",
       "  <tbody>\n",
       "    <tr>\n",
       "      <th>no</th>\n",
       "      <td>0.416355</td>\n",
       "      <td>3473</td>\n",
       "      <td>0.150985</td>\n",
       "      <td>1.568960</td>\n",
       "    </tr>\n",
       "    <tr>\n",
       "      <th>no_internet_service</th>\n",
       "      <td>0.074050</td>\n",
       "      <td>1526</td>\n",
       "      <td>-0.191320</td>\n",
       "      <td>0.279044</td>\n",
       "    </tr>\n",
       "    <tr>\n",
       "      <th>yes</th>\n",
       "      <td>0.151663</td>\n",
       "      <td>2044</td>\n",
       "      <td>-0.113706</td>\n",
       "      <td>0.571517</td>\n",
       "    </tr>\n",
       "  </tbody>\n",
       "</table>\n",
       "</div>"
      ],
      "text/plain": [
       "                     churn_rate  count  diff with global churn rate  \\\n",
       "techsupport                                                           \n",
       "no                     0.416355   3473                     0.150985   \n",
       "no_internet_service    0.074050   1526                    -0.191320   \n",
       "yes                    0.151663   2044                    -0.113706   \n",
       "\n",
       "                     risk_ratio  \n",
       "techsupport                      \n",
       "no                     1.568960  \n",
       "no_internet_service    0.279044  \n",
       "yes                    0.571517  "
      ]
     },
     "metadata": {},
     "output_type": "display_data"
    },
    {
     "name": "stdout",
     "output_type": "stream",
     "text": [
      "\n",
      "\n",
      "\n",
      "streamingtv\n"
     ]
    },
    {
     "data": {
      "text/html": [
       "<div>\n",
       "<style scoped>\n",
       "    .dataframe tbody tr th:only-of-type {\n",
       "        vertical-align: middle;\n",
       "    }\n",
       "\n",
       "    .dataframe tbody tr th {\n",
       "        vertical-align: top;\n",
       "    }\n",
       "\n",
       "    .dataframe thead th {\n",
       "        text-align: right;\n",
       "    }\n",
       "</style>\n",
       "<table border=\"1\" class=\"dataframe\">\n",
       "  <thead>\n",
       "    <tr style=\"text-align: right;\">\n",
       "      <th></th>\n",
       "      <th>churn_rate</th>\n",
       "      <th>count</th>\n",
       "      <th>diff with global churn rate</th>\n",
       "      <th>risk_ratio</th>\n",
       "    </tr>\n",
       "    <tr>\n",
       "      <th>streamingtv</th>\n",
       "      <th></th>\n",
       "      <th></th>\n",
       "      <th></th>\n",
       "      <th></th>\n",
       "    </tr>\n",
       "  </thead>\n",
       "  <tbody>\n",
       "    <tr>\n",
       "      <th>no</th>\n",
       "      <td>0.335231</td>\n",
       "      <td>2810</td>\n",
       "      <td>0.069861</td>\n",
       "      <td>1.263261</td>\n",
       "    </tr>\n",
       "    <tr>\n",
       "      <th>no_internet_service</th>\n",
       "      <td>0.074050</td>\n",
       "      <td>1526</td>\n",
       "      <td>-0.191320</td>\n",
       "      <td>0.279044</td>\n",
       "    </tr>\n",
       "    <tr>\n",
       "      <th>yes</th>\n",
       "      <td>0.300702</td>\n",
       "      <td>2707</td>\n",
       "      <td>0.035332</td>\n",
       "      <td>1.133143</td>\n",
       "    </tr>\n",
       "  </tbody>\n",
       "</table>\n",
       "</div>"
      ],
      "text/plain": [
       "                     churn_rate  count  diff with global churn rate  \\\n",
       "streamingtv                                                           \n",
       "no                     0.335231   2810                     0.069861   \n",
       "no_internet_service    0.074050   1526                    -0.191320   \n",
       "yes                    0.300702   2707                     0.035332   \n",
       "\n",
       "                     risk_ratio  \n",
       "streamingtv                      \n",
       "no                     1.263261  \n",
       "no_internet_service    0.279044  \n",
       "yes                    1.133143  "
      ]
     },
     "metadata": {},
     "output_type": "display_data"
    },
    {
     "name": "stdout",
     "output_type": "stream",
     "text": [
      "\n",
      "\n",
      "\n",
      "streamingmovies\n"
     ]
    },
    {
     "data": {
      "text/html": [
       "<div>\n",
       "<style scoped>\n",
       "    .dataframe tbody tr th:only-of-type {\n",
       "        vertical-align: middle;\n",
       "    }\n",
       "\n",
       "    .dataframe tbody tr th {\n",
       "        vertical-align: top;\n",
       "    }\n",
       "\n",
       "    .dataframe thead th {\n",
       "        text-align: right;\n",
       "    }\n",
       "</style>\n",
       "<table border=\"1\" class=\"dataframe\">\n",
       "  <thead>\n",
       "    <tr style=\"text-align: right;\">\n",
       "      <th></th>\n",
       "      <th>churn_rate</th>\n",
       "      <th>count</th>\n",
       "      <th>diff with global churn rate</th>\n",
       "      <th>risk_ratio</th>\n",
       "    </tr>\n",
       "    <tr>\n",
       "      <th>streamingmovies</th>\n",
       "      <th></th>\n",
       "      <th></th>\n",
       "      <th></th>\n",
       "      <th></th>\n",
       "    </tr>\n",
       "  </thead>\n",
       "  <tbody>\n",
       "    <tr>\n",
       "      <th>no</th>\n",
       "      <td>0.336804</td>\n",
       "      <td>2785</td>\n",
       "      <td>0.071434</td>\n",
       "      <td>1.269188</td>\n",
       "    </tr>\n",
       "    <tr>\n",
       "      <th>no_internet_service</th>\n",
       "      <td>0.074050</td>\n",
       "      <td>1526</td>\n",
       "      <td>-0.191320</td>\n",
       "      <td>0.279044</td>\n",
       "    </tr>\n",
       "    <tr>\n",
       "      <th>yes</th>\n",
       "      <td>0.299414</td>\n",
       "      <td>2732</td>\n",
       "      <td>0.034044</td>\n",
       "      <td>1.128291</td>\n",
       "    </tr>\n",
       "  </tbody>\n",
       "</table>\n",
       "</div>"
      ],
      "text/plain": [
       "                     churn_rate  count  diff with global churn rate  \\\n",
       "streamingmovies                                                       \n",
       "no                     0.336804   2785                     0.071434   \n",
       "no_internet_service    0.074050   1526                    -0.191320   \n",
       "yes                    0.299414   2732                     0.034044   \n",
       "\n",
       "                     risk_ratio  \n",
       "streamingmovies                  \n",
       "no                     1.269188  \n",
       "no_internet_service    0.279044  \n",
       "yes                    1.128291  "
      ]
     },
     "metadata": {},
     "output_type": "display_data"
    },
    {
     "name": "stdout",
     "output_type": "stream",
     "text": [
      "\n",
      "\n",
      "\n",
      "contract\n"
     ]
    },
    {
     "data": {
      "text/html": [
       "<div>\n",
       "<style scoped>\n",
       "    .dataframe tbody tr th:only-of-type {\n",
       "        vertical-align: middle;\n",
       "    }\n",
       "\n",
       "    .dataframe tbody tr th {\n",
       "        vertical-align: top;\n",
       "    }\n",
       "\n",
       "    .dataframe thead th {\n",
       "        text-align: right;\n",
       "    }\n",
       "</style>\n",
       "<table border=\"1\" class=\"dataframe\">\n",
       "  <thead>\n",
       "    <tr style=\"text-align: right;\">\n",
       "      <th></th>\n",
       "      <th>churn_rate</th>\n",
       "      <th>count</th>\n",
       "      <th>diff with global churn rate</th>\n",
       "      <th>risk_ratio</th>\n",
       "    </tr>\n",
       "    <tr>\n",
       "      <th>contract</th>\n",
       "      <th></th>\n",
       "      <th></th>\n",
       "      <th></th>\n",
       "      <th></th>\n",
       "    </tr>\n",
       "  </thead>\n",
       "  <tbody>\n",
       "    <tr>\n",
       "      <th>month-to-month</th>\n",
       "      <td>0.427097</td>\n",
       "      <td>3875</td>\n",
       "      <td>0.161727</td>\n",
       "      <td>1.609440</td>\n",
       "    </tr>\n",
       "    <tr>\n",
       "      <th>one_year</th>\n",
       "      <td>0.112695</td>\n",
       "      <td>1473</td>\n",
       "      <td>-0.152675</td>\n",
       "      <td>0.424672</td>\n",
       "    </tr>\n",
       "    <tr>\n",
       "      <th>two_year</th>\n",
       "      <td>0.028319</td>\n",
       "      <td>1695</td>\n",
       "      <td>-0.237051</td>\n",
       "      <td>0.106714</td>\n",
       "    </tr>\n",
       "  </tbody>\n",
       "</table>\n",
       "</div>"
      ],
      "text/plain": [
       "                churn_rate  count  diff with global churn rate  risk_ratio\n",
       "contract                                                                  \n",
       "month-to-month    0.427097   3875                     0.161727    1.609440\n",
       "one_year          0.112695   1473                    -0.152675    0.424672\n",
       "two_year          0.028319   1695                    -0.237051    0.106714"
      ]
     },
     "metadata": {},
     "output_type": "display_data"
    },
    {
     "name": "stdout",
     "output_type": "stream",
     "text": [
      "\n",
      "\n",
      "\n",
      "paperlessbilling\n"
     ]
    },
    {
     "data": {
      "text/html": [
       "<div>\n",
       "<style scoped>\n",
       "    .dataframe tbody tr th:only-of-type {\n",
       "        vertical-align: middle;\n",
       "    }\n",
       "\n",
       "    .dataframe tbody tr th {\n",
       "        vertical-align: top;\n",
       "    }\n",
       "\n",
       "    .dataframe thead th {\n",
       "        text-align: right;\n",
       "    }\n",
       "</style>\n",
       "<table border=\"1\" class=\"dataframe\">\n",
       "  <thead>\n",
       "    <tr style=\"text-align: right;\">\n",
       "      <th></th>\n",
       "      <th>churn_rate</th>\n",
       "      <th>count</th>\n",
       "      <th>diff with global churn rate</th>\n",
       "      <th>risk_ratio</th>\n",
       "    </tr>\n",
       "    <tr>\n",
       "      <th>paperlessbilling</th>\n",
       "      <th></th>\n",
       "      <th></th>\n",
       "      <th></th>\n",
       "      <th></th>\n",
       "    </tr>\n",
       "  </thead>\n",
       "  <tbody>\n",
       "    <tr>\n",
       "      <th>no</th>\n",
       "      <td>0.163301</td>\n",
       "      <td>2872</td>\n",
       "      <td>-0.102069</td>\n",
       "      <td>0.615371</td>\n",
       "    </tr>\n",
       "    <tr>\n",
       "      <th>yes</th>\n",
       "      <td>0.335651</td>\n",
       "      <td>4171</td>\n",
       "      <td>0.070281</td>\n",
       "      <td>1.264842</td>\n",
       "    </tr>\n",
       "  </tbody>\n",
       "</table>\n",
       "</div>"
      ],
      "text/plain": [
       "                  churn_rate  count  diff with global churn rate  risk_ratio\n",
       "paperlessbilling                                                            \n",
       "no                  0.163301   2872                    -0.102069    0.615371\n",
       "yes                 0.335651   4171                     0.070281    1.264842"
      ]
     },
     "metadata": {},
     "output_type": "display_data"
    },
    {
     "name": "stdout",
     "output_type": "stream",
     "text": [
      "\n",
      "\n",
      "\n",
      "paymentmethod\n"
     ]
    },
    {
     "data": {
      "text/html": [
       "<div>\n",
       "<style scoped>\n",
       "    .dataframe tbody tr th:only-of-type {\n",
       "        vertical-align: middle;\n",
       "    }\n",
       "\n",
       "    .dataframe tbody tr th {\n",
       "        vertical-align: top;\n",
       "    }\n",
       "\n",
       "    .dataframe thead th {\n",
       "        text-align: right;\n",
       "    }\n",
       "</style>\n",
       "<table border=\"1\" class=\"dataframe\">\n",
       "  <thead>\n",
       "    <tr style=\"text-align: right;\">\n",
       "      <th></th>\n",
       "      <th>churn_rate</th>\n",
       "      <th>count</th>\n",
       "      <th>diff with global churn rate</th>\n",
       "      <th>risk_ratio</th>\n",
       "    </tr>\n",
       "    <tr>\n",
       "      <th>paymentmethod</th>\n",
       "      <th></th>\n",
       "      <th></th>\n",
       "      <th></th>\n",
       "      <th></th>\n",
       "    </tr>\n",
       "  </thead>\n",
       "  <tbody>\n",
       "    <tr>\n",
       "      <th>bank_transfer_(automatic)</th>\n",
       "      <td>0.167098</td>\n",
       "      <td>1544</td>\n",
       "      <td>-0.098271</td>\n",
       "      <td>0.629681</td>\n",
       "    </tr>\n",
       "    <tr>\n",
       "      <th>credit_card_(automatic)</th>\n",
       "      <td>0.152431</td>\n",
       "      <td>1522</td>\n",
       "      <td>-0.112939</td>\n",
       "      <td>0.574410</td>\n",
       "    </tr>\n",
       "    <tr>\n",
       "      <th>electronic_check</th>\n",
       "      <td>0.452854</td>\n",
       "      <td>2365</td>\n",
       "      <td>0.187484</td>\n",
       "      <td>1.706502</td>\n",
       "    </tr>\n",
       "    <tr>\n",
       "      <th>mailed_check</th>\n",
       "      <td>0.191067</td>\n",
       "      <td>1612</td>\n",
       "      <td>-0.074303</td>\n",
       "      <td>0.720003</td>\n",
       "    </tr>\n",
       "  </tbody>\n",
       "</table>\n",
       "</div>"
      ],
      "text/plain": [
       "                           churn_rate  count  diff with global churn rate  \\\n",
       "paymentmethod                                                               \n",
       "bank_transfer_(automatic)    0.167098   1544                    -0.098271   \n",
       "credit_card_(automatic)      0.152431   1522                    -0.112939   \n",
       "electronic_check             0.452854   2365                     0.187484   \n",
       "mailed_check                 0.191067   1612                    -0.074303   \n",
       "\n",
       "                           risk_ratio  \n",
       "paymentmethod                          \n",
       "bank_transfer_(automatic)    0.629681  \n",
       "credit_card_(automatic)      0.574410  \n",
       "electronic_check             1.706502  \n",
       "mailed_check                 0.720003  "
      ]
     },
     "metadata": {},
     "output_type": "display_data"
    },
    {
     "name": "stdout",
     "output_type": "stream",
     "text": [
      "\n",
      "\n",
      "\n"
     ]
    },
    {
     "name": "stderr",
     "output_type": "stream",
     "text": [
      "/home/codespace/.local/lib/python3.12/site-packages/sklearn/utils/validation.py:1406: DataConversionWarning: A column-vector y was passed when a 1d array was expected. Please change the shape of y to (n_samples, ), for example using ravel().\n",
      "  y = column_or_1d(y, warn=True)\n",
      "/home/codespace/.local/lib/python3.12/site-packages/sklearn/linear_model/_logistic.py:470: ConvergenceWarning: lbfgs failed to converge after 100 iteration(s) (status=1):\n",
      "STOP: TOTAL NO. OF ITERATIONS REACHED LIMIT\n",
      "\n",
      "Increase the number of iterations to improve the convergence (max_iter=100).\n",
      "You might also want to scale the data as shown in:\n",
      "    https://scikit-learn.org/stable/modules/preprocessing.html\n",
      "Please also refer to the documentation for alternative solver options:\n",
      "    https://scikit-learn.org/stable/modules/linear_model.html#logistic-regression\n",
      "  n_iter_i = _check_optimize_result(\n",
      "/home/codespace/.local/lib/python3.12/site-packages/sklearn/linear_model/_logistic.py:470: ConvergenceWarning: lbfgs failed to converge after 100 iteration(s) (status=1):\n",
      "STOP: TOTAL NO. OF ITERATIONS REACHED LIMIT\n",
      "\n",
      "Increase the number of iterations to improve the convergence (max_iter=100).\n",
      "You might also want to scale the data as shown in:\n",
      "    https://scikit-learn.org/stable/modules/preprocessing.html\n",
      "Please also refer to the documentation for alternative solver options:\n",
      "    https://scikit-learn.org/stable/modules/linear_model.html#logistic-regression\n",
      "  n_iter_i = _check_optimize_result(\n"
     ]
    },
    {
     "data": {
      "image/png": "[encoded data removed]",
      "text/plain": [
       "<Figure size 640x480 with 1 Axes>"
      ]
     },
     "metadata": {},
     "output_type": "display_data"
    }
   ],
   "source": [
    "from churn_prediction import *"
   ]
  },
  {
   "cell_type": "markdown",
   "id": "831baa44-e74c-493d-9f8d-0faf8f273c83",
   "metadata": {},
   "source": [
    "# 4.2 - Accuracy and Dummy Model"
   ]
  },
  {
   "cell_type": "code",
   "execution_count": 3,
   "id": "02a4768c-b379-4ffb-8362-2a9daafc5548",
   "metadata": {},
   "outputs": [],
   "source": [
    "from sklearn.metrics import accuracy_score\n",
    "import matplotlib.pyplot as plt"
   ]
  },
  {
   "cell_type": "code",
   "execution_count": 4,
   "id": "b220fa14-e522-4d46-a3a5-b5a19982675a",
   "metadata": {},
   "outputs": [
    {
     "data": {
      "text/plain": [
       "array([0.00786347, 0.20992803, 0.2237105 , ..., 0.15014869, 0.77668113,\n",
       "       0.81035774], shape=(1409,))"
      ]
     },
     "execution_count": 4,
     "metadata": {},
     "output_type": "execute_result"
    }
   ],
   "source": [
    "y_pred_prob"
   ]
  },
  {
   "cell_type": "code",
   "execution_count": 5,
   "id": "80832023-a619-4f5d-bc95-6d7ce556df70",
   "metadata": {},
   "outputs": [
    {
     "data": {
      "text/plain": [
       "array([0.        , 0.11111111, 0.22222222, 0.33333333, 0.44444444,\n",
       "       0.55555556, 0.66666667, 0.77777778, 0.88888889, 1.        ])"
      ]
     },
     "execution_count": 5,
     "metadata": {},
     "output_type": "execute_result"
    }
   ],
   "source": [
    "threshold = np.linspace(0,1,10)\n",
    "threshold"
   ]
  },
  {
   "cell_type": "code",
   "execution_count": 6,
   "id": "28d7dd81-d1e1-47f6-b4d9-aff270ebcab2",
   "metadata": {},
   "outputs": [
    {
     "data": {
      "text/plain": [
       "((5634, 45), (5634, 1))"
      ]
     },
     "execution_count": 6,
     "metadata": {},
     "output_type": "execute_result"
    }
   ],
   "source": [
    "X_full_train_ohe.shape,y_train_val.shape"
   ]
  },
  {
   "cell_type": "code",
   "execution_count": 7,
   "id": "fc7ccfc3-08d0-401e-b706-ebddebc8e001",
   "metadata": {},
   "outputs": [],
   "source": [
    "accuracy = []\n",
    "new_y_pred_score = model.predict_proba(X_val_ohe)[:,1]\n",
    "for t in threshold:\n",
    "    new_y = (new_y_pred_score>=t).reshape(-1,1)\n",
    "    accuracy.append(accuracy_score(y_val,new_y))"
   ]
  },
  {
   "cell_type": "code",
   "execution_count": 8,
   "id": "578c0271-85f7-4756-bf01-76e100726448",
   "metadata": {},
   "outputs": [
    {
     "data": {
      "text/plain": [
       "Text(0, 0.5, 'accuracy')"
      ]
     },
     "execution_count": 8,
     "metadata": {},
     "output_type": "execute_result"
    },
    {
     "data": {
      "image/png": "[encoded data removed]",
      "text/plain": [
       "<Figure size 640x480 with 1 Axes>"
      ]
     },
     "metadata": {},
     "output_type": "display_data"
    }
   ],
   "source": [
    "plt.plot(threshold,accuracy)\n",
    "plt.xlabel('threshold')\n",
    "plt.ylabel('accuracy')"
   ]
  },
  {
   "cell_type": "markdown",
   "id": "9e48baa9-a5ba-4177-bfbf-d849648cb537",
   "metadata": {},
   "source": [
    "- If we keep threshold as 1 i.e only when the predicted score is >=1 it will predict 1 else 0.\n",
    "- for almost every input model will predict 0. The accuracy will be portion of churn with 0. This is where\n",
    "  the accuracy fails"
   ]
  },
  {
   "cell_type": "code",
   "execution_count": 9,
   "id": "503dfa62-ae03-41d9-8465-1d3437994552",
   "metadata": {},
   "outputs": [
    {
     "data": {
      "text/plain": [
       "0.7260468417317246"
      ]
     },
     "execution_count": 9,
     "metadata": {},
     "output_type": "execute_result"
    }
   ],
   "source": [
    "new_y = (new_y_pred_score>=1).reshape(-1,1)\n",
    "accuracy_threshold_1 = accuracy_score(y_val,new_y)\n",
    "accuracy_threshold_1"
   ]
  },
  {
   "cell_type": "code",
   "execution_count": 10,
   "id": "305b3328-ba56-4a3b-8ae5-d1671a24a604",
   "metadata": {},
   "outputs": [
    {
     "data": {
      "text/plain": [
       "np.float64(0.7260468417317246)"
      ]
     },
     "execution_count": 10,
     "metadata": {},
     "output_type": "execute_result"
    }
   ],
   "source": [
    "1-y_val.churn.mean()"
   ]
  },
  {
   "cell_type": "markdown",
   "id": "c91d0613-bcfb-4ca4-b551-2f3f07fb3e83",
   "metadata": {},
   "source": [
    "# 4.3 - Confusion Table"
   ]
  },
  {
   "cell_type": "code",
   "execution_count": 11,
   "id": "17fb031f-eac0-466d-8b6f-67174ccd4e0b",
   "metadata": {},
   "outputs": [],
   "source": [
    "prediction_positve = (y_pred == 1)\n",
    "prediction_negative = (y_pred==0)"
   ]
  },
  {
   "cell_type": "code",
   "execution_count": 12,
   "id": "28ea6193-107c-45fa-a8ae-f9389a42ed5a",
   "metadata": {},
   "outputs": [
    {
     "data": {
      "text/plain": [
       "array([[ True],\n",
       "       [ True],\n",
       "       [ True],\n",
       "       ...,\n",
       "       [ True],\n",
       "       [False],\n",
       "       [False]], shape=(1409, 1))"
      ]
     },
     "execution_count": 12,
     "metadata": {},
     "output_type": "execute_result"
    }
   ],
   "source": [
    "prediction_negative"
   ]
  },
  {
   "cell_type": "code",
   "execution_count": 18,
   "id": "14cac265-c3a0-4bd8-8761-cf84d457669f",
   "metadata": {},
   "outputs": [],
   "source": [
    "actual_postive = (y_val == 1)\n",
    "actual_negative = (y_val == 0)"
   ]
  },
  {
   "cell_type": "code",
   "execution_count": 19,
   "id": "529b4fb1-4d03-4d44-a268-e1fc5704e4cb",
   "metadata": {},
   "outputs": [
    {
     "data": {
      "text/html": [
       "<div>\n",
       "<style scoped>\n",
       "    .dataframe tbody tr th:only-of-type {\n",
       "        vertical-align: middle;\n",
       "    }\n",
       "\n",
       "    .dataframe tbody tr th {\n",
       "        vertical-align: top;\n",
       "    }\n",
       "\n",
       "    .dataframe thead th {\n",
       "        text-align: right;\n",
       "    }\n",
       "</style>\n",
       "<table border=\"1\" class=\"dataframe\">\n",
       "  <thead>\n",
       "    <tr style=\"text-align: right;\">\n",
       "      <th></th>\n",
       "      <th>churn</th>\n",
       "    </tr>\n",
       "  </thead>\n",
       "  <tbody>\n",
       "    <tr>\n",
       "      <th>565</th>\n",
       "      <td>True</td>\n",
       "    </tr>\n",
       "    <tr>\n",
       "      <th>199</th>\n",
       "      <td>True</td>\n",
       "    </tr>\n",
       "    <tr>\n",
       "      <th>6738</th>\n",
       "      <td>True</td>\n",
       "    </tr>\n",
       "    <tr>\n",
       "      <th>2504</th>\n",
       "      <td>False</td>\n",
       "    </tr>\n",
       "    <tr>\n",
       "      <th>556</th>\n",
       "      <td>True</td>\n",
       "    </tr>\n",
       "    <tr>\n",
       "      <th>...</th>\n",
       "      <td>...</td>\n",
       "    </tr>\n",
       "    <tr>\n",
       "      <th>5790</th>\n",
       "      <td>True</td>\n",
       "    </tr>\n",
       "    <tr>\n",
       "      <th>3834</th>\n",
       "      <td>False</td>\n",
       "    </tr>\n",
       "    <tr>\n",
       "      <th>806</th>\n",
       "      <td>True</td>\n",
       "    </tr>\n",
       "    <tr>\n",
       "      <th>6240</th>\n",
       "      <td>False</td>\n",
       "    </tr>\n",
       "    <tr>\n",
       "      <th>5282</th>\n",
       "      <td>False</td>\n",
       "    </tr>\n",
       "  </tbody>\n",
       "</table>\n",
       "<p>1409 rows × 1 columns</p>\n",
       "</div>"
      ],
      "text/plain": [
       "      churn\n",
       "565    True\n",
       "199    True\n",
       "6738   True\n",
       "2504  False\n",
       "556    True\n",
       "...     ...\n",
       "5790   True\n",
       "3834  False\n",
       "806    True\n",
       "6240  False\n",
       "5282  False\n",
       "\n",
       "[1409 rows x 1 columns]"
      ]
     },
     "execution_count": 19,
     "metadata": {},
     "output_type": "execute_result"
    }
   ],
   "source": [
    "actual_negative"
   ]
  },
  {
   "cell_type": "code",
   "execution_count": 33,
   "id": "90d62379-20bd-47a2-8e1e-c268f81ea094",
   "metadata": {},
   "outputs": [],
   "source": [
    "tp = (prediction_positve & actual_postive).sum().churn\n",
    "tn = (prediction_negative & actual_negative).sum().churn"
   ]
  },
  {
   "cell_type": "code",
   "execution_count": 34,
   "id": "990301ee-90a0-423b-a779-2dc76b2d3293",
   "metadata": {},
   "outputs": [],
   "source": [
    "fp = (prediction_positve & actual_negative).sum().churn\n",
    "fn = (prediction_negative & actual_postive).sum().churn"
   ]
  },
  {
   "cell_type": "code",
   "execution_count": 36,
   "id": "e8fa3a22-0e44-439e-8706-c7940b21e82c",
   "metadata": {},
   "outputs": [
    {
     "data": {
      "text/plain": [
       "(np.int64(214), np.int64(915), np.int64(108), np.int64(172))"
      ]
     },
     "execution_count": 36,
     "metadata": {},
     "output_type": "execute_result"
    }
   ],
   "source": [
    "tp,tn,fp,fn"
   ]
  },
  {
   "cell_type": "code",
   "execution_count": 37,
   "id": "f54a71e8-b7d6-4031-8724-32cbb88cb117",
   "metadata": {},
   "outputs": [],
   "source": [
    "confusion_matrix = np.array([[tp,fp],[fn,fp]])"
   ]
  },
  {
   "cell_type": "code",
   "execution_count": 38,
   "id": "577bd95b-5864-47e1-a1ee-64132c9ed898",
   "metadata": {},
   "outputs": [
    {
     "data": {
      "text/plain": [
       "array([[214, 108],\n",
       "       [172, 108]])"
      ]
     },
     "execution_count": 38,
     "metadata": {},
     "output_type": "execute_result"
    }
   ],
   "source": [
    "confusion_matrix"
   ]
  },
  {
   "cell_type": "code",
   "execution_count": null,
   "id": "5fa7e66c-c59f-473c-bbe4-5a1224a7d40e",
   "metadata": {},
   "outputs": [],
   "source": []
  }
 ],
 "metadata": {
  "kernelspec": {
   "display_name": "Python 3 (ipykernel)",
   "language": "python",
   "name": "python3"
  },
  "language_info": {
   "codemirror_mode": {
    "name": "ipython",
    "version": 3
   },
   "file_extension": ".py",
   "mimetype": "text/x-python",
   "name": "python",
   "nbconvert_exporter": "python",
   "pygments_lexer": "ipython3",
   "version": "3.12.1"
  }
 },
 "nbformat": 4,
 "nbformat_minor": 5
}
