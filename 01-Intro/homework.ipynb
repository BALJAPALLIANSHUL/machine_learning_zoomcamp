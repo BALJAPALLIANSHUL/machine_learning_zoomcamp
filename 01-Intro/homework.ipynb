{
 "cells": [
  {
   "cell_type": "code",
   "execution_count": 27,
   "id": "b3b53d0b-dbcb-484f-82f6-6f0406462e5c",
   "metadata": {},
   "outputs": [],
   "source": [
    "import pandas as pd\n",
    "import numpy as np"
   ]
  },
  {
   "cell_type": "markdown",
   "id": "14e922cd-5d2c-4d2a-aabe-adfe30bdac0f",
   "metadata": {},
   "source": [
    "# Q1 pandas version"
   ]
  },
  {
   "cell_type": "code",
   "execution_count": 2,
   "id": "5dedcb25-5573-424c-8c9e-ab3d45e9e46f",
   "metadata": {},
   "outputs": [
    {
     "data": {
      "text/plain": [
       "'2.3.1'"
      ]
     },
     "execution_count": 2,
     "metadata": {},
     "output_type": "execute_result"
    }
   ],
   "source": [
    "pd.__version__"
   ]
  },
  {
   "cell_type": "code",
   "execution_count": 3,
   "id": "5f26cc3e-9c2d-4c2c-aead-be158f29acb4",
   "metadata": {},
   "outputs": [],
   "source": [
    "df = pd.read_csv('car_fuel_efficiency.csv')"
   ]
  },
  {
   "cell_type": "code",
   "execution_count": 5,
   "id": "d7d07d10-87cd-4d2d-a766-13acbfea15e5",
   "metadata": {},
   "outputs": [
    {
     "data": {
      "text/plain": [
       "Index(['engine_displacement', 'num_cylinders', 'horsepower', 'vehicle_weight',\n",
       "       'acceleration', 'model_year', 'origin', 'fuel_type', 'drivetrain',\n",
       "       'num_doors', 'fuel_efficiency_mpg'],\n",
       "      dtype='object')"
      ]
     },
     "execution_count": 5,
     "metadata": {},
     "output_type": "execute_result"
    }
   ],
   "source": [
    "df.columns"
   ]
  },
  {
   "cell_type": "markdown",
   "id": "d1aa6139-9e03-49bc-81c6-898132ffd7e2",
   "metadata": {},
   "source": [
    "# Q2 Records count"
   ]
  },
  {
   "cell_type": "code",
   "execution_count": 6,
   "id": "48e9278c-e4a7-4bff-8036-d5600497751d",
   "metadata": {},
   "outputs": [
    {
     "data": {
      "text/plain": [
       "(9704, 11)"
      ]
     },
     "execution_count": 6,
     "metadata": {},
     "output_type": "execute_result"
    }
   ],
   "source": [
    "df.shape"
   ]
  },
  {
   "cell_type": "markdown",
   "id": "bfdcea19-4a98-4424-bada-1e43b89dd76c",
   "metadata": {},
   "source": [
    "# Q3 Fuel types"
   ]
  },
  {
   "cell_type": "code",
   "execution_count": 7,
   "id": "89915ba3-8831-40df-845f-101d942c84f6",
   "metadata": {},
   "outputs": [
    {
     "data": {
      "text/plain": [
       "2"
      ]
     },
     "execution_count": 7,
     "metadata": {},
     "output_type": "execute_result"
    }
   ],
   "source": [
    "df['fuel_type'].nunique()"
   ]
  },
  {
   "cell_type": "markdown",
   "id": "175c599e-8e9e-496b-96e9-cebc1ae701a2",
   "metadata": {},
   "source": [
    "# Question 4. Missing values"
   ]
  },
  {
   "cell_type": "markdown",
   "id": "2f1a17ed-9c7b-4d8a-8887-8dc9a5d6b361",
   "metadata": {},
   "source": [
    "## How many columns in the dataset have missing values?"
   ]
  },
  {
   "cell_type": "code",
   "execution_count": 8,
   "id": "883c814e-1417-4580-a6f4-d067c3d920ce",
   "metadata": {},
   "outputs": [
    {
     "data": {
      "text/plain": [
       "engine_displacement      0\n",
       "num_cylinders          482\n",
       "horsepower             708\n",
       "vehicle_weight           0\n",
       "acceleration           930\n",
       "model_year               0\n",
       "origin                   0\n",
       "fuel_type                0\n",
       "drivetrain               0\n",
       "num_doors              502\n",
       "fuel_efficiency_mpg      0\n",
       "dtype: int64"
      ]
     },
     "execution_count": 8,
     "metadata": {},
     "output_type": "execute_result"
    }
   ],
   "source": [
    "df.isna().sum()"
   ]
  },
  {
   "cell_type": "code",
   "execution_count": 9,
   "id": "50a416e6-783c-4cf6-b633-be1731fc81d1",
   "metadata": {},
   "outputs": [
    {
     "data": {
      "text/plain": [
       "np.float64(25.96722204888372)"
      ]
     },
     "execution_count": 9,
     "metadata": {},
     "output_type": "execute_result"
    }
   ],
   "source": [
    "df['fuel_efficiency_mpg'].max()"
   ]
  },
  {
   "cell_type": "markdown",
   "id": "57bfa728-a2de-4c78-adc5-30ca5a8ed45f",
   "metadata": {},
   "source": [
    "# Q5. Max fuel efficiency"
   ]
  },
  {
   "cell_type": "markdown",
   "id": "7ef53f15-f8a1-4601-8d77-f7602c1e22ff",
   "metadata": {},
   "source": [
    "## What's the maximum fuel efficiency of cars from Asia?"
   ]
  },
  {
   "cell_type": "code",
   "execution_count": 10,
   "id": "d4ce3f1a-78f8-489d-b00f-94d09a86860c",
   "metadata": {},
   "outputs": [
    {
     "data": {
      "text/plain": [
       "array(['Europe', 'USA', 'Asia'], dtype=object)"
      ]
     },
     "execution_count": 10,
     "metadata": {},
     "output_type": "execute_result"
    }
   ],
   "source": [
    "df['origin'].unique()"
   ]
  },
  {
   "cell_type": "code",
   "execution_count": 11,
   "id": "00c8eb15-8a3c-459b-bf1a-402c1eb90273",
   "metadata": {},
   "outputs": [],
   "source": [
    "cars_asia = df[df['origin']=='Asia']"
   ]
  },
  {
   "cell_type": "code",
   "execution_count": 12,
   "id": "f66c3a3f-620d-42dc-ab7a-9c1c24c0d6df",
   "metadata": {},
   "outputs": [
    {
     "data": {
      "text/plain": [
       "np.float64(23.759122836520497)"
      ]
     },
     "execution_count": 12,
     "metadata": {},
     "output_type": "execute_result"
    }
   ],
   "source": [
    "cars_asia['fuel_efficiency_mpg'].max()"
   ]
  },
  {
   "cell_type": "markdown",
   "id": "ef8aa3c1-c70c-4916-a4be-2781156dc78e",
   "metadata": {},
   "source": [
    "# Q6. Median value of horsepower"
   ]
  },
  {
   "cell_type": "markdown",
   "id": "215e7978-5019-49f9-ba2b-0850e6f291f2",
   "metadata": {},
   "source": [
    "## Find the median value of horsepower column in the dataset.\n",
    "## Next, calculate the most frequent value of the same horsepower column.\n",
    "## Use fillna method to fill the missing values in horsepower column with the most frequent value from the previous step.\n",
    "## Now, calculate the median value of horsepower once again"
   ]
  },
  {
   "cell_type": "code",
   "execution_count": 13,
   "id": "744cbd7b-dcf9-4f48-b1e5-f67ddfc0121e",
   "metadata": {},
   "outputs": [
    {
     "data": {
      "text/html": [
       "<div>\n",
       "<style scoped>\n",
       "    .dataframe tbody tr th:only-of-type {\n",
       "        vertical-align: middle;\n",
       "    }\n",
       "\n",
       "    .dataframe tbody tr th {\n",
       "        vertical-align: top;\n",
       "    }\n",
       "\n",
       "    .dataframe thead th {\n",
       "        text-align: right;\n",
       "    }\n",
       "</style>\n",
       "<table border=\"1\" class=\"dataframe\">\n",
       "  <thead>\n",
       "    <tr style=\"text-align: right;\">\n",
       "      <th></th>\n",
       "      <th>engine_displacement</th>\n",
       "      <th>num_cylinders</th>\n",
       "      <th>horsepower</th>\n",
       "      <th>vehicle_weight</th>\n",
       "      <th>acceleration</th>\n",
       "      <th>model_year</th>\n",
       "      <th>num_doors</th>\n",
       "      <th>fuel_efficiency_mpg</th>\n",
       "    </tr>\n",
       "  </thead>\n",
       "  <tbody>\n",
       "    <tr>\n",
       "      <th>count</th>\n",
       "      <td>9704.000000</td>\n",
       "      <td>9222.000000</td>\n",
       "      <td>8996.000000</td>\n",
       "      <td>9704.000000</td>\n",
       "      <td>8774.000000</td>\n",
       "      <td>9704.000000</td>\n",
       "      <td>9202.000000</td>\n",
       "      <td>9704.000000</td>\n",
       "    </tr>\n",
       "    <tr>\n",
       "      <th>mean</th>\n",
       "      <td>199.708368</td>\n",
       "      <td>3.962481</td>\n",
       "      <td>149.657292</td>\n",
       "      <td>3001.280993</td>\n",
       "      <td>15.021928</td>\n",
       "      <td>2011.484027</td>\n",
       "      <td>-0.006412</td>\n",
       "      <td>14.985243</td>\n",
       "    </tr>\n",
       "    <tr>\n",
       "      <th>std</th>\n",
       "      <td>49.455319</td>\n",
       "      <td>1.999323</td>\n",
       "      <td>29.879555</td>\n",
       "      <td>497.894860</td>\n",
       "      <td>2.510339</td>\n",
       "      <td>6.659808</td>\n",
       "      <td>1.048162</td>\n",
       "      <td>2.556468</td>\n",
       "    </tr>\n",
       "    <tr>\n",
       "      <th>min</th>\n",
       "      <td>10.000000</td>\n",
       "      <td>0.000000</td>\n",
       "      <td>37.000000</td>\n",
       "      <td>952.681761</td>\n",
       "      <td>6.000000</td>\n",
       "      <td>2000.000000</td>\n",
       "      <td>-4.000000</td>\n",
       "      <td>6.200971</td>\n",
       "    </tr>\n",
       "    <tr>\n",
       "      <th>25%</th>\n",
       "      <td>170.000000</td>\n",
       "      <td>3.000000</td>\n",
       "      <td>130.000000</td>\n",
       "      <td>2666.248985</td>\n",
       "      <td>13.300000</td>\n",
       "      <td>2006.000000</td>\n",
       "      <td>-1.000000</td>\n",
       "      <td>13.267459</td>\n",
       "    </tr>\n",
       "    <tr>\n",
       "      <th>50%</th>\n",
       "      <td>200.000000</td>\n",
       "      <td>4.000000</td>\n",
       "      <td>149.000000</td>\n",
       "      <td>2993.226296</td>\n",
       "      <td>15.000000</td>\n",
       "      <td>2012.000000</td>\n",
       "      <td>0.000000</td>\n",
       "      <td>15.006037</td>\n",
       "    </tr>\n",
       "    <tr>\n",
       "      <th>75%</th>\n",
       "      <td>230.000000</td>\n",
       "      <td>5.000000</td>\n",
       "      <td>170.000000</td>\n",
       "      <td>3334.957039</td>\n",
       "      <td>16.700000</td>\n",
       "      <td>2017.000000</td>\n",
       "      <td>1.000000</td>\n",
       "      <td>16.707965</td>\n",
       "    </tr>\n",
       "    <tr>\n",
       "      <th>max</th>\n",
       "      <td>380.000000</td>\n",
       "      <td>13.000000</td>\n",
       "      <td>271.000000</td>\n",
       "      <td>4739.077089</td>\n",
       "      <td>24.300000</td>\n",
       "      <td>2023.000000</td>\n",
       "      <td>4.000000</td>\n",
       "      <td>25.967222</td>\n",
       "    </tr>\n",
       "  </tbody>\n",
       "</table>\n",
       "</div>"
      ],
      "text/plain": [
       "       engine_displacement  num_cylinders   horsepower  vehicle_weight  \\\n",
       "count          9704.000000    9222.000000  8996.000000     9704.000000   \n",
       "mean            199.708368       3.962481   149.657292     3001.280993   \n",
       "std              49.455319       1.999323    29.879555      497.894860   \n",
       "min              10.000000       0.000000    37.000000      952.681761   \n",
       "25%             170.000000       3.000000   130.000000     2666.248985   \n",
       "50%             200.000000       4.000000   149.000000     2993.226296   \n",
       "75%             230.000000       5.000000   170.000000     3334.957039   \n",
       "max             380.000000      13.000000   271.000000     4739.077089   \n",
       "\n",
       "       acceleration   model_year    num_doors  fuel_efficiency_mpg  \n",
       "count   8774.000000  9704.000000  9202.000000          9704.000000  \n",
       "mean      15.021928  2011.484027    -0.006412            14.985243  \n",
       "std        2.510339     6.659808     1.048162             2.556468  \n",
       "min        6.000000  2000.000000    -4.000000             6.200971  \n",
       "25%       13.300000  2006.000000    -1.000000            13.267459  \n",
       "50%       15.000000  2012.000000     0.000000            15.006037  \n",
       "75%       16.700000  2017.000000     1.000000            16.707965  \n",
       "max       24.300000  2023.000000     4.000000            25.967222  "
      ]
     },
     "execution_count": 13,
     "metadata": {},
     "output_type": "execute_result"
    }
   ],
   "source": [
    "df.describe()"
   ]
  },
  {
   "cell_type": "code",
   "execution_count": 14,
   "id": "5c19adcc-2527-4759-b86b-791dc52ffef9",
   "metadata": {},
   "outputs": [],
   "source": [
    "median_horsepower = df['horsepower'].median()"
   ]
  },
  {
   "cell_type": "code",
   "execution_count": 15,
   "id": "39a0413f-95b6-4826-8a95-596da30a6d98",
   "metadata": {},
   "outputs": [
    {
     "data": {
      "text/plain": [
       "np.float64(149.0)"
      ]
     },
     "execution_count": 15,
     "metadata": {},
     "output_type": "execute_result"
    }
   ],
   "source": [
    "median_horsepower"
   ]
  },
  {
   "cell_type": "code",
   "execution_count": 16,
   "id": "193eedf6-a3be-485b-8894-371419d0291f",
   "metadata": {},
   "outputs": [],
   "source": [
    "mode_horsepower = df['horsepower'].mode()"
   ]
  },
  {
   "cell_type": "code",
   "execution_count": 17,
   "id": "0a27bd8f-f9e7-4bdf-8db1-5121f29b862e",
   "metadata": {},
   "outputs": [
    {
     "data": {
      "text/plain": [
       "0    152.0\n",
       "Name: horsepower, dtype: float64"
      ]
     },
     "execution_count": 17,
     "metadata": {},
     "output_type": "execute_result"
    }
   ],
   "source": [
    "mode_horsepower"
   ]
  },
  {
   "cell_type": "code",
   "execution_count": 18,
   "id": "ef2ca800-021a-4449-8c7d-46254411a4bf",
   "metadata": {},
   "outputs": [],
   "source": [
    "df['horsepower'] =df['horsepower'].fillna(mode_horsepower[0])"
   ]
  },
  {
   "cell_type": "code",
   "execution_count": 19,
   "id": "1f201e24-d9df-4a7c-98c1-ea3a24f1e092",
   "metadata": {},
   "outputs": [
    {
     "data": {
      "text/plain": [
       "np.int64(0)"
      ]
     },
     "execution_count": 19,
     "metadata": {},
     "output_type": "execute_result"
    }
   ],
   "source": [
    "df['horsepower'].isna().sum()"
   ]
  },
  {
   "cell_type": "code",
   "execution_count": 20,
   "id": "f26ce86d-242f-4b5a-ad78-b7661afa6793",
   "metadata": {},
   "outputs": [
    {
     "data": {
      "text/plain": [
       "np.float64(152.0)"
      ]
     },
     "execution_count": 20,
     "metadata": {},
     "output_type": "execute_result"
    }
   ],
   "source": [
    "df['horsepower'].median()"
   ]
  },
  {
   "cell_type": "markdown",
   "id": "520e5ac2-d98a-41c5-be2b-b6f4e18e3fe5",
   "metadata": {},
   "source": [
    "# Q7. Sum of weights\n",
    "## Select all the cars from Asia\n",
    "## Select only columns vehicle_weight and model_year\n",
    "## Select the first 7 values\n",
    "## Get the underlying NumPy array. Let's call it X.\n",
    "## Compute matrix-matrix multiplication between the transpose of X and X. To get the transpose, use X.T. Let's call the result XTX.\n",
    "## Invert XTX.\n",
    "## Create an array y with values [1100, 1300, 800, 900, 1000, 1100, 1200].\n",
    "## Multiply the inverse of XTX with the transpose of X, and then multiply the result by y. Call the result w.\n",
    "## What's the sum of all the elements of the result?\n",
    "## Note: You just implemented linear regression. We'll talk about it in the next lesson."
   ]
  },
  {
   "cell_type": "code",
   "execution_count": 21,
   "id": "e0364e91-ce5d-4743-8c8a-951af91c9c74",
   "metadata": {},
   "outputs": [],
   "source": [
    "asia_cars_weight_modelyear = cars_asia[['vehicle_weight','model_year']]"
   ]
  },
  {
   "cell_type": "code",
   "execution_count": 22,
   "id": "6b059a47-5dbb-4221-b419-4d3b3246a057",
   "metadata": {},
   "outputs": [],
   "source": [
    "subset_cars_weights_modelyear = asia_cars_weight_modelyear.head(7)"
   ]
  },
  {
   "cell_type": "code",
   "execution_count": 23,
   "id": "dec02802-e9ce-4622-bf64-f20862e3e54f",
   "metadata": {},
   "outputs": [],
   "source": [
    "X = subset_cars_weights_modelyear.to_numpy()"
   ]
  },
  {
   "cell_type": "code",
   "execution_count": 32,
   "id": "6b5dea17-9f5b-4fff-b9bd-8ec4c20b2b61",
   "metadata": {},
   "outputs": [],
   "source": [
    "XTX =X.T @ X"
   ]
  },
  {
   "cell_type": "code",
   "execution_count": 33,
   "id": "52ccda5d-04b6-4b6c-966d-8fdf2b0ea816",
   "metadata": {},
   "outputs": [
    {
     "data": {
      "text/plain": [
       "array([[62248334.33150762, 41431216.5073268 ],\n",
       "       [41431216.5073268 , 28373339.        ]])"
      ]
     },
     "execution_count": 33,
     "metadata": {},
     "output_type": "execute_result"
    }
   ],
   "source": [
    "XTX"
   ]
  },
  {
   "cell_type": "code",
   "execution_count": 34,
   "id": "83bda90f-e5b3-4bda-9743-dc237d24a236",
   "metadata": {},
   "outputs": [],
   "source": [
    "inverted_XTX = np.linalg.inv(XTX)"
   ]
  },
  {
   "cell_type": "code",
   "execution_count": 36,
   "id": "d059de28-6806-4bd6-8598-9fab59363e1c",
   "metadata": {},
   "outputs": [],
   "source": [
    "y = [1100, 1300, 800, 900, 1000, 1100, 1200]"
   ]
  },
  {
   "cell_type": "code",
   "execution_count": 37,
   "id": "0d616742-30db-45d3-9caa-6cbf55d868eb",
   "metadata": {},
   "outputs": [],
   "source": [
    "w = (inverted_XTX@X.T)@y"
   ]
  },
  {
   "cell_type": "code",
   "execution_count": 39,
   "id": "81499d10-fcea-4b12-aaf2-4e57e1390028",
   "metadata": {},
   "outputs": [
    {
     "data": {
      "text/plain": [
       "np.float64(0.5187709081074016)"
      ]
     },
     "execution_count": 39,
     "metadata": {},
     "output_type": "execute_result"
    }
   ],
   "source": [
    "w.sum()"
   ]
  },
  {
   "cell_type": "code",
   "execution_count": null,
   "id": "402404eb-d020-4ace-9cbc-87e09e20a4a3",
   "metadata": {},
   "outputs": [],
   "source": []
  }
 ],
 "metadata": {
  "kernelspec": {
   "display_name": "Python 3 (ipykernel)",
   "language": "python",
   "name": "python3"
  },
  "language_info": {
   "codemirror_mode": {
    "name": "ipython",
    "version": 3
   },
   "file_extension": ".py",
   "mimetype": "text/x-python",
   "name": "python",
   "nbconvert_exporter": "python",
   "pygments_lexer": "ipython3",
   "version": "3.12.1"
  }
 },
 "nbformat": 4,
 "nbformat_minor": 5
}
