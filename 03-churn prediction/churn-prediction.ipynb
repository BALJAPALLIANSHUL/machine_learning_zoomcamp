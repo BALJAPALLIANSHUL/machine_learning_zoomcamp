{
 "cells": [
  {
   "cell_type": "code",
   "execution_count": 1,
   "id": "0cbc213a-02b7-4c6d-ac8a-49837294d2c0",
   "metadata": {},
   "outputs": [],
   "source": [
    "#!pip install kagglehub[pandas-datasets]"
   ]
  },
  {
   "cell_type": "code",
   "execution_count": 2,
   "id": "3595f9da-fffc-46d8-840d-705e23b764ef",
   "metadata": {},
   "outputs": [],
   "source": [
    "import pandas as pd\n",
    "import numpy as np"
   ]
  },
  {
   "cell_type": "markdown",
   "id": "d4a643cf-fc92-42a1-ae0f-592f516ea76b",
   "metadata": {},
   "source": [
    "# 3.1 Download and overview of data"
   ]
  },
  {
   "cell_type": "raw",
   "id": "d12a3598-aa3f-4939-a5b2-0a03926c9177",
   "metadata": {},
   "source": [
    "import kagglehub\n",
    "\n",
    "# Download latest version\n",
    "path = kagglehub.dataset_download(\"blastchar/telco-customer-churn\")\n",
    "\n",
    "print(\"Path to dataset files:\", path)"
   ]
  },
  {
   "cell_type": "code",
   "execution_count": 3,
   "id": "e0cf136b-befb-41f8-8944-4f70199f0568",
   "metadata": {},
   "outputs": [
    {
     "name": "stdout",
     "output_type": "stream",
     "text": [
      "mv: cannot stat '/home/codespace/.cache/kagglehub/datasets/blastchar/telco-customer-churn/versions/1/WA_Fn-UseC_-Telco-Customer-Churn.csv': No such file or directory\n"
     ]
    }
   ],
   "source": [
    "!mv \"/home/codespace/.cache/kagglehub/datasets/blastchar/telco-customer-churn/versions/1/WA_Fn-UseC_-Telco-Customer-Churn.csv\" ."
   ]
  },
  {
   "cell_type": "code",
   "execution_count": 4,
   "id": "36db2136-1778-413f-87e5-9597d732a0ba",
   "metadata": {},
   "outputs": [],
   "source": [
    "df = pd.read_csv('WA_Fn-UseC_-Telco-Customer-Churn.csv')"
   ]
  },
  {
   "cell_type": "code",
   "execution_count": 5,
   "id": "e8df5926-3405-4300-99d3-2ec2a256e095",
   "metadata": {},
   "outputs": [
    {
     "data": {
      "text/html": [
       "<div>\n",
       "<style scoped>\n",
       "    .dataframe tbody tr th:only-of-type {\n",
       "        vertical-align: middle;\n",
       "    }\n",
       "\n",
       "    .dataframe tbody tr th {\n",
       "        vertical-align: top;\n",
       "    }\n",
       "\n",
       "    .dataframe thead th {\n",
       "        text-align: right;\n",
       "    }\n",
       "</style>\n",
       "<table border=\"1\" class=\"dataframe\">\n",
       "  <thead>\n",
       "    <tr style=\"text-align: right;\">\n",
       "      <th></th>\n",
       "      <th>customerID</th>\n",
       "      <th>gender</th>\n",
       "      <th>SeniorCitizen</th>\n",
       "      <th>Partner</th>\n",
       "      <th>Dependents</th>\n",
       "      <th>tenure</th>\n",
       "      <th>PhoneService</th>\n",
       "      <th>MultipleLines</th>\n",
       "      <th>InternetService</th>\n",
       "      <th>OnlineSecurity</th>\n",
       "      <th>...</th>\n",
       "      <th>DeviceProtection</th>\n",
       "      <th>TechSupport</th>\n",
       "      <th>StreamingTV</th>\n",
       "      <th>StreamingMovies</th>\n",
       "      <th>Contract</th>\n",
       "      <th>PaperlessBilling</th>\n",
       "      <th>PaymentMethod</th>\n",
       "      <th>MonthlyCharges</th>\n",
       "      <th>TotalCharges</th>\n",
       "      <th>Churn</th>\n",
       "    </tr>\n",
       "  </thead>\n",
       "  <tbody>\n",
       "    <tr>\n",
       "      <th>0</th>\n",
       "      <td>7590-VHVEG</td>\n",
       "      <td>Female</td>\n",
       "      <td>0</td>\n",
       "      <td>Yes</td>\n",
       "      <td>No</td>\n",
       "      <td>1</td>\n",
       "      <td>No</td>\n",
       "      <td>No phone service</td>\n",
       "      <td>DSL</td>\n",
       "      <td>No</td>\n",
       "      <td>...</td>\n",
       "      <td>No</td>\n",
       "      <td>No</td>\n",
       "      <td>No</td>\n",
       "      <td>No</td>\n",
       "      <td>Month-to-month</td>\n",
       "      <td>Yes</td>\n",
       "      <td>Electronic check</td>\n",
       "      <td>29.85</td>\n",
       "      <td>29.85</td>\n",
       "      <td>No</td>\n",
       "    </tr>\n",
       "    <tr>\n",
       "      <th>1</th>\n",
       "      <td>5575-GNVDE</td>\n",
       "      <td>Male</td>\n",
       "      <td>0</td>\n",
       "      <td>No</td>\n",
       "      <td>No</td>\n",
       "      <td>34</td>\n",
       "      <td>Yes</td>\n",
       "      <td>No</td>\n",
       "      <td>DSL</td>\n",
       "      <td>Yes</td>\n",
       "      <td>...</td>\n",
       "      <td>Yes</td>\n",
       "      <td>No</td>\n",
       "      <td>No</td>\n",
       "      <td>No</td>\n",
       "      <td>One year</td>\n",
       "      <td>No</td>\n",
       "      <td>Mailed check</td>\n",
       "      <td>56.95</td>\n",
       "      <td>1889.5</td>\n",
       "      <td>No</td>\n",
       "    </tr>\n",
       "    <tr>\n",
       "      <th>2</th>\n",
       "      <td>3668-QPYBK</td>\n",
       "      <td>Male</td>\n",
       "      <td>0</td>\n",
       "      <td>No</td>\n",
       "      <td>No</td>\n",
       "      <td>2</td>\n",
       "      <td>Yes</td>\n",
       "      <td>No</td>\n",
       "      <td>DSL</td>\n",
       "      <td>Yes</td>\n",
       "      <td>...</td>\n",
       "      <td>No</td>\n",
       "      <td>No</td>\n",
       "      <td>No</td>\n",
       "      <td>No</td>\n",
       "      <td>Month-to-month</td>\n",
       "      <td>Yes</td>\n",
       "      <td>Mailed check</td>\n",
       "      <td>53.85</td>\n",
       "      <td>108.15</td>\n",
       "      <td>Yes</td>\n",
       "    </tr>\n",
       "    <tr>\n",
       "      <th>3</th>\n",
       "      <td>7795-CFOCW</td>\n",
       "      <td>Male</td>\n",
       "      <td>0</td>\n",
       "      <td>No</td>\n",
       "      <td>No</td>\n",
       "      <td>45</td>\n",
       "      <td>No</td>\n",
       "      <td>No phone service</td>\n",
       "      <td>DSL</td>\n",
       "      <td>Yes</td>\n",
       "      <td>...</td>\n",
       "      <td>Yes</td>\n",
       "      <td>Yes</td>\n",
       "      <td>No</td>\n",
       "      <td>No</td>\n",
       "      <td>One year</td>\n",
       "      <td>No</td>\n",
       "      <td>Bank transfer (automatic)</td>\n",
       "      <td>42.30</td>\n",
       "      <td>1840.75</td>\n",
       "      <td>No</td>\n",
       "    </tr>\n",
       "    <tr>\n",
       "      <th>4</th>\n",
       "      <td>9237-HQITU</td>\n",
       "      <td>Female</td>\n",
       "      <td>0</td>\n",
       "      <td>No</td>\n",
       "      <td>No</td>\n",
       "      <td>2</td>\n",
       "      <td>Yes</td>\n",
       "      <td>No</td>\n",
       "      <td>Fiber optic</td>\n",
       "      <td>No</td>\n",
       "      <td>...</td>\n",
       "      <td>No</td>\n",
       "      <td>No</td>\n",
       "      <td>No</td>\n",
       "      <td>No</td>\n",
       "      <td>Month-to-month</td>\n",
       "      <td>Yes</td>\n",
       "      <td>Electronic check</td>\n",
       "      <td>70.70</td>\n",
       "      <td>151.65</td>\n",
       "      <td>Yes</td>\n",
       "    </tr>\n",
       "  </tbody>\n",
       "</table>\n",
       "<p>5 rows × 21 columns</p>\n",
       "</div>"
      ],
      "text/plain": [
       "   customerID  gender  SeniorCitizen Partner Dependents  tenure PhoneService  \\\n",
       "0  7590-VHVEG  Female              0     Yes         No       1           No   \n",
       "1  5575-GNVDE    Male              0      No         No      34          Yes   \n",
       "2  3668-QPYBK    Male              0      No         No       2          Yes   \n",
       "3  7795-CFOCW    Male              0      No         No      45           No   \n",
       "4  9237-HQITU  Female              0      No         No       2          Yes   \n",
       "\n",
       "      MultipleLines InternetService OnlineSecurity  ... DeviceProtection  \\\n",
       "0  No phone service             DSL             No  ...               No   \n",
       "1                No             DSL            Yes  ...              Yes   \n",
       "2                No             DSL            Yes  ...               No   \n",
       "3  No phone service             DSL            Yes  ...              Yes   \n",
       "4                No     Fiber optic             No  ...               No   \n",
       "\n",
       "  TechSupport StreamingTV StreamingMovies        Contract PaperlessBilling  \\\n",
       "0          No          No              No  Month-to-month              Yes   \n",
       "1          No          No              No        One year               No   \n",
       "2          No          No              No  Month-to-month              Yes   \n",
       "3         Yes          No              No        One year               No   \n",
       "4          No          No              No  Month-to-month              Yes   \n",
       "\n",
       "               PaymentMethod MonthlyCharges  TotalCharges Churn  \n",
       "0           Electronic check          29.85         29.85    No  \n",
       "1               Mailed check          56.95        1889.5    No  \n",
       "2               Mailed check          53.85        108.15   Yes  \n",
       "3  Bank transfer (automatic)          42.30       1840.75    No  \n",
       "4           Electronic check          70.70        151.65   Yes  \n",
       "\n",
       "[5 rows x 21 columns]"
      ]
     },
     "execution_count": 5,
     "metadata": {},
     "output_type": "execute_result"
    }
   ],
   "source": [
    "df.head()"
   ]
  },
  {
   "cell_type": "markdown",
   "id": "dc1146fa-4330-428b-83eb-b9f86edef3ff",
   "metadata": {},
   "source": [
    "# 3.2 Data preparation"
   ]
  },
  {
   "cell_type": "code",
   "execution_count": 6,
   "id": "45c5f068-fc4b-4a8f-aa92-ee1256ec0db0",
   "metadata": {},
   "outputs": [
    {
     "data": {
      "text/html": [
       "<div>\n",
       "<style scoped>\n",
       "    .dataframe tbody tr th:only-of-type {\n",
       "        vertical-align: middle;\n",
       "    }\n",
       "\n",
       "    .dataframe tbody tr th {\n",
       "        vertical-align: top;\n",
       "    }\n",
       "\n",
       "    .dataframe thead th {\n",
       "        text-align: right;\n",
       "    }\n",
       "</style>\n",
       "<table border=\"1\" class=\"dataframe\">\n",
       "  <thead>\n",
       "    <tr style=\"text-align: right;\">\n",
       "      <th></th>\n",
       "      <th>0</th>\n",
       "      <th>1</th>\n",
       "      <th>2</th>\n",
       "      <th>3</th>\n",
       "      <th>4</th>\n",
       "    </tr>\n",
       "  </thead>\n",
       "  <tbody>\n",
       "    <tr>\n",
       "      <th>customerID</th>\n",
       "      <td>7590-VHVEG</td>\n",
       "      <td>5575-GNVDE</td>\n",
       "      <td>3668-QPYBK</td>\n",
       "      <td>7795-CFOCW</td>\n",
       "      <td>9237-HQITU</td>\n",
       "    </tr>\n",
       "    <tr>\n",
       "      <th>gender</th>\n",
       "      <td>Female</td>\n",
       "      <td>Male</td>\n",
       "      <td>Male</td>\n",
       "      <td>Male</td>\n",
       "      <td>Female</td>\n",
       "    </tr>\n",
       "    <tr>\n",
       "      <th>SeniorCitizen</th>\n",
       "      <td>0</td>\n",
       "      <td>0</td>\n",
       "      <td>0</td>\n",
       "      <td>0</td>\n",
       "      <td>0</td>\n",
       "    </tr>\n",
       "    <tr>\n",
       "      <th>Partner</th>\n",
       "      <td>Yes</td>\n",
       "      <td>No</td>\n",
       "      <td>No</td>\n",
       "      <td>No</td>\n",
       "      <td>No</td>\n",
       "    </tr>\n",
       "    <tr>\n",
       "      <th>Dependents</th>\n",
       "      <td>No</td>\n",
       "      <td>No</td>\n",
       "      <td>No</td>\n",
       "      <td>No</td>\n",
       "      <td>No</td>\n",
       "    </tr>\n",
       "    <tr>\n",
       "      <th>tenure</th>\n",
       "      <td>1</td>\n",
       "      <td>34</td>\n",
       "      <td>2</td>\n",
       "      <td>45</td>\n",
       "      <td>2</td>\n",
       "    </tr>\n",
       "    <tr>\n",
       "      <th>PhoneService</th>\n",
       "      <td>No</td>\n",
       "      <td>Yes</td>\n",
       "      <td>Yes</td>\n",
       "      <td>No</td>\n",
       "      <td>Yes</td>\n",
       "    </tr>\n",
       "    <tr>\n",
       "      <th>MultipleLines</th>\n",
       "      <td>No phone service</td>\n",
       "      <td>No</td>\n",
       "      <td>No</td>\n",
       "      <td>No phone service</td>\n",
       "      <td>No</td>\n",
       "    </tr>\n",
       "    <tr>\n",
       "      <th>InternetService</th>\n",
       "      <td>DSL</td>\n",
       "      <td>DSL</td>\n",
       "      <td>DSL</td>\n",
       "      <td>DSL</td>\n",
       "      <td>Fiber optic</td>\n",
       "    </tr>\n",
       "    <tr>\n",
       "      <th>OnlineSecurity</th>\n",
       "      <td>No</td>\n",
       "      <td>Yes</td>\n",
       "      <td>Yes</td>\n",
       "      <td>Yes</td>\n",
       "      <td>No</td>\n",
       "    </tr>\n",
       "    <tr>\n",
       "      <th>OnlineBackup</th>\n",
       "      <td>Yes</td>\n",
       "      <td>No</td>\n",
       "      <td>Yes</td>\n",
       "      <td>No</td>\n",
       "      <td>No</td>\n",
       "    </tr>\n",
       "    <tr>\n",
       "      <th>DeviceProtection</th>\n",
       "      <td>No</td>\n",
       "      <td>Yes</td>\n",
       "      <td>No</td>\n",
       "      <td>Yes</td>\n",
       "      <td>No</td>\n",
       "    </tr>\n",
       "    <tr>\n",
       "      <th>TechSupport</th>\n",
       "      <td>No</td>\n",
       "      <td>No</td>\n",
       "      <td>No</td>\n",
       "      <td>Yes</td>\n",
       "      <td>No</td>\n",
       "    </tr>\n",
       "    <tr>\n",
       "      <th>StreamingTV</th>\n",
       "      <td>No</td>\n",
       "      <td>No</td>\n",
       "      <td>No</td>\n",
       "      <td>No</td>\n",
       "      <td>No</td>\n",
       "    </tr>\n",
       "    <tr>\n",
       "      <th>StreamingMovies</th>\n",
       "      <td>No</td>\n",
       "      <td>No</td>\n",
       "      <td>No</td>\n",
       "      <td>No</td>\n",
       "      <td>No</td>\n",
       "    </tr>\n",
       "    <tr>\n",
       "      <th>Contract</th>\n",
       "      <td>Month-to-month</td>\n",
       "      <td>One year</td>\n",
       "      <td>Month-to-month</td>\n",
       "      <td>One year</td>\n",
       "      <td>Month-to-month</td>\n",
       "    </tr>\n",
       "    <tr>\n",
       "      <th>PaperlessBilling</th>\n",
       "      <td>Yes</td>\n",
       "      <td>No</td>\n",
       "      <td>Yes</td>\n",
       "      <td>No</td>\n",
       "      <td>Yes</td>\n",
       "    </tr>\n",
       "    <tr>\n",
       "      <th>PaymentMethod</th>\n",
       "      <td>Electronic check</td>\n",
       "      <td>Mailed check</td>\n",
       "      <td>Mailed check</td>\n",
       "      <td>Bank transfer (automatic)</td>\n",
       "      <td>Electronic check</td>\n",
       "    </tr>\n",
       "    <tr>\n",
       "      <th>MonthlyCharges</th>\n",
       "      <td>29.85</td>\n",
       "      <td>56.95</td>\n",
       "      <td>53.85</td>\n",
       "      <td>42.3</td>\n",
       "      <td>70.7</td>\n",
       "    </tr>\n",
       "    <tr>\n",
       "      <th>TotalCharges</th>\n",
       "      <td>29.85</td>\n",
       "      <td>1889.5</td>\n",
       "      <td>108.15</td>\n",
       "      <td>1840.75</td>\n",
       "      <td>151.65</td>\n",
       "    </tr>\n",
       "    <tr>\n",
       "      <th>Churn</th>\n",
       "      <td>No</td>\n",
       "      <td>No</td>\n",
       "      <td>Yes</td>\n",
       "      <td>No</td>\n",
       "      <td>Yes</td>\n",
       "    </tr>\n",
       "  </tbody>\n",
       "</table>\n",
       "</div>"
      ],
      "text/plain": [
       "                                 0             1               2  \\\n",
       "customerID              7590-VHVEG    5575-GNVDE      3668-QPYBK   \n",
       "gender                      Female          Male            Male   \n",
       "SeniorCitizen                    0             0               0   \n",
       "Partner                        Yes            No              No   \n",
       "Dependents                      No            No              No   \n",
       "tenure                           1            34               2   \n",
       "PhoneService                    No           Yes             Yes   \n",
       "MultipleLines     No phone service            No              No   \n",
       "InternetService                DSL           DSL             DSL   \n",
       "OnlineSecurity                  No           Yes             Yes   \n",
       "OnlineBackup                   Yes            No             Yes   \n",
       "DeviceProtection                No           Yes              No   \n",
       "TechSupport                     No            No              No   \n",
       "StreamingTV                     No            No              No   \n",
       "StreamingMovies                 No            No              No   \n",
       "Contract            Month-to-month      One year  Month-to-month   \n",
       "PaperlessBilling               Yes            No             Yes   \n",
       "PaymentMethod     Electronic check  Mailed check    Mailed check   \n",
       "MonthlyCharges               29.85         56.95           53.85   \n",
       "TotalCharges                 29.85        1889.5          108.15   \n",
       "Churn                           No            No             Yes   \n",
       "\n",
       "                                          3                 4  \n",
       "customerID                       7795-CFOCW        9237-HQITU  \n",
       "gender                                 Male            Female  \n",
       "SeniorCitizen                             0                 0  \n",
       "Partner                                  No                No  \n",
       "Dependents                               No                No  \n",
       "tenure                                   45                 2  \n",
       "PhoneService                             No               Yes  \n",
       "MultipleLines              No phone service                No  \n",
       "InternetService                         DSL       Fiber optic  \n",
       "OnlineSecurity                          Yes                No  \n",
       "OnlineBackup                             No                No  \n",
       "DeviceProtection                        Yes                No  \n",
       "TechSupport                             Yes                No  \n",
       "StreamingTV                              No                No  \n",
       "StreamingMovies                          No                No  \n",
       "Contract                           One year    Month-to-month  \n",
       "PaperlessBilling                         No               Yes  \n",
       "PaymentMethod     Bank transfer (automatic)  Electronic check  \n",
       "MonthlyCharges                         42.3              70.7  \n",
       "TotalCharges                        1840.75            151.65  \n",
       "Churn                                    No               Yes  "
      ]
     },
     "execution_count": 6,
     "metadata": {},
     "output_type": "execute_result"
    }
   ],
   "source": [
    "df.head().T"
   ]
  },
  {
   "cell_type": "markdown",
   "id": "ff42b9a9-1fdd-4be4-8a82-2d97fe1f107c",
   "metadata": {},
   "source": [
    "### Normalize column names"
   ]
  },
  {
   "cell_type": "code",
   "execution_count": 7,
   "id": "bb4785bb-4897-4d20-8842-1c91309379a5",
   "metadata": {},
   "outputs": [
    {
     "data": {
      "text/html": [
       "<div>\n",
       "<style scoped>\n",
       "    .dataframe tbody tr th:only-of-type {\n",
       "        vertical-align: middle;\n",
       "    }\n",
       "\n",
       "    .dataframe tbody tr th {\n",
       "        vertical-align: top;\n",
       "    }\n",
       "\n",
       "    .dataframe thead th {\n",
       "        text-align: right;\n",
       "    }\n",
       "</style>\n",
       "<table border=\"1\" class=\"dataframe\">\n",
       "  <thead>\n",
       "    <tr style=\"text-align: right;\">\n",
       "      <th></th>\n",
       "      <th>0</th>\n",
       "      <th>1</th>\n",
       "      <th>2</th>\n",
       "      <th>3</th>\n",
       "      <th>4</th>\n",
       "    </tr>\n",
       "  </thead>\n",
       "  <tbody>\n",
       "    <tr>\n",
       "      <th>customerid</th>\n",
       "      <td>7590-vhveg</td>\n",
       "      <td>5575-gnvde</td>\n",
       "      <td>3668-qpybk</td>\n",
       "      <td>7795-cfocw</td>\n",
       "      <td>9237-hqitu</td>\n",
       "    </tr>\n",
       "    <tr>\n",
       "      <th>gender</th>\n",
       "      <td>female</td>\n",
       "      <td>male</td>\n",
       "      <td>male</td>\n",
       "      <td>male</td>\n",
       "      <td>female</td>\n",
       "    </tr>\n",
       "    <tr>\n",
       "      <th>seniorcitizen</th>\n",
       "      <td>0</td>\n",
       "      <td>0</td>\n",
       "      <td>0</td>\n",
       "      <td>0</td>\n",
       "      <td>0</td>\n",
       "    </tr>\n",
       "    <tr>\n",
       "      <th>partner</th>\n",
       "      <td>yes</td>\n",
       "      <td>no</td>\n",
       "      <td>no</td>\n",
       "      <td>no</td>\n",
       "      <td>no</td>\n",
       "    </tr>\n",
       "    <tr>\n",
       "      <th>dependents</th>\n",
       "      <td>no</td>\n",
       "      <td>no</td>\n",
       "      <td>no</td>\n",
       "      <td>no</td>\n",
       "      <td>no</td>\n",
       "    </tr>\n",
       "    <tr>\n",
       "      <th>tenure</th>\n",
       "      <td>1</td>\n",
       "      <td>34</td>\n",
       "      <td>2</td>\n",
       "      <td>45</td>\n",
       "      <td>2</td>\n",
       "    </tr>\n",
       "    <tr>\n",
       "      <th>phoneservice</th>\n",
       "      <td>no</td>\n",
       "      <td>yes</td>\n",
       "      <td>yes</td>\n",
       "      <td>no</td>\n",
       "      <td>yes</td>\n",
       "    </tr>\n",
       "    <tr>\n",
       "      <th>multiplelines</th>\n",
       "      <td>no_phone_service</td>\n",
       "      <td>no</td>\n",
       "      <td>no</td>\n",
       "      <td>no_phone_service</td>\n",
       "      <td>no</td>\n",
       "    </tr>\n",
       "    <tr>\n",
       "      <th>internetservice</th>\n",
       "      <td>dsl</td>\n",
       "      <td>dsl</td>\n",
       "      <td>dsl</td>\n",
       "      <td>dsl</td>\n",
       "      <td>fiber_optic</td>\n",
       "    </tr>\n",
       "    <tr>\n",
       "      <th>onlinesecurity</th>\n",
       "      <td>no</td>\n",
       "      <td>yes</td>\n",
       "      <td>yes</td>\n",
       "      <td>yes</td>\n",
       "      <td>no</td>\n",
       "    </tr>\n",
       "    <tr>\n",
       "      <th>onlinebackup</th>\n",
       "      <td>yes</td>\n",
       "      <td>no</td>\n",
       "      <td>yes</td>\n",
       "      <td>no</td>\n",
       "      <td>no</td>\n",
       "    </tr>\n",
       "    <tr>\n",
       "      <th>deviceprotection</th>\n",
       "      <td>no</td>\n",
       "      <td>yes</td>\n",
       "      <td>no</td>\n",
       "      <td>yes</td>\n",
       "      <td>no</td>\n",
       "    </tr>\n",
       "    <tr>\n",
       "      <th>techsupport</th>\n",
       "      <td>no</td>\n",
       "      <td>no</td>\n",
       "      <td>no</td>\n",
       "      <td>yes</td>\n",
       "      <td>no</td>\n",
       "    </tr>\n",
       "    <tr>\n",
       "      <th>streamingtv</th>\n",
       "      <td>no</td>\n",
       "      <td>no</td>\n",
       "      <td>no</td>\n",
       "      <td>no</td>\n",
       "      <td>no</td>\n",
       "    </tr>\n",
       "    <tr>\n",
       "      <th>streamingmovies</th>\n",
       "      <td>no</td>\n",
       "      <td>no</td>\n",
       "      <td>no</td>\n",
       "      <td>no</td>\n",
       "      <td>no</td>\n",
       "    </tr>\n",
       "    <tr>\n",
       "      <th>contract</th>\n",
       "      <td>month-to-month</td>\n",
       "      <td>one_year</td>\n",
       "      <td>month-to-month</td>\n",
       "      <td>one_year</td>\n",
       "      <td>month-to-month</td>\n",
       "    </tr>\n",
       "    <tr>\n",
       "      <th>paperlessbilling</th>\n",
       "      <td>yes</td>\n",
       "      <td>no</td>\n",
       "      <td>yes</td>\n",
       "      <td>no</td>\n",
       "      <td>yes</td>\n",
       "    </tr>\n",
       "    <tr>\n",
       "      <th>paymentmethod</th>\n",
       "      <td>electronic_check</td>\n",
       "      <td>mailed_check</td>\n",
       "      <td>mailed_check</td>\n",
       "      <td>bank_transfer_(automatic)</td>\n",
       "      <td>electronic_check</td>\n",
       "    </tr>\n",
       "    <tr>\n",
       "      <th>monthlycharges</th>\n",
       "      <td>29.85</td>\n",
       "      <td>56.95</td>\n",
       "      <td>53.85</td>\n",
       "      <td>42.3</td>\n",
       "      <td>70.7</td>\n",
       "    </tr>\n",
       "    <tr>\n",
       "      <th>totalcharges</th>\n",
       "      <td>29.85</td>\n",
       "      <td>1889.5</td>\n",
       "      <td>108.15</td>\n",
       "      <td>1840.75</td>\n",
       "      <td>151.65</td>\n",
       "    </tr>\n",
       "    <tr>\n",
       "      <th>churn</th>\n",
       "      <td>no</td>\n",
       "      <td>no</td>\n",
       "      <td>yes</td>\n",
       "      <td>no</td>\n",
       "      <td>yes</td>\n",
       "    </tr>\n",
       "  </tbody>\n",
       "</table>\n",
       "</div>"
      ],
      "text/plain": [
       "                                 0             1               2  \\\n",
       "customerid              7590-vhveg    5575-gnvde      3668-qpybk   \n",
       "gender                      female          male            male   \n",
       "seniorcitizen                    0             0               0   \n",
       "partner                        yes            no              no   \n",
       "dependents                      no            no              no   \n",
       "tenure                           1            34               2   \n",
       "phoneservice                    no           yes             yes   \n",
       "multiplelines     no_phone_service            no              no   \n",
       "internetservice                dsl           dsl             dsl   \n",
       "onlinesecurity                  no           yes             yes   \n",
       "onlinebackup                   yes            no             yes   \n",
       "deviceprotection                no           yes              no   \n",
       "techsupport                     no            no              no   \n",
       "streamingtv                     no            no              no   \n",
       "streamingmovies                 no            no              no   \n",
       "contract            month-to-month      one_year  month-to-month   \n",
       "paperlessbilling               yes            no             yes   \n",
       "paymentmethod     electronic_check  mailed_check    mailed_check   \n",
       "monthlycharges               29.85         56.95           53.85   \n",
       "totalcharges                 29.85        1889.5          108.15   \n",
       "churn                           no            no             yes   \n",
       "\n",
       "                                          3                 4  \n",
       "customerid                       7795-cfocw        9237-hqitu  \n",
       "gender                                 male            female  \n",
       "seniorcitizen                             0                 0  \n",
       "partner                                  no                no  \n",
       "dependents                               no                no  \n",
       "tenure                                   45                 2  \n",
       "phoneservice                             no               yes  \n",
       "multiplelines              no_phone_service                no  \n",
       "internetservice                         dsl       fiber_optic  \n",
       "onlinesecurity                          yes                no  \n",
       "onlinebackup                             no                no  \n",
       "deviceprotection                        yes                no  \n",
       "techsupport                             yes                no  \n",
       "streamingtv                              no                no  \n",
       "streamingmovies                          no                no  \n",
       "contract                           one_year    month-to-month  \n",
       "paperlessbilling                         no               yes  \n",
       "paymentmethod     bank_transfer_(automatic)  electronic_check  \n",
       "monthlycharges                         42.3              70.7  \n",
       "totalcharges                        1840.75            151.65  \n",
       "churn                                    no               yes  "
      ]
     },
     "execution_count": 7,
     "metadata": {},
     "output_type": "execute_result"
    }
   ],
   "source": [
    "df.columns = df.columns.str.lower().str.replace(' ','_')\n",
    "\n",
    "categorical_columns = list(df.dtypes[df.dtypes == 'object'].index)\n",
    "\n",
    "for c in categorical_columns:\n",
    "    df[c] = df[c].str.lower().str.replace(' ', '_')\n",
    "    \n",
    "df.head().T"
   ]
  },
  {
   "cell_type": "code",
   "execution_count": 8,
   "id": "3b3e55e9-268f-46ac-92e9-582965e9bb20",
   "metadata": {},
   "outputs": [
    {
     "data": {
      "text/plain": [
       "customerid           object\n",
       "gender               object\n",
       "seniorcitizen         int64\n",
       "partner              object\n",
       "dependents           object\n",
       "tenure                int64\n",
       "phoneservice         object\n",
       "multiplelines        object\n",
       "internetservice      object\n",
       "onlinesecurity       object\n",
       "onlinebackup         object\n",
       "deviceprotection     object\n",
       "techsupport          object\n",
       "streamingtv          object\n",
       "streamingmovies      object\n",
       "contract             object\n",
       "paperlessbilling     object\n",
       "paymentmethod        object\n",
       "monthlycharges      float64\n",
       "totalcharges         object\n",
       "churn                object\n",
       "dtype: object"
      ]
     },
     "execution_count": 8,
     "metadata": {},
     "output_type": "execute_result"
    }
   ],
   "source": [
    "df.dtypes"
   ]
  },
  {
   "cell_type": "raw",
   "id": "b5298e93-3e98-4f75-b85f-8d35d0ed7641",
   "metadata": {},
   "source": [
    "totalcharges is of object: should have been a float\n",
    "seniorcitizen is of int64: should have been a object 'yes' or 'no'  but works good with model"
   ]
  },
  {
   "cell_type": "code",
   "execution_count": 9,
   "id": "525b0d31-c327-452d-b034-2b670a3ad532",
   "metadata": {},
   "outputs": [
    {
     "data": {
      "text/plain": [
       "customerid          0\n",
       "gender              0\n",
       "seniorcitizen       0\n",
       "partner             0\n",
       "dependents          0\n",
       "tenure              0\n",
       "phoneservice        0\n",
       "multiplelines       0\n",
       "internetservice     0\n",
       "onlinesecurity      0\n",
       "onlinebackup        0\n",
       "deviceprotection    0\n",
       "techsupport         0\n",
       "streamingtv         0\n",
       "streamingmovies     0\n",
       "contract            0\n",
       "paperlessbilling    0\n",
       "paymentmethod       0\n",
       "monthlycharges      0\n",
       "totalcharges        0\n",
       "churn               0\n",
       "dtype: int64"
      ]
     },
     "execution_count": 9,
     "metadata": {},
     "output_type": "execute_result"
    }
   ],
   "source": [
    "df.isnull().sum()"
   ]
  },
  {
   "cell_type": "code",
   "execution_count": 10,
   "id": "ab36f4bd-4714-4934-bd69-520a876d3764",
   "metadata": {},
   "outputs": [],
   "source": [
    "# there was '_' for this column if there is no data. So we converted it to nan\n",
    "df.totalcharges = pd.to_numeric(df.totalcharges,errors = 'coerce')"
   ]
  },
  {
   "cell_type": "code",
   "execution_count": 11,
   "id": "e2460772-a8ea-4c11-a527-a251aff4315a",
   "metadata": {},
   "outputs": [
    {
     "data": {
      "text/plain": [
       "customerid           0\n",
       "gender               0\n",
       "seniorcitizen        0\n",
       "partner              0\n",
       "dependents           0\n",
       "tenure               0\n",
       "phoneservice         0\n",
       "multiplelines        0\n",
       "internetservice      0\n",
       "onlinesecurity       0\n",
       "onlinebackup         0\n",
       "deviceprotection     0\n",
       "techsupport          0\n",
       "streamingtv          0\n",
       "streamingmovies      0\n",
       "contract             0\n",
       "paperlessbilling     0\n",
       "paymentmethod        0\n",
       "monthlycharges       0\n",
       "totalcharges        11\n",
       "churn                0\n",
       "dtype: int64"
      ]
     },
     "execution_count": 11,
     "metadata": {},
     "output_type": "execute_result"
    }
   ],
   "source": [
    "df.isnull().sum()"
   ]
  },
  {
   "cell_type": "code",
   "execution_count": 12,
   "id": "3838a797-5daf-492c-acdf-691ae08fa17b",
   "metadata": {},
   "outputs": [],
   "source": [
    "df.totalcharges = df.totalcharges.fillna(0)"
   ]
  },
  {
   "cell_type": "code",
   "execution_count": 13,
   "id": "375bd0c2-03b7-4f1e-a671-f58b7d15b98b",
   "metadata": {},
   "outputs": [
    {
     "data": {
      "text/plain": [
       "array(['no', 'yes'], dtype=object)"
      ]
     },
     "execution_count": 13,
     "metadata": {},
     "output_type": "execute_result"
    }
   ],
   "source": [
    "df.churn.unique()"
   ]
  },
  {
   "cell_type": "code",
   "execution_count": 14,
   "id": "88589803-36ef-4817-8b19-d5622a9feeb3",
   "metadata": {},
   "outputs": [],
   "source": [
    "# For now we will only modify one categorical variable 'churn'\n",
    "df.churn = (df.churn == 'yes').astype('int64')"
   ]
  },
  {
   "cell_type": "code",
   "execution_count": 15,
   "id": "42e5a472-4255-4ee3-bc6a-dd5eb2ed4c68",
   "metadata": {},
   "outputs": [
    {
     "data": {
      "text/plain": [
       "array([0, 1])"
      ]
     },
     "execution_count": 15,
     "metadata": {},
     "output_type": "execute_result"
    }
   ],
   "source": [
    "df.churn.unique()"
   ]
  },
  {
   "cell_type": "markdown",
   "id": "78da2991-2c3c-430e-a4db-8d8f50ea03c8",
   "metadata": {},
   "source": [
    "# 3.3 Setting up the validation framework"
   ]
  },
  {
   "cell_type": "code",
   "execution_count": 16,
   "id": "1d629da9-9316-46f7-ab1b-c5d94b2536de",
   "metadata": {},
   "outputs": [],
   "source": [
    "#!pip install scikit-learn"
   ]
  },
  {
   "cell_type": "code",
   "execution_count": 17,
   "id": "b84d05f7-3411-4fe0-b4ce-d1d6a4472f8e",
   "metadata": {},
   "outputs": [],
   "source": [
    "#!python3 -m pip install --upgrade pip"
   ]
  },
  {
   "cell_type": "code",
   "execution_count": 18,
   "id": "d8913e0e-d065-49b5-afd9-17653ad3d900",
   "metadata": {},
   "outputs": [],
   "source": [
    "from sklearn.model_selection import train_test_split"
   ]
  },
  {
   "cell_type": "code",
   "execution_count": 19,
   "id": "ca37f560-b794-4acc-8487-b34921cdcaca",
   "metadata": {},
   "outputs": [
    {
     "data": {
      "text/plain": [
       "Index(['customerid', 'gender', 'seniorcitizen', 'partner', 'dependents',\n",
       "       'tenure', 'phoneservice', 'multiplelines', 'internetservice',\n",
       "       'onlinesecurity', 'onlinebackup', 'deviceprotection', 'techsupport',\n",
       "       'streamingtv', 'streamingmovies', 'contract', 'paperlessbilling',\n",
       "       'paymentmethod', 'monthlycharges', 'totalcharges', 'churn'],\n",
       "      dtype='object')"
      ]
     },
     "execution_count": 19,
     "metadata": {},
     "output_type": "execute_result"
    }
   ],
   "source": [
    "df.columns"
   ]
  },
  {
   "cell_type": "code",
   "execution_count": 20,
   "id": "a1082744-e7f3-4608-9406-81e357736960",
   "metadata": {},
   "outputs": [],
   "source": [
    "features = [ 'gender', 'seniorcitizen', 'partner', 'dependents',\n",
    "       'tenure', 'phoneservice', 'multiplelines', 'internetservice',\n",
    "       'onlinesecurity', 'onlinebackup', 'deviceprotection', 'techsupport',\n",
    "       'streamingtv', 'streamingmovies', 'contract', 'paperlessbilling',\n",
    "       'paymentmethod', 'monthlycharges', 'totalcharges']\n",
    "target = ['churn']"
   ]
  },
  {
   "cell_type": "code",
   "execution_count": 21,
   "id": "f5fd702a-4d3f-493c-9dd0-f6b3e88870be",
   "metadata": {},
   "outputs": [],
   "source": [
    "X = df[features]\n",
    "y = df[target]\n",
    "X_train_val,X_test,y_train_val,y_test = train_test_split(X,y,test_size = 0.2,random_state=1)"
   ]
  },
  {
   "cell_type": "code",
   "execution_count": 22,
   "id": "7174b0e4-0a3f-4b09-b4a7-93652484c375",
   "metadata": {},
   "outputs": [
    {
     "data": {
      "text/plain": [
       "(5634, 5634)"
      ]
     },
     "execution_count": 22,
     "metadata": {},
     "output_type": "execute_result"
    }
   ],
   "source": [
    "len(X_train_val),len(y_train_val)"
   ]
  },
  {
   "cell_type": "code",
   "execution_count": 23,
   "id": "cb974a56-b581-4587-9c66-c5cb6c597fc4",
   "metadata": {},
   "outputs": [],
   "source": [
    "X_train,X_val,y_train,y_val = train_test_split(X_train_val,y_train_val,test_size = (20/80),random_state=1)"
   ]
  },
  {
   "cell_type": "code",
   "execution_count": 24,
   "id": "a8106837-6c6c-427a-8daf-1fd799d01bbb",
   "metadata": {},
   "outputs": [
    {
     "data": {
      "text/plain": [
       "(4225, 1409, 1409)"
      ]
     },
     "execution_count": 24,
     "metadata": {},
     "output_type": "execute_result"
    }
   ],
   "source": [
    "len(X_train),len(X_val),len(X_test)"
   ]
  },
  {
   "cell_type": "markdown",
   "id": "1c493b54-8e08-4ddf-8db0-f23d686d459b",
   "metadata": {},
   "source": [
    "# 3.4 EDA"
   ]
  },
  {
   "cell_type": "code",
   "execution_count": 25,
   "id": "1de92d34-2d21-4b2c-ad3f-4842782cedf9",
   "metadata": {},
   "outputs": [
    {
     "data": {
      "text/plain": [
       "customerid          0\n",
       "gender              0\n",
       "seniorcitizen       0\n",
       "partner             0\n",
       "dependents          0\n",
       "tenure              0\n",
       "phoneservice        0\n",
       "multiplelines       0\n",
       "internetservice     0\n",
       "onlinesecurity      0\n",
       "onlinebackup        0\n",
       "deviceprotection    0\n",
       "techsupport         0\n",
       "streamingtv         0\n",
       "streamingmovies     0\n",
       "contract            0\n",
       "paperlessbilling    0\n",
       "paymentmethod       0\n",
       "monthlycharges      0\n",
       "totalcharges        0\n",
       "churn               0\n",
       "dtype: int64"
      ]
     },
     "execution_count": 25,
     "metadata": {},
     "output_type": "execute_result"
    }
   ],
   "source": [
    "df.isnull().sum()"
   ]
  },
  {
   "cell_type": "code",
   "execution_count": 26,
   "id": "ac933043-0ce4-48c4-bcda-cc9b51f6c120",
   "metadata": {},
   "outputs": [
    {
     "data": {
      "text/plain": [
       "churn\n",
       "0    0.731361\n",
       "1    0.268639\n",
       "Name: proportion, dtype: float64"
      ]
     },
     "execution_count": 26,
     "metadata": {},
     "output_type": "execute_result"
    }
   ],
   "source": [
    "y_train.churn.value_counts(normalize = True)"
   ]
  },
  {
   "cell_type": "code",
   "execution_count": 27,
   "id": "df6bd618-5a4f-426b-a408-6f6d2aa49fd9",
   "metadata": {},
   "outputs": [
    {
     "data": {
      "text/plain": [
       "customerid           object\n",
       "gender               object\n",
       "seniorcitizen         int64\n",
       "partner              object\n",
       "dependents           object\n",
       "tenure                int64\n",
       "phoneservice         object\n",
       "multiplelines        object\n",
       "internetservice      object\n",
       "onlinesecurity       object\n",
       "onlinebackup         object\n",
       "deviceprotection     object\n",
       "techsupport          object\n",
       "streamingtv          object\n",
       "streamingmovies      object\n",
       "contract             object\n",
       "paperlessbilling     object\n",
       "paymentmethod        object\n",
       "monthlycharges      float64\n",
       "totalcharges        float64\n",
       "churn                 int64\n",
       "dtype: object"
      ]
     },
     "execution_count": 27,
     "metadata": {},
     "output_type": "execute_result"
    }
   ],
   "source": [
    "df.dtypes"
   ]
  },
  {
   "cell_type": "code",
   "execution_count": 28,
   "id": "39cf4a6d-9bd7-44ba-8c2e-30e483a7e291",
   "metadata": {},
   "outputs": [],
   "source": [
    "numerical = ['tenure','monthlycharges','totalcharges']\n",
    "categorical = [ 'gender', 'seniorcitizen', 'partner', 'dependents',\n",
    "        'phoneservice', 'multiplelines', 'internetservice',\n",
    "       'onlinesecurity', 'onlinebackup', 'deviceprotection', 'techsupport',\n",
    "       'streamingtv', 'streamingmovies', 'contract', 'paperlessbilling',\n",
    "       'paymentmethod']\n",
    "Id = ['customerid']"
   ]
  },
  {
   "cell_type": "code",
   "execution_count": 29,
   "id": "baaa51c5-caba-4a63-990d-a5838eef1e1e",
   "metadata": {},
   "outputs": [
    {
     "data": {
      "text/plain": [
       "gender              2\n",
       "seniorcitizen       2\n",
       "partner             2\n",
       "dependents          2\n",
       "phoneservice        2\n",
       "multiplelines       3\n",
       "internetservice     3\n",
       "onlinesecurity      3\n",
       "onlinebackup        3\n",
       "deviceprotection    3\n",
       "techsupport         3\n",
       "streamingtv         3\n",
       "streamingmovies     3\n",
       "contract            3\n",
       "paperlessbilling    2\n",
       "paymentmethod       4\n",
       "dtype: int64"
      ]
     },
     "execution_count": 29,
     "metadata": {},
     "output_type": "execute_result"
    }
   ],
   "source": [
    "df[categorical].nunique() # Check on original data set"
   ]
  },
  {
   "cell_type": "code",
   "execution_count": 30,
   "id": "473ebfde-6f46-4478-bae1-b6d3c0bf6100",
   "metadata": {},
   "outputs": [
    {
     "data": {
      "text/plain": [
       "gender              2\n",
       "seniorcitizen       2\n",
       "partner             2\n",
       "dependents          2\n",
       "phoneservice        2\n",
       "multiplelines       3\n",
       "internetservice     3\n",
       "onlinesecurity      3\n",
       "onlinebackup        3\n",
       "deviceprotection    3\n",
       "techsupport         3\n",
       "streamingtv         3\n",
       "streamingmovies     3\n",
       "contract            3\n",
       "paperlessbilling    2\n",
       "paymentmethod       4\n",
       "dtype: int64"
      ]
     },
     "execution_count": 30,
     "metadata": {},
     "output_type": "execute_result"
    }
   ],
   "source": [
    "X_train[categorical].nunique() # check on training set"
   ]
  },
  {
   "cell_type": "code",
   "execution_count": 31,
   "id": "9b13d4b3-c43c-41fe-9d97-8e3e15394388",
   "metadata": {},
   "outputs": [
    {
     "data": {
      "text/plain": [
       "churn    0.268639\n",
       "dtype: float64"
      ]
     },
     "execution_count": 31,
     "metadata": {},
     "output_type": "execute_result"
    }
   ],
   "source": [
    "# churn rate: percentage of customers opted out from services\n",
    "# churn is a categorical variable {0,1} 0=no churn, 1 = churn. So mean will be churn rate mean = sum/no of records\n",
    "churn_rate_train = y_train.mean()\n",
    "churn_rate_train"
   ]
  },
  {
   "cell_type": "code",
   "execution_count": 32,
   "id": "5af89f3f-d418-4c2c-8289-ac8a5e4d079b",
   "metadata": {},
   "outputs": [
    {
     "data": {
      "text/plain": [
       "churn    0.273953\n",
       "dtype: float64"
      ]
     },
     "execution_count": 32,
     "metadata": {},
     "output_type": "execute_result"
    }
   ],
   "source": [
    "churn_rate_val = y_val.mean()\n",
    "churn_rate_val"
   ]
  },
  {
   "cell_type": "code",
   "execution_count": 33,
   "id": "fdf09a40-b715-4d7b-ae44-8e87ee54d380",
   "metadata": {},
   "outputs": [
    {
     "data": {
      "text/plain": [
       "churn    0.246984\n",
       "dtype: float64"
      ]
     },
     "execution_count": 33,
     "metadata": {},
     "output_type": "execute_result"
    }
   ],
   "source": [
    "churn_rate_test = y_test.mean()\n",
    "churn_rate_test"
   ]
  },
  {
   "cell_type": "markdown",
   "id": "558ea153-40af-4a8d-8250-45d9d948b5bf",
   "metadata": {},
   "source": [
    "# 3.5 Feature importance: Churn rate and risk ratio"
   ]
  },
  {
   "cell_type": "markdown",
   "id": "3c071480-ba95-4c81-8e00-e236bb99696a",
   "metadata": {},
   "source": [
    "Feature importance analysis (part of EDA) - identifying which features affect our target variable\n",
    "\n",
    "- Churn rate\n",
    "- Risk ratio\n",
    "- Mutual information - later"
   ]
  },
  {
   "cell_type": "code",
   "execution_count": 34,
   "id": "498794e6-3349-426e-8529-ce7f9131e010",
   "metadata": {},
   "outputs": [
    {
     "data": {
      "text/plain": [
       "np.float64(0.26920871559633025)"
      ]
     },
     "execution_count": 34,
     "metadata": {},
     "output_type": "execute_result"
    }
   ],
   "source": [
    "churn_female = df[df.gender == 'female'].churn.mean()\n",
    "churn_female"
   ]
  },
  {
   "cell_type": "code",
   "execution_count": 35,
   "id": "1f8d70e9-e1c2-4d45-86ee-3aeaba40a2c4",
   "metadata": {},
   "outputs": [
    {
     "data": {
      "text/plain": [
       "np.float64(0.2616033755274262)"
      ]
     },
     "execution_count": 35,
     "metadata": {},
     "output_type": "execute_result"
    }
   ],
   "source": [
    "churn_male = df[df.gender == 'male'].churn.mean()\n",
    "churn_male"
   ]
  },
  {
   "cell_type": "code",
   "execution_count": 36,
   "id": "c1f663db-3d14-496b-9cb8-4e5ab268fd3a",
   "metadata": {},
   "outputs": [],
   "source": [
    "global_churn = df.churn.mean()"
   ]
  },
  {
   "cell_type": "code",
   "execution_count": 37,
   "id": "f979d8a5-77fa-47af-92f3-cb9749d66966",
   "metadata": {},
   "outputs": [
    {
     "data": {
      "text/plain": [
       "np.float64(0.0037664952662697093)"
      ]
     },
     "execution_count": 37,
     "metadata": {},
     "output_type": "execute_result"
    }
   ],
   "source": [
    "global_churn-churn_male"
   ]
  },
  {
   "cell_type": "code",
   "execution_count": 38,
   "id": "cc6bdfae-89bc-41bb-a6aa-568aa9a9f6e6",
   "metadata": {},
   "outputs": [
    {
     "data": {
      "text/plain": [
       "np.float64(1.0143977319049342)"
      ]
     },
     "execution_count": 38,
     "metadata": {},
     "output_type": "execute_result"
    }
   ],
   "source": [
    "global_churn/churn_male # risk ratio"
   ]
  },
  {
   "cell_type": "code",
   "execution_count": 39,
   "id": "14600636-e187-47d6-adda-37b6ef58ab00",
   "metadata": {},
   "outputs": [
    {
     "data": {
      "text/plain": [
       "np.float64(-0.003838844802634356)"
      ]
     },
     "execution_count": 39,
     "metadata": {},
     "output_type": "execute_result"
    }
   ],
   "source": [
    "global_churn-churn_female "
   ]
  },
  {
   "cell_type": "code",
   "execution_count": 40,
   "id": "6078f630-2647-4575-8a66-b6c797b90733",
   "metadata": {},
   "outputs": [
    {
     "data": {
      "text/plain": [
       "np.float64(0.9857402655254647)"
      ]
     },
     "execution_count": 40,
     "metadata": {},
     "output_type": "execute_result"
    }
   ],
   "source": [
    "global_churn/churn_female # risk ratio"
   ]
  },
  {
   "cell_type": "raw",
   "id": "926b2903-7ebd-4aa8-8198-138d9c18b15c",
   "metadata": {},
   "source": [
    "SELECT\n",
    "    gender,\n",
    "    AVG(churn),\n",
    "    AVG(churn) - global_churn AS diff,\n",
    "    AVG(churn) / global_churn AS risk\n",
    "FROM\n",
    "    data\n",
    "GROUP BY\n",
    "    gender;"
   ]
  },
  {
   "cell_type": "code",
   "execution_count": 41,
   "id": "47fbc296-90a4-4bd2-bf56-ca76e42c0089",
   "metadata": {},
   "outputs": [
    {
     "data": {
      "text/html": [
       "<div>\n",
       "<style scoped>\n",
       "    .dataframe tbody tr th:only-of-type {\n",
       "        vertical-align: middle;\n",
       "    }\n",
       "\n",
       "    .dataframe tbody tr th {\n",
       "        vertical-align: top;\n",
       "    }\n",
       "\n",
       "    .dataframe thead th {\n",
       "        text-align: right;\n",
       "    }\n",
       "</style>\n",
       "<table border=\"1\" class=\"dataframe\">\n",
       "  <thead>\n",
       "    <tr style=\"text-align: right;\">\n",
       "      <th></th>\n",
       "      <th>churn_rate</th>\n",
       "      <th>count</th>\n",
       "    </tr>\n",
       "    <tr>\n",
       "      <th>gender</th>\n",
       "      <th></th>\n",
       "      <th></th>\n",
       "    </tr>\n",
       "  </thead>\n",
       "  <tbody>\n",
       "    <tr>\n",
       "      <th>female</th>\n",
       "      <td>0.269209</td>\n",
       "      <td>3488</td>\n",
       "    </tr>\n",
       "    <tr>\n",
       "      <th>male</th>\n",
       "      <td>0.261603</td>\n",
       "      <td>3555</td>\n",
       "    </tr>\n",
       "  </tbody>\n",
       "</table>\n",
       "</div>"
      ],
      "text/plain": [
       "        churn_rate  count\n",
       "gender                   \n",
       "female    0.269209   3488\n",
       "male      0.261603   3555"
      ]
     },
     "execution_count": 41,
     "metadata": {},
     "output_type": "execute_result"
    }
   ],
   "source": [
    "# pandas way of doing\n",
    "df_groupby_gender = df.groupby('gender').churn.agg(['mean','count'])\n",
    "df_groupby_gender.columns = df_groupby_gender.columns.str.replace('mean','churn_rate')\n",
    "df_groupby_gender"
   ]
  },
  {
   "cell_type": "code",
   "execution_count": 42,
   "id": "a1697ce7-1a94-471a-976a-bfec40f51b3f",
   "metadata": {},
   "outputs": [
    {
     "name": "stdout",
     "output_type": "stream",
     "text": [
      "gender\n"
     ]
    },
    {
     "data": {
      "text/html": [
       "<div>\n",
       "<style scoped>\n",
       "    .dataframe tbody tr th:only-of-type {\n",
       "        vertical-align: middle;\n",
       "    }\n",
       "\n",
       "    .dataframe tbody tr th {\n",
       "        vertical-align: top;\n",
       "    }\n",
       "\n",
       "    .dataframe thead th {\n",
       "        text-align: right;\n",
       "    }\n",
       "</style>\n",
       "<table border=\"1\" class=\"dataframe\">\n",
       "  <thead>\n",
       "    <tr style=\"text-align: right;\">\n",
       "      <th></th>\n",
       "      <th>churn_rate</th>\n",
       "      <th>count</th>\n",
       "      <th>diff with global churn rate</th>\n",
       "      <th>risk_ratio</th>\n",
       "    </tr>\n",
       "    <tr>\n",
       "      <th>gender</th>\n",
       "      <th></th>\n",
       "      <th></th>\n",
       "      <th></th>\n",
       "      <th></th>\n",
       "    </tr>\n",
       "  </thead>\n",
       "  <tbody>\n",
       "    <tr>\n",
       "      <th>female</th>\n",
       "      <td>0.269209</td>\n",
       "      <td>3488</td>\n",
       "      <td>0.003839</td>\n",
       "      <td>1.014466</td>\n",
       "    </tr>\n",
       "    <tr>\n",
       "      <th>male</th>\n",
       "      <td>0.261603</td>\n",
       "      <td>3555</td>\n",
       "      <td>-0.003766</td>\n",
       "      <td>0.985807</td>\n",
       "    </tr>\n",
       "  </tbody>\n",
       "</table>\n",
       "</div>"
      ],
      "text/plain": [
       "        churn_rate  count  diff with global churn rate  risk_ratio\n",
       "gender                                                            \n",
       "female    0.269209   3488                     0.003839    1.014466\n",
       "male      0.261603   3555                    -0.003766    0.985807"
      ]
     },
     "metadata": {},
     "output_type": "display_data"
    },
    {
     "name": "stdout",
     "output_type": "stream",
     "text": [
      "\n",
      "\n",
      "\n",
      "seniorcitizen\n"
     ]
    },
    {
     "data": {
      "text/html": [
       "<div>\n",
       "<style scoped>\n",
       "    .dataframe tbody tr th:only-of-type {\n",
       "        vertical-align: middle;\n",
       "    }\n",
       "\n",
       "    .dataframe tbody tr th {\n",
       "        vertical-align: top;\n",
       "    }\n",
       "\n",
       "    .dataframe thead th {\n",
       "        text-align: right;\n",
       "    }\n",
       "</style>\n",
       "<table border=\"1\" class=\"dataframe\">\n",
       "  <thead>\n",
       "    <tr style=\"text-align: right;\">\n",
       "      <th></th>\n",
       "      <th>churn_rate</th>\n",
       "      <th>count</th>\n",
       "      <th>diff with global churn rate</th>\n",
       "      <th>risk_ratio</th>\n",
       "    </tr>\n",
       "    <tr>\n",
       "      <th>seniorcitizen</th>\n",
       "      <th></th>\n",
       "      <th></th>\n",
       "      <th></th>\n",
       "      <th></th>\n",
       "    </tr>\n",
       "  </thead>\n",
       "  <tbody>\n",
       "    <tr>\n",
       "      <th>0</th>\n",
       "      <td>0.236062</td>\n",
       "      <td>5901</td>\n",
       "      <td>-0.029308</td>\n",
       "      <td>0.889557</td>\n",
       "    </tr>\n",
       "    <tr>\n",
       "      <th>1</th>\n",
       "      <td>0.416813</td>\n",
       "      <td>1142</td>\n",
       "      <td>0.151443</td>\n",
       "      <td>1.570686</td>\n",
       "    </tr>\n",
       "  </tbody>\n",
       "</table>\n",
       "</div>"
      ],
      "text/plain": [
       "               churn_rate  count  diff with global churn rate  risk_ratio\n",
       "seniorcitizen                                                            \n",
       "0                0.236062   5901                    -0.029308    0.889557\n",
       "1                0.416813   1142                     0.151443    1.570686"
      ]
     },
     "metadata": {},
     "output_type": "display_data"
    },
    {
     "name": "stdout",
     "output_type": "stream",
     "text": [
      "\n",
      "\n",
      "\n",
      "partner\n"
     ]
    },
    {
     "data": {
      "text/html": [
       "<div>\n",
       "<style scoped>\n",
       "    .dataframe tbody tr th:only-of-type {\n",
       "        vertical-align: middle;\n",
       "    }\n",
       "\n",
       "    .dataframe tbody tr th {\n",
       "        vertical-align: top;\n",
       "    }\n",
       "\n",
       "    .dataframe thead th {\n",
       "        text-align: right;\n",
       "    }\n",
       "</style>\n",
       "<table border=\"1\" class=\"dataframe\">\n",
       "  <thead>\n",
       "    <tr style=\"text-align: right;\">\n",
       "      <th></th>\n",
       "      <th>churn_rate</th>\n",
       "      <th>count</th>\n",
       "      <th>diff with global churn rate</th>\n",
       "      <th>risk_ratio</th>\n",
       "    </tr>\n",
       "    <tr>\n",
       "      <th>partner</th>\n",
       "      <th></th>\n",
       "      <th></th>\n",
       "      <th></th>\n",
       "      <th></th>\n",
       "    </tr>\n",
       "  </thead>\n",
       "  <tbody>\n",
       "    <tr>\n",
       "      <th>no</th>\n",
       "      <td>0.329580</td>\n",
       "      <td>3641</td>\n",
       "      <td>0.064210</td>\n",
       "      <td>1.241964</td>\n",
       "    </tr>\n",
       "    <tr>\n",
       "      <th>yes</th>\n",
       "      <td>0.196649</td>\n",
       "      <td>3402</td>\n",
       "      <td>-0.068721</td>\n",
       "      <td>0.741038</td>\n",
       "    </tr>\n",
       "  </tbody>\n",
       "</table>\n",
       "</div>"
      ],
      "text/plain": [
       "         churn_rate  count  diff with global churn rate  risk_ratio\n",
       "partner                                                            \n",
       "no         0.329580   3641                     0.064210    1.241964\n",
       "yes        0.196649   3402                    -0.068721    0.741038"
      ]
     },
     "metadata": {},
     "output_type": "display_data"
    },
    {
     "name": "stdout",
     "output_type": "stream",
     "text": [
      "\n",
      "\n",
      "\n",
      "dependents\n"
     ]
    },
    {
     "data": {
      "text/html": [
       "<div>\n",
       "<style scoped>\n",
       "    .dataframe tbody tr th:only-of-type {\n",
       "        vertical-align: middle;\n",
       "    }\n",
       "\n",
       "    .dataframe tbody tr th {\n",
       "        vertical-align: top;\n",
       "    }\n",
       "\n",
       "    .dataframe thead th {\n",
       "        text-align: right;\n",
       "    }\n",
       "</style>\n",
       "<table border=\"1\" class=\"dataframe\">\n",
       "  <thead>\n",
       "    <tr style=\"text-align: right;\">\n",
       "      <th></th>\n",
       "      <th>churn_rate</th>\n",
       "      <th>count</th>\n",
       "      <th>diff with global churn rate</th>\n",
       "      <th>risk_ratio</th>\n",
       "    </tr>\n",
       "    <tr>\n",
       "      <th>dependents</th>\n",
       "      <th></th>\n",
       "      <th></th>\n",
       "      <th></th>\n",
       "      <th></th>\n",
       "    </tr>\n",
       "  </thead>\n",
       "  <tbody>\n",
       "    <tr>\n",
       "      <th>no</th>\n",
       "      <td>0.312791</td>\n",
       "      <td>4933</td>\n",
       "      <td>0.047422</td>\n",
       "      <td>1.178700</td>\n",
       "    </tr>\n",
       "    <tr>\n",
       "      <th>yes</th>\n",
       "      <td>0.154502</td>\n",
       "      <td>2110</td>\n",
       "      <td>-0.110868</td>\n",
       "      <td>0.582215</td>\n",
       "    </tr>\n",
       "  </tbody>\n",
       "</table>\n",
       "</div>"
      ],
      "text/plain": [
       "            churn_rate  count  diff with global churn rate  risk_ratio\n",
       "dependents                                                            \n",
       "no            0.312791   4933                     0.047422    1.178700\n",
       "yes           0.154502   2110                    -0.110868    0.582215"
      ]
     },
     "metadata": {},
     "output_type": "display_data"
    },
    {
     "name": "stdout",
     "output_type": "stream",
     "text": [
      "\n",
      "\n",
      "\n",
      "phoneservice\n"
     ]
    },
    {
     "data": {
      "text/html": [
       "<div>\n",
       "<style scoped>\n",
       "    .dataframe tbody tr th:only-of-type {\n",
       "        vertical-align: middle;\n",
       "    }\n",
       "\n",
       "    .dataframe tbody tr th {\n",
       "        vertical-align: top;\n",
       "    }\n",
       "\n",
       "    .dataframe thead th {\n",
       "        text-align: right;\n",
       "    }\n",
       "</style>\n",
       "<table border=\"1\" class=\"dataframe\">\n",
       "  <thead>\n",
       "    <tr style=\"text-align: right;\">\n",
       "      <th></th>\n",
       "      <th>churn_rate</th>\n",
       "      <th>count</th>\n",
       "      <th>diff with global churn rate</th>\n",
       "      <th>risk_ratio</th>\n",
       "    </tr>\n",
       "    <tr>\n",
       "      <th>phoneservice</th>\n",
       "      <th></th>\n",
       "      <th></th>\n",
       "      <th></th>\n",
       "      <th></th>\n",
       "    </tr>\n",
       "  </thead>\n",
       "  <tbody>\n",
       "    <tr>\n",
       "      <th>no</th>\n",
       "      <td>0.249267</td>\n",
       "      <td>682</td>\n",
       "      <td>-0.016103</td>\n",
       "      <td>0.939319</td>\n",
       "    </tr>\n",
       "    <tr>\n",
       "      <th>yes</th>\n",
       "      <td>0.267096</td>\n",
       "      <td>6361</td>\n",
       "      <td>0.001726</td>\n",
       "      <td>1.006506</td>\n",
       "    </tr>\n",
       "  </tbody>\n",
       "</table>\n",
       "</div>"
      ],
      "text/plain": [
       "              churn_rate  count  diff with global churn rate  risk_ratio\n",
       "phoneservice                                                            \n",
       "no              0.249267    682                    -0.016103    0.939319\n",
       "yes             0.267096   6361                     0.001726    1.006506"
      ]
     },
     "metadata": {},
     "output_type": "display_data"
    },
    {
     "name": "stdout",
     "output_type": "stream",
     "text": [
      "\n",
      "\n",
      "\n",
      "multiplelines\n"
     ]
    },
    {
     "data": {
      "text/html": [
       "<div>\n",
       "<style scoped>\n",
       "    .dataframe tbody tr th:only-of-type {\n",
       "        vertical-align: middle;\n",
       "    }\n",
       "\n",
       "    .dataframe tbody tr th {\n",
       "        vertical-align: top;\n",
       "    }\n",
       "\n",
       "    .dataframe thead th {\n",
       "        text-align: right;\n",
       "    }\n",
       "</style>\n",
       "<table border=\"1\" class=\"dataframe\">\n",
       "  <thead>\n",
       "    <tr style=\"text-align: right;\">\n",
       "      <th></th>\n",
       "      <th>churn_rate</th>\n",
       "      <th>count</th>\n",
       "      <th>diff with global churn rate</th>\n",
       "      <th>risk_ratio</th>\n",
       "    </tr>\n",
       "    <tr>\n",
       "      <th>multiplelines</th>\n",
       "      <th></th>\n",
       "      <th></th>\n",
       "      <th></th>\n",
       "      <th></th>\n",
       "    </tr>\n",
       "  </thead>\n",
       "  <tbody>\n",
       "    <tr>\n",
       "      <th>no</th>\n",
       "      <td>0.250442</td>\n",
       "      <td>3390</td>\n",
       "      <td>-0.014927</td>\n",
       "      <td>0.943749</td>\n",
       "    </tr>\n",
       "    <tr>\n",
       "      <th>no_phone_service</th>\n",
       "      <td>0.249267</td>\n",
       "      <td>682</td>\n",
       "      <td>-0.016103</td>\n",
       "      <td>0.939319</td>\n",
       "    </tr>\n",
       "    <tr>\n",
       "      <th>yes</th>\n",
       "      <td>0.286099</td>\n",
       "      <td>2971</td>\n",
       "      <td>0.020729</td>\n",
       "      <td>1.078114</td>\n",
       "    </tr>\n",
       "  </tbody>\n",
       "</table>\n",
       "</div>"
      ],
      "text/plain": [
       "                  churn_rate  count  diff with global churn rate  risk_ratio\n",
       "multiplelines                                                               \n",
       "no                  0.250442   3390                    -0.014927    0.943749\n",
       "no_phone_service    0.249267    682                    -0.016103    0.939319\n",
       "yes                 0.286099   2971                     0.020729    1.078114"
      ]
     },
     "metadata": {},
     "output_type": "display_data"
    },
    {
     "name": "stdout",
     "output_type": "stream",
     "text": [
      "\n",
      "\n",
      "\n",
      "internetservice\n"
     ]
    },
    {
     "data": {
      "text/html": [
       "<div>\n",
       "<style scoped>\n",
       "    .dataframe tbody tr th:only-of-type {\n",
       "        vertical-align: middle;\n",
       "    }\n",
       "\n",
       "    .dataframe tbody tr th {\n",
       "        vertical-align: top;\n",
       "    }\n",
       "\n",
       "    .dataframe thead th {\n",
       "        text-align: right;\n",
       "    }\n",
       "</style>\n",
       "<table border=\"1\" class=\"dataframe\">\n",
       "  <thead>\n",
       "    <tr style=\"text-align: right;\">\n",
       "      <th></th>\n",
       "      <th>churn_rate</th>\n",
       "      <th>count</th>\n",
       "      <th>diff with global churn rate</th>\n",
       "      <th>risk_ratio</th>\n",
       "    </tr>\n",
       "    <tr>\n",
       "      <th>internetservice</th>\n",
       "      <th></th>\n",
       "      <th></th>\n",
       "      <th></th>\n",
       "      <th></th>\n",
       "    </tr>\n",
       "  </thead>\n",
       "  <tbody>\n",
       "    <tr>\n",
       "      <th>dsl</th>\n",
       "      <td>0.189591</td>\n",
       "      <td>2421</td>\n",
       "      <td>-0.075779</td>\n",
       "      <td>0.714441</td>\n",
       "    </tr>\n",
       "    <tr>\n",
       "      <th>fiber_optic</th>\n",
       "      <td>0.418928</td>\n",
       "      <td>3096</td>\n",
       "      <td>0.153558</td>\n",
       "      <td>1.578656</td>\n",
       "    </tr>\n",
       "    <tr>\n",
       "      <th>no</th>\n",
       "      <td>0.074050</td>\n",
       "      <td>1526</td>\n",
       "      <td>-0.191320</td>\n",
       "      <td>0.279044</td>\n",
       "    </tr>\n",
       "  </tbody>\n",
       "</table>\n",
       "</div>"
      ],
      "text/plain": [
       "                 churn_rate  count  diff with global churn rate  risk_ratio\n",
       "internetservice                                                            \n",
       "dsl                0.189591   2421                    -0.075779    0.714441\n",
       "fiber_optic        0.418928   3096                     0.153558    1.578656\n",
       "no                 0.074050   1526                    -0.191320    0.279044"
      ]
     },
     "metadata": {},
     "output_type": "display_data"
    },
    {
     "name": "stdout",
     "output_type": "stream",
     "text": [
      "\n",
      "\n",
      "\n",
      "onlinesecurity\n"
     ]
    },
    {
     "data": {
      "text/html": [
       "<div>\n",
       "<style scoped>\n",
       "    .dataframe tbody tr th:only-of-type {\n",
       "        vertical-align: middle;\n",
       "    }\n",
       "\n",
       "    .dataframe tbody tr th {\n",
       "        vertical-align: top;\n",
       "    }\n",
       "\n",
       "    .dataframe thead th {\n",
       "        text-align: right;\n",
       "    }\n",
       "</style>\n",
       "<table border=\"1\" class=\"dataframe\">\n",
       "  <thead>\n",
       "    <tr style=\"text-align: right;\">\n",
       "      <th></th>\n",
       "      <th>churn_rate</th>\n",
       "      <th>count</th>\n",
       "      <th>diff with global churn rate</th>\n",
       "      <th>risk_ratio</th>\n",
       "    </tr>\n",
       "    <tr>\n",
       "      <th>onlinesecurity</th>\n",
       "      <th></th>\n",
       "      <th></th>\n",
       "      <th></th>\n",
       "      <th></th>\n",
       "    </tr>\n",
       "  </thead>\n",
       "  <tbody>\n",
       "    <tr>\n",
       "      <th>no</th>\n",
       "      <td>0.417667</td>\n",
       "      <td>3498</td>\n",
       "      <td>0.152297</td>\n",
       "      <td>1.573906</td>\n",
       "    </tr>\n",
       "    <tr>\n",
       "      <th>no_internet_service</th>\n",
       "      <td>0.074050</td>\n",
       "      <td>1526</td>\n",
       "      <td>-0.191320</td>\n",
       "      <td>0.279044</td>\n",
       "    </tr>\n",
       "    <tr>\n",
       "      <th>yes</th>\n",
       "      <td>0.146112</td>\n",
       "      <td>2019</td>\n",
       "      <td>-0.119258</td>\n",
       "      <td>0.550597</td>\n",
       "    </tr>\n",
       "  </tbody>\n",
       "</table>\n",
       "</div>"
      ],
      "text/plain": [
       "                     churn_rate  count  diff with global churn rate  \\\n",
       "onlinesecurity                                                        \n",
       "no                     0.417667   3498                     0.152297   \n",
       "no_internet_service    0.074050   1526                    -0.191320   \n",
       "yes                    0.146112   2019                    -0.119258   \n",
       "\n",
       "                     risk_ratio  \n",
       "onlinesecurity                   \n",
       "no                     1.573906  \n",
       "no_internet_service    0.279044  \n",
       "yes                    0.550597  "
      ]
     },
     "metadata": {},
     "output_type": "display_data"
    },
    {
     "name": "stdout",
     "output_type": "stream",
     "text": [
      "\n",
      "\n",
      "\n",
      "onlinebackup\n"
     ]
    },
    {
     "data": {
      "text/html": [
       "<div>\n",
       "<style scoped>\n",
       "    .dataframe tbody tr th:only-of-type {\n",
       "        vertical-align: middle;\n",
       "    }\n",
       "\n",
       "    .dataframe tbody tr th {\n",
       "        vertical-align: top;\n",
       "    }\n",
       "\n",
       "    .dataframe thead th {\n",
       "        text-align: right;\n",
       "    }\n",
       "</style>\n",
       "<table border=\"1\" class=\"dataframe\">\n",
       "  <thead>\n",
       "    <tr style=\"text-align: right;\">\n",
       "      <th></th>\n",
       "      <th>churn_rate</th>\n",
       "      <th>count</th>\n",
       "      <th>diff with global churn rate</th>\n",
       "      <th>risk_ratio</th>\n",
       "    </tr>\n",
       "    <tr>\n",
       "      <th>onlinebackup</th>\n",
       "      <th></th>\n",
       "      <th></th>\n",
       "      <th></th>\n",
       "      <th></th>\n",
       "    </tr>\n",
       "  </thead>\n",
       "  <tbody>\n",
       "    <tr>\n",
       "      <th>no</th>\n",
       "      <td>0.399288</td>\n",
       "      <td>3088</td>\n",
       "      <td>0.133918</td>\n",
       "      <td>1.504645</td>\n",
       "    </tr>\n",
       "    <tr>\n",
       "      <th>no_internet_service</th>\n",
       "      <td>0.074050</td>\n",
       "      <td>1526</td>\n",
       "      <td>-0.191320</td>\n",
       "      <td>0.279044</td>\n",
       "    </tr>\n",
       "    <tr>\n",
       "      <th>yes</th>\n",
       "      <td>0.215315</td>\n",
       "      <td>2429</td>\n",
       "      <td>-0.050055</td>\n",
       "      <td>0.811377</td>\n",
       "    </tr>\n",
       "  </tbody>\n",
       "</table>\n",
       "</div>"
      ],
      "text/plain": [
       "                     churn_rate  count  diff with global churn rate  \\\n",
       "onlinebackup                                                          \n",
       "no                     0.399288   3088                     0.133918   \n",
       "no_internet_service    0.074050   1526                    -0.191320   \n",
       "yes                    0.215315   2429                    -0.050055   \n",
       "\n",
       "                     risk_ratio  \n",
       "onlinebackup                     \n",
       "no                     1.504645  \n",
       "no_internet_service    0.279044  \n",
       "yes                    0.811377  "
      ]
     },
     "metadata": {},
     "output_type": "display_data"
    },
    {
     "name": "stdout",
     "output_type": "stream",
     "text": [
      "\n",
      "\n",
      "\n",
      "deviceprotection\n"
     ]
    },
    {
     "data": {
      "text/html": [
       "<div>\n",
       "<style scoped>\n",
       "    .dataframe tbody tr th:only-of-type {\n",
       "        vertical-align: middle;\n",
       "    }\n",
       "\n",
       "    .dataframe tbody tr th {\n",
       "        vertical-align: top;\n",
       "    }\n",
       "\n",
       "    .dataframe thead th {\n",
       "        text-align: right;\n",
       "    }\n",
       "</style>\n",
       "<table border=\"1\" class=\"dataframe\">\n",
       "  <thead>\n",
       "    <tr style=\"text-align: right;\">\n",
       "      <th></th>\n",
       "      <th>churn_rate</th>\n",
       "      <th>count</th>\n",
       "      <th>diff with global churn rate</th>\n",
       "      <th>risk_ratio</th>\n",
       "    </tr>\n",
       "    <tr>\n",
       "      <th>deviceprotection</th>\n",
       "      <th></th>\n",
       "      <th></th>\n",
       "      <th></th>\n",
       "      <th></th>\n",
       "    </tr>\n",
       "  </thead>\n",
       "  <tbody>\n",
       "    <tr>\n",
       "      <th>no</th>\n",
       "      <td>0.391276</td>\n",
       "      <td>3095</td>\n",
       "      <td>0.125906</td>\n",
       "      <td>1.474456</td>\n",
       "    </tr>\n",
       "    <tr>\n",
       "      <th>no_internet_service</th>\n",
       "      <td>0.074050</td>\n",
       "      <td>1526</td>\n",
       "      <td>-0.191320</td>\n",
       "      <td>0.279044</td>\n",
       "    </tr>\n",
       "    <tr>\n",
       "      <th>yes</th>\n",
       "      <td>0.225021</td>\n",
       "      <td>2422</td>\n",
       "      <td>-0.040349</td>\n",
       "      <td>0.847951</td>\n",
       "    </tr>\n",
       "  </tbody>\n",
       "</table>\n",
       "</div>"
      ],
      "text/plain": [
       "                     churn_rate  count  diff with global churn rate  \\\n",
       "deviceprotection                                                      \n",
       "no                     0.391276   3095                     0.125906   \n",
       "no_internet_service    0.074050   1526                    -0.191320   \n",
       "yes                    0.225021   2422                    -0.040349   \n",
       "\n",
       "                     risk_ratio  \n",
       "deviceprotection                 \n",
       "no                     1.474456  \n",
       "no_internet_service    0.279044  \n",
       "yes                    0.847951  "
      ]
     },
     "metadata": {},
     "output_type": "display_data"
    },
    {
     "name": "stdout",
     "output_type": "stream",
     "text": [
      "\n",
      "\n",
      "\n",
      "techsupport\n"
     ]
    },
    {
     "data": {
      "text/html": [
       "<div>\n",
       "<style scoped>\n",
       "    .dataframe tbody tr th:only-of-type {\n",
       "        vertical-align: middle;\n",
       "    }\n",
       "\n",
       "    .dataframe tbody tr th {\n",
       "        vertical-align: top;\n",
       "    }\n",
       "\n",
       "    .dataframe thead th {\n",
       "        text-align: right;\n",
       "    }\n",
       "</style>\n",
       "<table border=\"1\" class=\"dataframe\">\n",
       "  <thead>\n",
       "    <tr style=\"text-align: right;\">\n",
       "      <th></th>\n",
       "      <th>churn_rate</th>\n",
       "      <th>count</th>\n",
       "      <th>diff with global churn rate</th>\n",
       "      <th>risk_ratio</th>\n",
       "    </tr>\n",
       "    <tr>\n",
       "      <th>techsupport</th>\n",
       "      <th></th>\n",
       "      <th></th>\n",
       "      <th></th>\n",
       "      <th></th>\n",
       "    </tr>\n",
       "  </thead>\n",
       "  <tbody>\n",
       "    <tr>\n",
       "      <th>no</th>\n",
       "      <td>0.416355</td>\n",
       "      <td>3473</td>\n",
       "      <td>0.150985</td>\n",
       "      <td>1.568960</td>\n",
       "    </tr>\n",
       "    <tr>\n",
       "      <th>no_internet_service</th>\n",
       "      <td>0.074050</td>\n",
       "      <td>1526</td>\n",
       "      <td>-0.191320</td>\n",
       "      <td>0.279044</td>\n",
       "    </tr>\n",
       "    <tr>\n",
       "      <th>yes</th>\n",
       "      <td>0.151663</td>\n",
       "      <td>2044</td>\n",
       "      <td>-0.113706</td>\n",
       "      <td>0.571517</td>\n",
       "    </tr>\n",
       "  </tbody>\n",
       "</table>\n",
       "</div>"
      ],
      "text/plain": [
       "                     churn_rate  count  diff with global churn rate  \\\n",
       "techsupport                                                           \n",
       "no                     0.416355   3473                     0.150985   \n",
       "no_internet_service    0.074050   1526                    -0.191320   \n",
       "yes                    0.151663   2044                    -0.113706   \n",
       "\n",
       "                     risk_ratio  \n",
       "techsupport                      \n",
       "no                     1.568960  \n",
       "no_internet_service    0.279044  \n",
       "yes                    0.571517  "
      ]
     },
     "metadata": {},
     "output_type": "display_data"
    },
    {
     "name": "stdout",
     "output_type": "stream",
     "text": [
      "\n",
      "\n",
      "\n",
      "streamingtv\n"
     ]
    },
    {
     "data": {
      "text/html": [
       "<div>\n",
       "<style scoped>\n",
       "    .dataframe tbody tr th:only-of-type {\n",
       "        vertical-align: middle;\n",
       "    }\n",
       "\n",
       "    .dataframe tbody tr th {\n",
       "        vertical-align: top;\n",
       "    }\n",
       "\n",
       "    .dataframe thead th {\n",
       "        text-align: right;\n",
       "    }\n",
       "</style>\n",
       "<table border=\"1\" class=\"dataframe\">\n",
       "  <thead>\n",
       "    <tr style=\"text-align: right;\">\n",
       "      <th></th>\n",
       "      <th>churn_rate</th>\n",
       "      <th>count</th>\n",
       "      <th>diff with global churn rate</th>\n",
       "      <th>risk_ratio</th>\n",
       "    </tr>\n",
       "    <tr>\n",
       "      <th>streamingtv</th>\n",
       "      <th></th>\n",
       "      <th></th>\n",
       "      <th></th>\n",
       "      <th></th>\n",
       "    </tr>\n",
       "  </thead>\n",
       "  <tbody>\n",
       "    <tr>\n",
       "      <th>no</th>\n",
       "      <td>0.335231</td>\n",
       "      <td>2810</td>\n",
       "      <td>0.069861</td>\n",
       "      <td>1.263261</td>\n",
       "    </tr>\n",
       "    <tr>\n",
       "      <th>no_internet_service</th>\n",
       "      <td>0.074050</td>\n",
       "      <td>1526</td>\n",
       "      <td>-0.191320</td>\n",
       "      <td>0.279044</td>\n",
       "    </tr>\n",
       "    <tr>\n",
       "      <th>yes</th>\n",
       "      <td>0.300702</td>\n",
       "      <td>2707</td>\n",
       "      <td>0.035332</td>\n",
       "      <td>1.133143</td>\n",
       "    </tr>\n",
       "  </tbody>\n",
       "</table>\n",
       "</div>"
      ],
      "text/plain": [
       "                     churn_rate  count  diff with global churn rate  \\\n",
       "streamingtv                                                           \n",
       "no                     0.335231   2810                     0.069861   \n",
       "no_internet_service    0.074050   1526                    -0.191320   \n",
       "yes                    0.300702   2707                     0.035332   \n",
       "\n",
       "                     risk_ratio  \n",
       "streamingtv                      \n",
       "no                     1.263261  \n",
       "no_internet_service    0.279044  \n",
       "yes                    1.133143  "
      ]
     },
     "metadata": {},
     "output_type": "display_data"
    },
    {
     "name": "stdout",
     "output_type": "stream",
     "text": [
      "\n",
      "\n",
      "\n",
      "streamingmovies\n"
     ]
    },
    {
     "data": {
      "text/html": [
       "<div>\n",
       "<style scoped>\n",
       "    .dataframe tbody tr th:only-of-type {\n",
       "        vertical-align: middle;\n",
       "    }\n",
       "\n",
       "    .dataframe tbody tr th {\n",
       "        vertical-align: top;\n",
       "    }\n",
       "\n",
       "    .dataframe thead th {\n",
       "        text-align: right;\n",
       "    }\n",
       "</style>\n",
       "<table border=\"1\" class=\"dataframe\">\n",
       "  <thead>\n",
       "    <tr style=\"text-align: right;\">\n",
       "      <th></th>\n",
       "      <th>churn_rate</th>\n",
       "      <th>count</th>\n",
       "      <th>diff with global churn rate</th>\n",
       "      <th>risk_ratio</th>\n",
       "    </tr>\n",
       "    <tr>\n",
       "      <th>streamingmovies</th>\n",
       "      <th></th>\n",
       "      <th></th>\n",
       "      <th></th>\n",
       "      <th></th>\n",
       "    </tr>\n",
       "  </thead>\n",
       "  <tbody>\n",
       "    <tr>\n",
       "      <th>no</th>\n",
       "      <td>0.336804</td>\n",
       "      <td>2785</td>\n",
       "      <td>0.071434</td>\n",
       "      <td>1.269188</td>\n",
       "    </tr>\n",
       "    <tr>\n",
       "      <th>no_internet_service</th>\n",
       "      <td>0.074050</td>\n",
       "      <td>1526</td>\n",
       "      <td>-0.191320</td>\n",
       "      <td>0.279044</td>\n",
       "    </tr>\n",
       "    <tr>\n",
       "      <th>yes</th>\n",
       "      <td>0.299414</td>\n",
       "      <td>2732</td>\n",
       "      <td>0.034044</td>\n",
       "      <td>1.128291</td>\n",
       "    </tr>\n",
       "  </tbody>\n",
       "</table>\n",
       "</div>"
      ],
      "text/plain": [
       "                     churn_rate  count  diff with global churn rate  \\\n",
       "streamingmovies                                                       \n",
       "no                     0.336804   2785                     0.071434   \n",
       "no_internet_service    0.074050   1526                    -0.191320   \n",
       "yes                    0.299414   2732                     0.034044   \n",
       "\n",
       "                     risk_ratio  \n",
       "streamingmovies                  \n",
       "no                     1.269188  \n",
       "no_internet_service    0.279044  \n",
       "yes                    1.128291  "
      ]
     },
     "metadata": {},
     "output_type": "display_data"
    },
    {
     "name": "stdout",
     "output_type": "stream",
     "text": [
      "\n",
      "\n",
      "\n",
      "contract\n"
     ]
    },
    {
     "data": {
      "text/html": [
       "<div>\n",
       "<style scoped>\n",
       "    .dataframe tbody tr th:only-of-type {\n",
       "        vertical-align: middle;\n",
       "    }\n",
       "\n",
       "    .dataframe tbody tr th {\n",
       "        vertical-align: top;\n",
       "    }\n",
       "\n",
       "    .dataframe thead th {\n",
       "        text-align: right;\n",
       "    }\n",
       "</style>\n",
       "<table border=\"1\" class=\"dataframe\">\n",
       "  <thead>\n",
       "    <tr style=\"text-align: right;\">\n",
       "      <th></th>\n",
       "      <th>churn_rate</th>\n",
       "      <th>count</th>\n",
       "      <th>diff with global churn rate</th>\n",
       "      <th>risk_ratio</th>\n",
       "    </tr>\n",
       "    <tr>\n",
       "      <th>contract</th>\n",
       "      <th></th>\n",
       "      <th></th>\n",
       "      <th></th>\n",
       "      <th></th>\n",
       "    </tr>\n",
       "  </thead>\n",
       "  <tbody>\n",
       "    <tr>\n",
       "      <th>month-to-month</th>\n",
       "      <td>0.427097</td>\n",
       "      <td>3875</td>\n",
       "      <td>0.161727</td>\n",
       "      <td>1.609440</td>\n",
       "    </tr>\n",
       "    <tr>\n",
       "      <th>one_year</th>\n",
       "      <td>0.112695</td>\n",
       "      <td>1473</td>\n",
       "      <td>-0.152675</td>\n",
       "      <td>0.424672</td>\n",
       "    </tr>\n",
       "    <tr>\n",
       "      <th>two_year</th>\n",
       "      <td>0.028319</td>\n",
       "      <td>1695</td>\n",
       "      <td>-0.237051</td>\n",
       "      <td>0.106714</td>\n",
       "    </tr>\n",
       "  </tbody>\n",
       "</table>\n",
       "</div>"
      ],
      "text/plain": [
       "                churn_rate  count  diff with global churn rate  risk_ratio\n",
       "contract                                                                  \n",
       "month-to-month    0.427097   3875                     0.161727    1.609440\n",
       "one_year          0.112695   1473                    -0.152675    0.424672\n",
       "two_year          0.028319   1695                    -0.237051    0.106714"
      ]
     },
     "metadata": {},
     "output_type": "display_data"
    },
    {
     "name": "stdout",
     "output_type": "stream",
     "text": [
      "\n",
      "\n",
      "\n",
      "paperlessbilling\n"
     ]
    },
    {
     "data": {
      "text/html": [
       "<div>\n",
       "<style scoped>\n",
       "    .dataframe tbody tr th:only-of-type {\n",
       "        vertical-align: middle;\n",
       "    }\n",
       "\n",
       "    .dataframe tbody tr th {\n",
       "        vertical-align: top;\n",
       "    }\n",
       "\n",
       "    .dataframe thead th {\n",
       "        text-align: right;\n",
       "    }\n",
       "</style>\n",
       "<table border=\"1\" class=\"dataframe\">\n",
       "  <thead>\n",
       "    <tr style=\"text-align: right;\">\n",
       "      <th></th>\n",
       "      <th>churn_rate</th>\n",
       "      <th>count</th>\n",
       "      <th>diff with global churn rate</th>\n",
       "      <th>risk_ratio</th>\n",
       "    </tr>\n",
       "    <tr>\n",
       "      <th>paperlessbilling</th>\n",
       "      <th></th>\n",
       "      <th></th>\n",
       "      <th></th>\n",
       "      <th></th>\n",
       "    </tr>\n",
       "  </thead>\n",
       "  <tbody>\n",
       "    <tr>\n",
       "      <th>no</th>\n",
       "      <td>0.163301</td>\n",
       "      <td>2872</td>\n",
       "      <td>-0.102069</td>\n",
       "      <td>0.615371</td>\n",
       "    </tr>\n",
       "    <tr>\n",
       "      <th>yes</th>\n",
       "      <td>0.335651</td>\n",
       "      <td>4171</td>\n",
       "      <td>0.070281</td>\n",
       "      <td>1.264842</td>\n",
       "    </tr>\n",
       "  </tbody>\n",
       "</table>\n",
       "</div>"
      ],
      "text/plain": [
       "                  churn_rate  count  diff with global churn rate  risk_ratio\n",
       "paperlessbilling                                                            \n",
       "no                  0.163301   2872                    -0.102069    0.615371\n",
       "yes                 0.335651   4171                     0.070281    1.264842"
      ]
     },
     "metadata": {},
     "output_type": "display_data"
    },
    {
     "name": "stdout",
     "output_type": "stream",
     "text": [
      "\n",
      "\n",
      "\n",
      "paymentmethod\n"
     ]
    },
    {
     "data": {
      "text/html": [
       "<div>\n",
       "<style scoped>\n",
       "    .dataframe tbody tr th:only-of-type {\n",
       "        vertical-align: middle;\n",
       "    }\n",
       "\n",
       "    .dataframe tbody tr th {\n",
       "        vertical-align: top;\n",
       "    }\n",
       "\n",
       "    .dataframe thead th {\n",
       "        text-align: right;\n",
       "    }\n",
       "</style>\n",
       "<table border=\"1\" class=\"dataframe\">\n",
       "  <thead>\n",
       "    <tr style=\"text-align: right;\">\n",
       "      <th></th>\n",
       "      <th>churn_rate</th>\n",
       "      <th>count</th>\n",
       "      <th>diff with global churn rate</th>\n",
       "      <th>risk_ratio</th>\n",
       "    </tr>\n",
       "    <tr>\n",
       "      <th>paymentmethod</th>\n",
       "      <th></th>\n",
       "      <th></th>\n",
       "      <th></th>\n",
       "      <th></th>\n",
       "    </tr>\n",
       "  </thead>\n",
       "  <tbody>\n",
       "    <tr>\n",
       "      <th>bank_transfer_(automatic)</th>\n",
       "      <td>0.167098</td>\n",
       "      <td>1544</td>\n",
       "      <td>-0.098271</td>\n",
       "      <td>0.629681</td>\n",
       "    </tr>\n",
       "    <tr>\n",
       "      <th>credit_card_(automatic)</th>\n",
       "      <td>0.152431</td>\n",
       "      <td>1522</td>\n",
       "      <td>-0.112939</td>\n",
       "      <td>0.574410</td>\n",
       "    </tr>\n",
       "    <tr>\n",
       "      <th>electronic_check</th>\n",
       "      <td>0.452854</td>\n",
       "      <td>2365</td>\n",
       "      <td>0.187484</td>\n",
       "      <td>1.706502</td>\n",
       "    </tr>\n",
       "    <tr>\n",
       "      <th>mailed_check</th>\n",
       "      <td>0.191067</td>\n",
       "      <td>1612</td>\n",
       "      <td>-0.074303</td>\n",
       "      <td>0.720003</td>\n",
       "    </tr>\n",
       "  </tbody>\n",
       "</table>\n",
       "</div>"
      ],
      "text/plain": [
       "                           churn_rate  count  diff with global churn rate  \\\n",
       "paymentmethod                                                               \n",
       "bank_transfer_(automatic)    0.167098   1544                    -0.098271   \n",
       "credit_card_(automatic)      0.152431   1522                    -0.112939   \n",
       "electronic_check             0.452854   2365                     0.187484   \n",
       "mailed_check                 0.191067   1612                    -0.074303   \n",
       "\n",
       "                           risk_ratio  \n",
       "paymentmethod                          \n",
       "bank_transfer_(automatic)    0.629681  \n",
       "credit_card_(automatic)      0.574410  \n",
       "electronic_check             1.706502  \n",
       "mailed_check                 0.720003  "
      ]
     },
     "metadata": {},
     "output_type": "display_data"
    },
    {
     "name": "stdout",
     "output_type": "stream",
     "text": [
      "\n",
      "\n",
      "\n"
     ]
    }
   ],
   "source": [
    "from IPython.display import display\n",
    "for c in categorical:\n",
    "        print(c)\n",
    "        df_groupby = df.groupby(c).churn.agg(['mean','count'])\n",
    "        df_groupby.columns = df_groupby.columns.str.replace('mean','churn_rate')\n",
    "        df_groupby['diff with global churn rate'] = df_groupby['churn_rate']-global_churn\n",
    "        df_groupby['risk_ratio'] = df_groupby['churn_rate']/global_churn\n",
    "        display(df_groupby)\n",
    "        print('\\n\\n')"
   ]
  },
  {
   "cell_type": "markdown",
   "id": "e628656e-82b2-46c1-86d7-2b372e56fdff",
   "metadata": {},
   "source": [
    "## 3.6 - Feature Importance: Mutual Information"
   ]
  },
  {
   "cell_type": "code",
   "execution_count": 43,
   "id": "a80028d4-5ca5-4a56-8ed7-8dfdacca87c0",
   "metadata": {},
   "outputs": [],
   "source": [
    "from sklearn.metrics import mutual_info_score"
   ]
  },
  {
   "cell_type": "code",
   "execution_count": 44,
   "id": "0cdbde21-21f5-46d1-992e-668e696735c3",
   "metadata": {},
   "outputs": [
    {
     "data": {
      "text/plain": [
       "0.09901566414272059"
      ]
     },
     "execution_count": 44,
     "metadata": {},
     "output_type": "execute_result"
    }
   ],
   "source": [
    "mutual_info_score(X_train.contract,y_train.churn)"
   ]
  },
  {
   "cell_type": "code",
   "execution_count": 45,
   "id": "085429a6-460d-49cc-8216-ade03467a4b3",
   "metadata": {},
   "outputs": [
    {
     "data": {
      "text/plain": [
       "0.0001620761772512247"
      ]
     },
     "execution_count": 45,
     "metadata": {},
     "output_type": "execute_result"
    }
   ],
   "source": [
    "mutual_info_score(X_train.gender,y_train.churn)"
   ]
  },
  {
   "cell_type": "code",
   "execution_count": 46,
   "id": "035c4ef1-56ee-43d8-a23d-2a9ab47580a6",
   "metadata": {},
   "outputs": [
    {
     "data": {
      "text/plain": [
       "0.014467261139424592"
      ]
     },
     "execution_count": 46,
     "metadata": {},
     "output_type": "execute_result"
    }
   ],
   "source": [
    "mutual_info_score(df.dependents,df.churn)"
   ]
  },
  {
   "cell_type": "code",
   "execution_count": 47,
   "id": "0ca3b207-0c52-48cc-a086-071b07ef784b",
   "metadata": {},
   "outputs": [
    {
     "data": {
      "text/plain": [
       "0.011453657253317984"
      ]
     },
     "execution_count": 47,
     "metadata": {},
     "output_type": "execute_result"
    }
   ],
   "source": [
    "mutual_info_score(df.partner,df.churn)"
   ]
  },
  {
   "cell_type": "code",
   "execution_count": 48,
   "id": "f01b7561-13c9-4a7a-969a-c26b3b0b968a",
   "metadata": {},
   "outputs": [],
   "source": [
    "def mututal_info_score_func(series):\n",
    "    return mutual_info_score(series,y_train_val.churn)"
   ]
  },
  {
   "cell_type": "code",
   "execution_count": 49,
   "id": "1a971b1b-a7d7-4a6f-be23-67a316f014fd",
   "metadata": {},
   "outputs": [],
   "source": [
    "scores = X_train_val[categorical].apply(mututal_info_score_func)"
   ]
  },
  {
   "cell_type": "code",
   "execution_count": 50,
   "id": "d74a5a54-c16e-44ef-8dad-e26aa45e5437",
   "metadata": {},
   "outputs": [
    {
     "data": {
      "text/plain": [
       "contract            0.098320\n",
       "onlinesecurity      0.063085\n",
       "techsupport         0.061032\n",
       "internetservice     0.055868\n",
       "onlinebackup        0.046923\n",
       "deviceprotection    0.043453\n",
       "paymentmethod       0.043210\n",
       "streamingtv         0.031853\n",
       "streamingmovies     0.031581\n",
       "paperlessbilling    0.017589\n",
       "dependents          0.012346\n",
       "partner             0.009968\n",
       "seniorcitizen       0.009410\n",
       "multiplelines       0.000857\n",
       "phoneservice        0.000229\n",
       "gender              0.000117\n",
       "dtype: float64"
      ]
     },
     "execution_count": 50,
     "metadata": {},
     "output_type": "execute_result"
    }
   ],
   "source": [
    "scores.sort_values(ascending=False)"
   ]
  },
  {
   "cell_type": "markdown",
   "id": "07120b97-76fc-49dd-9eb6-9988ea524a04",
   "metadata": {},
   "source": [
    "## 3.7 - Feature Importance: Correlation"
   ]
  },
  {
   "cell_type": "code",
   "execution_count": 51,
   "id": "59910ca9-3332-4e8d-9725-ac84b6fb8373",
   "metadata": {},
   "outputs": [
    {
     "data": {
      "text/html": [
       "<div>\n",
       "<style scoped>\n",
       "    .dataframe tbody tr th:only-of-type {\n",
       "        vertical-align: middle;\n",
       "    }\n",
       "\n",
       "    .dataframe tbody tr th {\n",
       "        vertical-align: top;\n",
       "    }\n",
       "\n",
       "    .dataframe thead th {\n",
       "        text-align: right;\n",
       "    }\n",
       "</style>\n",
       "<table border=\"1\" class=\"dataframe\">\n",
       "  <thead>\n",
       "    <tr style=\"text-align: right;\">\n",
       "      <th></th>\n",
       "      <th>tenure</th>\n",
       "      <th>monthlycharges</th>\n",
       "      <th>totalcharges</th>\n",
       "    </tr>\n",
       "  </thead>\n",
       "  <tbody>\n",
       "    <tr>\n",
       "      <th>1814</th>\n",
       "      <td>12</td>\n",
       "      <td>19.70</td>\n",
       "      <td>258.35</td>\n",
       "    </tr>\n",
       "    <tr>\n",
       "      <th>5946</th>\n",
       "      <td>42</td>\n",
       "      <td>73.90</td>\n",
       "      <td>3160.55</td>\n",
       "    </tr>\n",
       "    <tr>\n",
       "      <th>3881</th>\n",
       "      <td>71</td>\n",
       "      <td>65.15</td>\n",
       "      <td>4681.75</td>\n",
       "    </tr>\n",
       "    <tr>\n",
       "      <th>2389</th>\n",
       "      <td>71</td>\n",
       "      <td>85.45</td>\n",
       "      <td>6300.85</td>\n",
       "    </tr>\n",
       "    <tr>\n",
       "      <th>3676</th>\n",
       "      <td>30</td>\n",
       "      <td>70.40</td>\n",
       "      <td>2044.75</td>\n",
       "    </tr>\n",
       "    <tr>\n",
       "      <th>...</th>\n",
       "      <td>...</td>\n",
       "      <td>...</td>\n",
       "      <td>...</td>\n",
       "    </tr>\n",
       "    <tr>\n",
       "      <th>905</th>\n",
       "      <td>9</td>\n",
       "      <td>100.50</td>\n",
       "      <td>918.60</td>\n",
       "    </tr>\n",
       "    <tr>\n",
       "      <th>5192</th>\n",
       "      <td>60</td>\n",
       "      <td>19.95</td>\n",
       "      <td>1189.90</td>\n",
       "    </tr>\n",
       "    <tr>\n",
       "      <th>3980</th>\n",
       "      <td>28</td>\n",
       "      <td>105.70</td>\n",
       "      <td>2979.50</td>\n",
       "    </tr>\n",
       "    <tr>\n",
       "      <th>235</th>\n",
       "      <td>2</td>\n",
       "      <td>54.40</td>\n",
       "      <td>114.10</td>\n",
       "    </tr>\n",
       "    <tr>\n",
       "      <th>5157</th>\n",
       "      <td>16</td>\n",
       "      <td>68.25</td>\n",
       "      <td>1114.85</td>\n",
       "    </tr>\n",
       "  </tbody>\n",
       "</table>\n",
       "<p>5634 rows × 3 columns</p>\n",
       "</div>"
      ],
      "text/plain": [
       "      tenure  monthlycharges  totalcharges\n",
       "1814      12           19.70        258.35\n",
       "5946      42           73.90       3160.55\n",
       "3881      71           65.15       4681.75\n",
       "2389      71           85.45       6300.85\n",
       "3676      30           70.40       2044.75\n",
       "...      ...             ...           ...\n",
       "905        9          100.50        918.60\n",
       "5192      60           19.95       1189.90\n",
       "3980      28          105.70       2979.50\n",
       "235        2           54.40        114.10\n",
       "5157      16           68.25       1114.85\n",
       "\n",
       "[5634 rows x 3 columns]"
      ]
     },
     "execution_count": 51,
     "metadata": {},
     "output_type": "execute_result"
    }
   ],
   "source": [
    "X_train_val[numerical]"
   ]
  },
  {
   "cell_type": "code",
   "execution_count": 52,
   "id": "9b098c72-a9e2-40b4-803d-dfbaee10e741",
   "metadata": {},
   "outputs": [
    {
     "data": {
      "text/html": [
       "<div>\n",
       "<style scoped>\n",
       "    .dataframe tbody tr th:only-of-type {\n",
       "        vertical-align: middle;\n",
       "    }\n",
       "\n",
       "    .dataframe tbody tr th {\n",
       "        vertical-align: top;\n",
       "    }\n",
       "\n",
       "    .dataframe thead th {\n",
       "        text-align: right;\n",
       "    }\n",
       "</style>\n",
       "<table border=\"1\" class=\"dataframe\">\n",
       "  <thead>\n",
       "    <tr style=\"text-align: right;\">\n",
       "      <th></th>\n",
       "      <th>churn</th>\n",
       "    </tr>\n",
       "  </thead>\n",
       "  <tbody>\n",
       "    <tr>\n",
       "      <th>1814</th>\n",
       "      <td>0</td>\n",
       "    </tr>\n",
       "    <tr>\n",
       "      <th>5946</th>\n",
       "      <td>1</td>\n",
       "    </tr>\n",
       "    <tr>\n",
       "      <th>3881</th>\n",
       "      <td>0</td>\n",
       "    </tr>\n",
       "    <tr>\n",
       "      <th>2389</th>\n",
       "      <td>0</td>\n",
       "    </tr>\n",
       "    <tr>\n",
       "      <th>3676</th>\n",
       "      <td>0</td>\n",
       "    </tr>\n",
       "    <tr>\n",
       "      <th>...</th>\n",
       "      <td>...</td>\n",
       "    </tr>\n",
       "    <tr>\n",
       "      <th>905</th>\n",
       "      <td>1</td>\n",
       "    </tr>\n",
       "    <tr>\n",
       "      <th>5192</th>\n",
       "      <td>0</td>\n",
       "    </tr>\n",
       "    <tr>\n",
       "      <th>3980</th>\n",
       "      <td>1</td>\n",
       "    </tr>\n",
       "    <tr>\n",
       "      <th>235</th>\n",
       "      <td>1</td>\n",
       "    </tr>\n",
       "    <tr>\n",
       "      <th>5157</th>\n",
       "      <td>0</td>\n",
       "    </tr>\n",
       "  </tbody>\n",
       "</table>\n",
       "<p>5634 rows × 1 columns</p>\n",
       "</div>"
      ],
      "text/plain": [
       "      churn\n",
       "1814      0\n",
       "5946      1\n",
       "3881      0\n",
       "2389      0\n",
       "3676      0\n",
       "...     ...\n",
       "905       1\n",
       "5192      0\n",
       "3980      1\n",
       "235       1\n",
       "5157      0\n",
       "\n",
       "[5634 rows x 1 columns]"
      ]
     },
     "execution_count": 52,
     "metadata": {},
     "output_type": "execute_result"
    }
   ],
   "source": [
    "y_train_val"
   ]
  },
  {
   "cell_type": "code",
   "execution_count": 53,
   "id": "5224fb5f-d7b0-490d-9513-477d94fff03a",
   "metadata": {},
   "outputs": [
    {
     "data": {
      "text/plain": [
       "tenure            0.011012\n",
       "monthlycharges    0.007760\n",
       "totalcharges      0.015164\n",
       "dtype: float64"
      ]
     },
     "execution_count": 53,
     "metadata": {},
     "output_type": "execute_result"
    }
   ],
   "source": [
    "X_train_val[numerical].corrwith(y_train_val.reset_index(drop = True)['churn'])"
   ]
  },
  {
   "cell_type": "markdown",
   "id": "e07169fa-d4f9-4df4-80cb-5fe330d9b948",
   "metadata": {},
   "source": [
    "## 3.8 One-hot encoding"
   ]
  },
  {
   "cell_type": "code",
   "execution_count": 54,
   "id": "9f352f37-bc8d-4f3f-95db-07aa74bbd551",
   "metadata": {},
   "outputs": [],
   "source": [
    "from sklearn.feature_extraction import DictVectorizer"
   ]
  },
  {
   "cell_type": "code",
   "execution_count": 55,
   "id": "7b69e7c8-ef1d-431d-9a32-5ea09d003916",
   "metadata": {},
   "outputs": [],
   "source": [
    "dv = DictVectorizer(sparse=False)"
   ]
  },
  {
   "cell_type": "code",
   "execution_count": 56,
   "id": "f7d4c679-7fff-4d3e-8fb0-f28b23505175",
   "metadata": {},
   "outputs": [],
   "source": [
    "dicts = X_train[categorical+numerical].to_dict(orient='records')"
   ]
  },
  {
   "cell_type": "code",
   "execution_count": 59,
   "id": "9567753a-99a2-46c0-a4a3-90229e2876fd",
   "metadata": {},
   "outputs": [
    {
     "data": {
      "text/plain": [
       "array([[0.00000e+00, 0.00000e+00, 1.00000e+00, ..., 1.00000e+00,\n",
       "        7.20000e+01, 8.42515e+03],\n",
       "       [1.00000e+00, 0.00000e+00, 0.00000e+00, ..., 0.00000e+00,\n",
       "        1.00000e+01, 1.02155e+03],\n",
       "       [1.00000e+00, 0.00000e+00, 0.00000e+00, ..., 0.00000e+00,\n",
       "        5.00000e+00, 4.13650e+02],\n",
       "       ...,\n",
       "       [1.00000e+00, 0.00000e+00, 0.00000e+00, ..., 1.00000e+00,\n",
       "        2.00000e+00, 1.90050e+02],\n",
       "       [0.00000e+00, 0.00000e+00, 1.00000e+00, ..., 0.00000e+00,\n",
       "        2.70000e+01, 7.61950e+02],\n",
       "       [1.00000e+00, 0.00000e+00, 0.00000e+00, ..., 0.00000e+00,\n",
       "        9.00000e+00, 7.51650e+02]], shape=(4225, 45))"
      ]
     },
     "execution_count": 59,
     "metadata": {},
     "output_type": "execute_result"
    }
   ],
   "source": [
    "X_train_ohe = dv.fit_transform(dicts)\n",
    "X_train_ohe"
   ]
  },
  {
   "cell_type": "code",
   "execution_count": 60,
   "id": "591c0280-897e-4421-a5ef-58b41f75da62",
   "metadata": {},
   "outputs": [],
   "source": [
    "val_dicts = X_val[categorical+numerical].to_dict(orient='records')"
   ]
  },
  {
   "cell_type": "code",
   "execution_count": 62,
   "id": "fc7d5b74-2724-45ba-adf7-bf1130609a68",
   "metadata": {},
   "outputs": [
    {
     "data": {
      "text/plain": [
       "array([[0.0000e+00, 0.0000e+00, 1.0000e+00, ..., 1.0000e+00, 7.1000e+01,\n",
       "        4.9734e+03],\n",
       "       [1.0000e+00, 0.0000e+00, 0.0000e+00, ..., 0.0000e+00, 1.0000e+00,\n",
       "        2.0750e+01],\n",
       "       [1.0000e+00, 0.0000e+00, 0.0000e+00, ..., 0.0000e+00, 1.0000e+00,\n",
       "        2.0350e+01],\n",
       "       ...,\n",
       "       [1.0000e+00, 0.0000e+00, 0.0000e+00, ..., 1.0000e+00, 1.8000e+01,\n",
       "        1.0581e+03],\n",
       "       [1.0000e+00, 0.0000e+00, 0.0000e+00, ..., 0.0000e+00, 1.0000e+00,\n",
       "        9.3300e+01],\n",
       "       [1.0000e+00, 0.0000e+00, 0.0000e+00, ..., 0.0000e+00, 3.0000e+00,\n",
       "        2.9285e+02]], shape=(1409, 45))"
      ]
     },
     "execution_count": 62,
     "metadata": {},
     "output_type": "execute_result"
    }
   ],
   "source": [
    "X_val_ohe = dv.transform(val_dicts)\n",
    "X_val_ohe"
   ]
  },
  {
   "cell_type": "code",
   "execution_count": null,
   "id": "076eabb6-ef75-4704-bcca-d21859b9d705",
   "metadata": {},
   "outputs": [],
   "source": []
  }
 ],
 "metadata": {
  "kernelspec": {
   "display_name": "Python 3 (ipykernel)",
   "language": "python",
   "name": "python3"
  },
  "language_info": {
   "codemirror_mode": {
    "name": "ipython",
    "version": 3
   },
   "file_extension": ".py",
   "mimetype": "text/x-python",
   "name": "python",
   "nbconvert_exporter": "python",
   "pygments_lexer": "ipython3",
   "version": "3.12.1"
  }
 },
 "nbformat": 4,
 "nbformat_minor": 5
}
