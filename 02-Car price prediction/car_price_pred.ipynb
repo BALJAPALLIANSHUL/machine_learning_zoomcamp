{
 "cells": [
  {
   "cell_type": "code",
   "execution_count": 1,
   "id": "5e10050a-61b5-4742-802c-4cbab40fc501",
   "metadata": {},
   "outputs": [],
   "source": [
    "import pandas as pd\n",
    "import numpy as np\n",
    "\n",
    "import seaborn as sns\n",
    "from matplotlib import pyplot as plt\n",
    "%matplotlib inline"
   ]
  },
  {
   "cell_type": "code",
   "execution_count": 2,
   "id": "247a8069-06d4-4a0a-b703-6d4145a3b54f",
   "metadata": {},
   "outputs": [
    {
     "data": {
      "text/plain": [
       "11914"
      ]
     },
     "execution_count": 2,
     "metadata": {},
     "output_type": "execute_result"
    }
   ],
   "source": [
    "df = pd.read_csv('data.csv')\n",
    "len(df)"
   ]
  },
  {
   "cell_type": "code",
   "execution_count": 3,
   "id": "aa234980-8eca-45e8-b68e-8136819774e2",
   "metadata": {},
   "outputs": [
    {
     "data": {
      "text/html": [
       "<div>\n",
       "<style scoped>\n",
       "    .dataframe tbody tr th:only-of-type {\n",
       "        vertical-align: middle;\n",
       "    }\n",
       "\n",
       "    .dataframe tbody tr th {\n",
       "        vertical-align: top;\n",
       "    }\n",
       "\n",
       "    .dataframe thead th {\n",
       "        text-align: right;\n",
       "    }\n",
       "</style>\n",
       "<table border=\"1\" class=\"dataframe\">\n",
       "  <thead>\n",
       "    <tr style=\"text-align: right;\">\n",
       "      <th></th>\n",
       "      <th>Make</th>\n",
       "      <th>Model</th>\n",
       "      <th>Year</th>\n",
       "      <th>Engine Fuel Type</th>\n",
       "      <th>Engine HP</th>\n",
       "      <th>Engine Cylinders</th>\n",
       "      <th>Transmission Type</th>\n",
       "      <th>Driven_Wheels</th>\n",
       "      <th>Number of Doors</th>\n",
       "      <th>Market Category</th>\n",
       "      <th>Vehicle Size</th>\n",
       "      <th>Vehicle Style</th>\n",
       "      <th>highway MPG</th>\n",
       "      <th>city mpg</th>\n",
       "      <th>Popularity</th>\n",
       "      <th>MSRP</th>\n",
       "    </tr>\n",
       "  </thead>\n",
       "  <tbody>\n",
       "    <tr>\n",
       "      <th>0</th>\n",
       "      <td>BMW</td>\n",
       "      <td>1 Series M</td>\n",
       "      <td>2011</td>\n",
       "      <td>premium unleaded (required)</td>\n",
       "      <td>335.0</td>\n",
       "      <td>6.0</td>\n",
       "      <td>MANUAL</td>\n",
       "      <td>rear wheel drive</td>\n",
       "      <td>2.0</td>\n",
       "      <td>Factory Tuner,Luxury,High-Performance</td>\n",
       "      <td>Compact</td>\n",
       "      <td>Coupe</td>\n",
       "      <td>26</td>\n",
       "      <td>19</td>\n",
       "      <td>3916</td>\n",
       "      <td>46135</td>\n",
       "    </tr>\n",
       "    <tr>\n",
       "      <th>1</th>\n",
       "      <td>BMW</td>\n",
       "      <td>1 Series</td>\n",
       "      <td>2011</td>\n",
       "      <td>premium unleaded (required)</td>\n",
       "      <td>300.0</td>\n",
       "      <td>6.0</td>\n",
       "      <td>MANUAL</td>\n",
       "      <td>rear wheel drive</td>\n",
       "      <td>2.0</td>\n",
       "      <td>Luxury,Performance</td>\n",
       "      <td>Compact</td>\n",
       "      <td>Convertible</td>\n",
       "      <td>28</td>\n",
       "      <td>19</td>\n",
       "      <td>3916</td>\n",
       "      <td>40650</td>\n",
       "    </tr>\n",
       "    <tr>\n",
       "      <th>2</th>\n",
       "      <td>BMW</td>\n",
       "      <td>1 Series</td>\n",
       "      <td>2011</td>\n",
       "      <td>premium unleaded (required)</td>\n",
       "      <td>300.0</td>\n",
       "      <td>6.0</td>\n",
       "      <td>MANUAL</td>\n",
       "      <td>rear wheel drive</td>\n",
       "      <td>2.0</td>\n",
       "      <td>Luxury,High-Performance</td>\n",
       "      <td>Compact</td>\n",
       "      <td>Coupe</td>\n",
       "      <td>28</td>\n",
       "      <td>20</td>\n",
       "      <td>3916</td>\n",
       "      <td>36350</td>\n",
       "    </tr>\n",
       "    <tr>\n",
       "      <th>3</th>\n",
       "      <td>BMW</td>\n",
       "      <td>1 Series</td>\n",
       "      <td>2011</td>\n",
       "      <td>premium unleaded (required)</td>\n",
       "      <td>230.0</td>\n",
       "      <td>6.0</td>\n",
       "      <td>MANUAL</td>\n",
       "      <td>rear wheel drive</td>\n",
       "      <td>2.0</td>\n",
       "      <td>Luxury,Performance</td>\n",
       "      <td>Compact</td>\n",
       "      <td>Coupe</td>\n",
       "      <td>28</td>\n",
       "      <td>18</td>\n",
       "      <td>3916</td>\n",
       "      <td>29450</td>\n",
       "    </tr>\n",
       "    <tr>\n",
       "      <th>4</th>\n",
       "      <td>BMW</td>\n",
       "      <td>1 Series</td>\n",
       "      <td>2011</td>\n",
       "      <td>premium unleaded (required)</td>\n",
       "      <td>230.0</td>\n",
       "      <td>6.0</td>\n",
       "      <td>MANUAL</td>\n",
       "      <td>rear wheel drive</td>\n",
       "      <td>2.0</td>\n",
       "      <td>Luxury</td>\n",
       "      <td>Compact</td>\n",
       "      <td>Convertible</td>\n",
       "      <td>28</td>\n",
       "      <td>18</td>\n",
       "      <td>3916</td>\n",
       "      <td>34500</td>\n",
       "    </tr>\n",
       "  </tbody>\n",
       "</table>\n",
       "</div>"
      ],
      "text/plain": [
       "  Make       Model  Year             Engine Fuel Type  Engine HP  \\\n",
       "0  BMW  1 Series M  2011  premium unleaded (required)      335.0   \n",
       "1  BMW    1 Series  2011  premium unleaded (required)      300.0   \n",
       "2  BMW    1 Series  2011  premium unleaded (required)      300.0   \n",
       "3  BMW    1 Series  2011  premium unleaded (required)      230.0   \n",
       "4  BMW    1 Series  2011  premium unleaded (required)      230.0   \n",
       "\n",
       "   Engine Cylinders Transmission Type     Driven_Wheels  Number of Doors  \\\n",
       "0               6.0            MANUAL  rear wheel drive              2.0   \n",
       "1               6.0            MANUAL  rear wheel drive              2.0   \n",
       "2               6.0            MANUAL  rear wheel drive              2.0   \n",
       "3               6.0            MANUAL  rear wheel drive              2.0   \n",
       "4               6.0            MANUAL  rear wheel drive              2.0   \n",
       "\n",
       "                         Market Category Vehicle Size Vehicle Style  \\\n",
       "0  Factory Tuner,Luxury,High-Performance      Compact         Coupe   \n",
       "1                     Luxury,Performance      Compact   Convertible   \n",
       "2                Luxury,High-Performance      Compact         Coupe   \n",
       "3                     Luxury,Performance      Compact         Coupe   \n",
       "4                                 Luxury      Compact   Convertible   \n",
       "\n",
       "   highway MPG  city mpg  Popularity   MSRP  \n",
       "0           26        19        3916  46135  \n",
       "1           28        19        3916  40650  \n",
       "2           28        20        3916  36350  \n",
       "3           28        18        3916  29450  \n",
       "4           28        18        3916  34500  "
      ]
     },
     "execution_count": 3,
     "metadata": {},
     "output_type": "execute_result"
    }
   ],
   "source": [
    "df.head()"
   ]
  },
  {
   "cell_type": "markdown",
   "id": "02459f27-f5cf-49aa-a2a4-3a2ccc350159",
   "metadata": {},
   "source": [
    "# Normalization"
   ]
  },
  {
   "cell_type": "code",
   "execution_count": 4,
   "id": "62df2397-1eae-4076-8477-d7e5b5806678",
   "metadata": {},
   "outputs": [],
   "source": [
    "# Normalization of column names\n",
    "df.columns = df.columns.str.lower().str.replace(' ', '_')\n",
    "\n",
    "# Filtering columns with object dtypes\n",
    "string_columns = list(df.dtypes[df.dtypes == 'object'].index)\n",
    "\n",
    "# Normalizing them for consistency\n",
    "for col in string_columns:\n",
    "    df[col] = df[col].str.lower().str.replace(' ', '_')"
   ]
  },
  {
   "cell_type": "markdown",
   "id": "c62fd6e4-5682-4f92-91d4-9b8726f2e91a",
   "metadata": {},
   "source": [
    "# Exploratory data analysis"
   ]
  },
  {
   "cell_type": "code",
   "execution_count": 5,
   "id": "f7b0653c-f8a8-450e-be6b-bc10be372949",
   "metadata": {},
   "outputs": [
    {
     "data": {
      "image/png": "[encoded data removed]",
      "text/plain": [
       "<Figure size 600x400 with 1 Axes>"
      ]
     },
     "metadata": {},
     "output_type": "display_data"
    }
   ],
   "source": [
    "plt.figure(figsize=(6, 4))\n",
    "\n",
    "sns.histplot(df.msrp, bins=40, alpha=1)\n",
    "plt.ylabel('Frequency')\n",
    "plt.xlabel('Price')\n",
    "plt.title('Distribution of prices')\n",
    "\n",
    "plt.show()"
   ]
  },
  {
   "cell_type": "raw",
   "id": "45d764cd-7772-4309-8ef9-7a574cf22989",
   "metadata": {},
   "source": [
    "This is a long tail distribution, which is not ideal for  training the model"
   ]
  },
  {
   "cell_type": "markdown",
   "id": "a1900c2a-b0f8-4c81-9e15-c07be69f6d48",
   "metadata": {},
   "source": [
    "#### Concised view"
   ]
  },
  {
   "cell_type": "code",
   "execution_count": 6,
   "id": "54e974d2-6e29-4532-8d5e-96a70ef16f23",
   "metadata": {},
   "outputs": [
    {
     "data": {
      "image/png": "[encoded data removed]",
      "text/plain": [
       "<Figure size 600x400 with 1 Axes>"
      ]
     },
     "metadata": {},
     "output_type": "display_data"
    }
   ],
   "source": [
    "plt.figure(figsize=(6, 4))\n",
    "\n",
    "sns.histplot(df.msrp[df.msrp < 100000], bins=40, alpha=1)\n",
    "plt.ylabel('Frequency')\n",
    "plt.xlabel('Price')\n",
    "plt.title('Distribution of prices')\n",
    "\n",
    "plt.show()"
   ]
  },
  {
   "cell_type": "markdown",
   "id": "b22b6b93-f71d-412f-b1c1-48c42bf045db",
   "metadata": {},
   "source": [
    "# Transformation of Data"
   ]
  },
  {
   "cell_type": "code",
   "execution_count": 7,
   "id": "a8972c0b-4ff3-48ea-9d93-d49c2f69767b",
   "metadata": {},
   "outputs": [
    {
     "data": {
      "text/plain": [
       "make                    0\n",
       "model                   0\n",
       "year                    0\n",
       "engine_fuel_type        3\n",
       "engine_hp              69\n",
       "engine_cylinders       30\n",
       "transmission_type       0\n",
       "driven_wheels           0\n",
       "number_of_doors         6\n",
       "market_category      3742\n",
       "vehicle_size            0\n",
       "vehicle_style           0\n",
       "highway_mpg             0\n",
       "city_mpg                0\n",
       "popularity              0\n",
       "msrp                    0\n",
       "dtype: int64"
      ]
     },
     "execution_count": 7,
     "metadata": {},
     "output_type": "execute_result"
    }
   ],
   "source": [
    "df.isnull().sum()"
   ]
  },
  {
   "cell_type": "markdown",
   "id": "fd6f11ac-3a23-4dfd-973b-e6e5910fc3b4",
   "metadata": {},
   "source": [
    "## using Logarithmic Transformation on prices column"
   ]
  },
  {
   "cell_type": "code",
   "execution_count": 8,
   "id": "8a20a400-9eea-445a-adae-0a220979ecd0",
   "metadata": {},
   "outputs": [
    {
     "data": {
      "image/png": "[encoded data removed]",
      "text/plain": [
       "<Figure size 600x400 with 1 Axes>"
      ]
     },
     "metadata": {},
     "output_type": "display_data"
    }
   ],
   "source": [
    "log_price = np.log1p(df.msrp)\n",
    "\n",
    "plt.figure(figsize=(6, 4))\n",
    "\n",
    "sns.histplot(log_price, bins=40, alpha=1)\n",
    "plt.ylabel('Frequency')\n",
    "plt.xlabel('Log(Price + 1)')\n",
    "plt.title('Distribution of prices after log tranformation')\n",
    "\n",
    "plt.show()"
   ]
  },
  {
   "cell_type": "markdown",
   "id": "0def14e6-38db-411c-88bc-0c655586fc38",
   "metadata": {},
   "source": [
    "## we will require only numerical data types for machine learning model. So for simplicity let's keep only numerical type columns"
   ]
  },
  {
   "cell_type": "code",
   "execution_count": 9,
   "id": "207850c8-efc0-4dad-89cb-abf5762e1605",
   "metadata": {},
   "outputs": [],
   "source": [
    "df = df.select_dtypes(include = ['int64','float64'])"
   ]
  },
  {
   "cell_type": "code",
   "execution_count": 10,
   "id": "4ca2adfd-4bd9-4970-80ba-06788ce147ac",
   "metadata": {},
   "outputs": [
    {
     "data": {
      "text/plain": [
       "year                 0\n",
       "engine_hp           69\n",
       "engine_cylinders    30\n",
       "number_of_doors      6\n",
       "highway_mpg          0\n",
       "city_mpg             0\n",
       "popularity           0\n",
       "msrp                 0\n",
       "dtype: int64"
      ]
     },
     "execution_count": 10,
     "metadata": {},
     "output_type": "execute_result"
    }
   ],
   "source": [
    "df.isnull().sum()"
   ]
  },
  {
   "cell_type": "markdown",
   "id": "e82407c1-9bd8-469b-ad81-d21f6565087c",
   "metadata": {},
   "source": [
    "very small portion of data points contain missing values so we drop those rows"
   ]
  },
  {
   "cell_type": "code",
   "execution_count": 11,
   "id": "c278d3b5-fe80-4768-bec2-5c533c2d94aa",
   "metadata": {},
   "outputs": [],
   "source": [
    "df = df.fillna(0)"
   ]
  },
  {
   "cell_type": "code",
   "execution_count": 12,
   "id": "61a1d9fe-8b0b-46ca-8193-af48eae8d2d8",
   "metadata": {},
   "outputs": [
    {
     "data": {
      "text/plain": [
       "year                0\n",
       "engine_hp           0\n",
       "engine_cylinders    0\n",
       "number_of_doors     0\n",
       "highway_mpg         0\n",
       "city_mpg            0\n",
       "popularity          0\n",
       "msrp                0\n",
       "dtype: int64"
      ]
     },
     "execution_count": 12,
     "metadata": {},
     "output_type": "execute_result"
    }
   ],
   "source": [
    "df.isnull().sum()"
   ]
  },
  {
   "cell_type": "code",
   "execution_count": 13,
   "id": "39e1ab2b-a728-4ac8-9cf7-7f30767d2690",
   "metadata": {},
   "outputs": [
    {
     "data": {
      "text/plain": [
       "number_of_doors\n",
       "4.0    8353\n",
       "2.0    3160\n",
       "3.0     395\n",
       "0.0       6\n",
       "Name: count, dtype: int64"
      ]
     },
     "execution_count": 13,
     "metadata": {},
     "output_type": "execute_result"
    }
   ],
   "source": [
    "df['number_of_doors'].value_counts()"
   ]
  },
  {
   "cell_type": "markdown",
   "id": "db64d8b9-bf44-40aa-93bf-88b3fb6b1625",
   "metadata": {},
   "source": [
    "There is no car with 0 doors"
   ]
  },
  {
   "cell_type": "code",
   "execution_count": 14,
   "id": "1e39741b-6237-4614-8eea-440543f4bac3",
   "metadata": {},
   "outputs": [],
   "source": [
    "df = df[df['number_of_doors'] != 0]"
   ]
  },
  {
   "cell_type": "markdown",
   "id": "d8d36b88-3424-4516-acf7-cc4688116c81",
   "metadata": {},
   "source": [
    "# Setting up validation framework"
   ]
  },
  {
   "cell_type": "code",
   "execution_count": 15,
   "id": "f4d3eff4-790c-4c79-831e-5d36d7dcdc65",
   "metadata": {},
   "outputs": [],
   "source": [
    "np.random.seed(2)"
   ]
  },
  {
   "cell_type": "markdown",
   "id": "11414c48-5928-460e-b1d0-9afe16af093a",
   "metadata": {},
   "source": [
    "## Shuffling data"
   ]
  },
  {
   "cell_type": "code",
   "execution_count": 16,
   "id": "33217d43-aeee-4a10-b90c-519c2cc31caa",
   "metadata": {},
   "outputs": [],
   "source": [
    "n = len(df)\n",
    "\n",
    "n_val = int(0.2 * n)\n",
    "n_test = int(0.2 * n)\n",
    "n_train = n - (n_val + n_test)"
   ]
  },
  {
   "cell_type": "code",
   "execution_count": 17,
   "id": "3b528d31-020f-4bf4-8390-5313431a709e",
   "metadata": {},
   "outputs": [],
   "source": [
    "idx = np.arange(n)\n",
    "np.random.shuffle(idx)\n",
    "\n",
    "df_shuffled = df.iloc[idx]"
   ]
  },
  {
   "cell_type": "markdown",
   "id": "8941b71f-ea15-4771-b95b-9c570ef61e94",
   "metadata": {},
   "source": [
    "## 60+20+20 Train+Validation+Test set"
   ]
  },
  {
   "cell_type": "code",
   "execution_count": 18,
   "id": "2d7c447d-acc7-4e63-8580-17eebef6f793",
   "metadata": {},
   "outputs": [],
   "source": [
    "df_train = df_shuffled.iloc[:n_train].copy()\n",
    "df_val = df_shuffled.iloc[n_train:n_train+n_val].copy()\n",
    "df_test = df_shuffled.iloc[n_train+n_val:].copy()"
   ]
  },
  {
   "cell_type": "code",
   "execution_count": 19,
   "id": "5ee7cdbe-2836-4a08-88a8-d1d9e902fc00",
   "metadata": {},
   "outputs": [],
   "source": [
    "y_train_orig = df_train.msrp.values\n",
    "y_val_orig = df_val.msrp.values\n",
    "y_test_orig = df_test.msrp.values"
   ]
  },
  {
   "cell_type": "code",
   "execution_count": 20,
   "id": "94df6be9-ffbd-4cf1-9b29-eda6f1e6a139",
   "metadata": {},
   "outputs": [],
   "source": [
    "log_y_train = np.log1p(df_train.msrp.values)\n",
    "log_y_val = np.log1p(df_val.msrp.values)\n",
    "log_y_test = np.log1p(df_test.msrp.values)"
   ]
  },
  {
   "cell_type": "code",
   "execution_count": 21,
   "id": "c327fcba-39c0-4f08-9be1-d7939abe89d3",
   "metadata": {},
   "outputs": [],
   "source": [
    "del df_train['msrp']\n",
    "del df_val['msrp']\n",
    "del df_test['msrp']"
   ]
  },
  {
   "cell_type": "markdown",
   "id": "cc655b2f-feda-40e6-bb8b-d6e2e1994577",
   "metadata": {},
   "source": [
    "# Modelling"
   ]
  },
  {
   "cell_type": "markdown",
   "id": "8975bb3f-9449-4b2c-84f8-aaae08678d73",
   "metadata": {},
   "source": [
    "## Simple Linear Regression"
   ]
  },
  {
   "cell_type": "markdown",
   "id": "cc59e622-b038-4faa-87c4-da9896568eaa",
   "metadata": {},
   "source": [
    "As a starting point let's predefine the weights and bias of a linear regression model"
   ]
  },
  {
   "cell_type": "code",
   "execution_count": 22,
   "id": "8de91916-5788-4e04-bc73-6f9d0d294a3a",
   "metadata": {},
   "outputs": [
    {
     "data": {
      "text/html": [
       "<div>\n",
       "<style scoped>\n",
       "    .dataframe tbody tr th:only-of-type {\n",
       "        vertical-align: middle;\n",
       "    }\n",
       "\n",
       "    .dataframe tbody tr th {\n",
       "        vertical-align: top;\n",
       "    }\n",
       "\n",
       "    .dataframe thead th {\n",
       "        text-align: right;\n",
       "    }\n",
       "</style>\n",
       "<table border=\"1\" class=\"dataframe\">\n",
       "  <thead>\n",
       "    <tr style=\"text-align: right;\">\n",
       "      <th></th>\n",
       "      <th>year</th>\n",
       "      <th>engine_hp</th>\n",
       "      <th>engine_cylinders</th>\n",
       "      <th>number_of_doors</th>\n",
       "      <th>highway_mpg</th>\n",
       "      <th>city_mpg</th>\n",
       "      <th>popularity</th>\n",
       "    </tr>\n",
       "  </thead>\n",
       "  <tbody>\n",
       "    <tr>\n",
       "      <th>925</th>\n",
       "      <td>2015</td>\n",
       "      <td>520.0</td>\n",
       "      <td>6.0</td>\n",
       "      <td>2.0</td>\n",
       "      <td>24</td>\n",
       "      <td>17</td>\n",
       "      <td>1715</td>\n",
       "    </tr>\n",
       "    <tr>\n",
       "      <th>11422</th>\n",
       "      <td>1999</td>\n",
       "      <td>158.0</td>\n",
       "      <td>6.0</td>\n",
       "      <td>4.0</td>\n",
       "      <td>22</td>\n",
       "      <td>16</td>\n",
       "      <td>535</td>\n",
       "    </tr>\n",
       "    <tr>\n",
       "      <th>9049</th>\n",
       "      <td>1995</td>\n",
       "      <td>115.0</td>\n",
       "      <td>4.0</td>\n",
       "      <td>2.0</td>\n",
       "      <td>30</td>\n",
       "      <td>23</td>\n",
       "      <td>1439</td>\n",
       "    </tr>\n",
       "    <tr>\n",
       "      <th>6626</th>\n",
       "      <td>2015</td>\n",
       "      <td>400.0</td>\n",
       "      <td>6.0</td>\n",
       "      <td>4.0</td>\n",
       "      <td>23</td>\n",
       "      <td>17</td>\n",
       "      <td>1715</td>\n",
       "    </tr>\n",
       "    <tr>\n",
       "      <th>7403</th>\n",
       "      <td>2007</td>\n",
       "      <td>255.0</td>\n",
       "      <td>6.0</td>\n",
       "      <td>4.0</td>\n",
       "      <td>22</td>\n",
       "      <td>14</td>\n",
       "      <td>1013</td>\n",
       "    </tr>\n",
       "  </tbody>\n",
       "</table>\n",
       "</div>"
      ],
      "text/plain": [
       "       year  engine_hp  engine_cylinders  number_of_doors  highway_mpg  \\\n",
       "925    2015      520.0               6.0              2.0           24   \n",
       "11422  1999      158.0               6.0              4.0           22   \n",
       "9049   1995      115.0               4.0              2.0           30   \n",
       "6626   2015      400.0               6.0              4.0           23   \n",
       "7403   2007      255.0               6.0              4.0           22   \n",
       "\n",
       "       city_mpg  popularity  \n",
       "925          17        1715  \n",
       "11422        16         535  \n",
       "9049         23        1439  \n",
       "6626         17        1715  \n",
       "7403         14        1013  "
      ]
     },
     "execution_count": 22,
     "metadata": {},
     "output_type": "execute_result"
    }
   ],
   "source": [
    "df_train.head()"
   ]
  },
  {
   "cell_type": "code",
   "execution_count": 23,
   "id": "3d2d8b1f-b2de-42c7-8b14-a107fd63f700",
   "metadata": {},
   "outputs": [],
   "source": [
    "X_train = df_train.to_numpy()"
   ]
  },
  {
   "cell_type": "code",
   "execution_count": 24,
   "id": "753ec746-d99f-45eb-bda6-5c20fe953ad4",
   "metadata": {},
   "outputs": [],
   "source": [
    "def dummy_linear_regression(X):\n",
    "    w0 = 2 # bias as 2\n",
    "    wts = np.ones((X.shape[1], 1)) # for simplysity we keep all weights =1\n",
    "\n",
    "    # Calculating price w0 + w1*x1 + w2*x2 + ....+ wn*xn using matrix multiplication\n",
    "    pred = w0 + X@wts;    \n",
    "    return pred\n",
    "    "
   ]
  },
  {
   "cell_type": "markdown",
   "id": "d8493734-f69d-4def-a66c-342cc16ae79d",
   "metadata": {},
   "source": [
    "### lets test it directly. As we have pre computed model"
   ]
  },
  {
   "cell_type": "code",
   "execution_count": 25,
   "id": "22c7c827-a799-4e5c-a654-57a6f25d2d39",
   "metadata": {},
   "outputs": [
    {
     "data": {
      "text/plain": [
       "array([[4301.],\n",
       "       [2742.],\n",
       "       [3610.],\n",
       "       ...,\n",
       "       [3654.],\n",
       "       [2936.],\n",
       "       [7911.]], shape=(7146, 1))"
      ]
     },
     "execution_count": 25,
     "metadata": {},
     "output_type": "execute_result"
    }
   ],
   "source": [
    "dummy_linear_regression(X_train)"
   ]
  },
  {
   "cell_type": "markdown",
   "id": "20f35b75-d507-41f1-8d04-352ec6df1215",
   "metadata": {},
   "source": [
    "## Actual Training of Linear Regression Model"
   ]
  },
  {
   "cell_type": "code",
   "execution_count": 26,
   "id": "f47f6693-83d5-4e54-8ed2-91dc52f30ac9",
   "metadata": {},
   "outputs": [],
   "source": [
    "def linear_regression(X, y):\n",
    "    # Add a column of ones for the bias/intercept term\n",
    "    X = np.column_stack([np.ones(X.shape[0]), X])\n",
    "    \n",
    "    # This is more stable than using np.linalg.inv()\n",
    "    XTX = X.T @ X\n",
    "    XTy = X.T @ y\n",
    "    \n",
    "    # Solve the system of linear equations (XTX)w = XTy for w\n",
    "    w = np.linalg.solve(XTX, XTy)\n",
    "    \n",
    "    return w"
   ]
  },
  {
   "cell_type": "markdown",
   "id": "8bc9f48d-fa92-4323-9fae-6dbd22467380",
   "metadata": {},
   "source": [
    "### Training with original data with no logarithmic transformation"
   ]
  },
  {
   "cell_type": "code",
   "execution_count": 27,
   "id": "c40973cd-206f-4ec9-a479-8018564f84cf",
   "metadata": {},
   "outputs": [
    {
     "data": {
      "text/plain": [
       "(np.float64(-164496.17181020157),\n",
       " array([ 3.65480097e+01,  3.34391212e+02,  6.53896288e+03, -4.90471195e+03,\n",
       "         4.86984338e+02,  1.06302221e+03, -3.17432069e+00]))"
      ]
     },
     "execution_count": 27,
     "metadata": {},
     "output_type": "execute_result"
    }
   ],
   "source": [
    "w = linear_regression(X_train,y_train_orig)\n",
    "w[0],w[1:]"
   ]
  },
  {
   "cell_type": "code",
   "execution_count": 28,
   "id": "63da55e5-ffb6-4493-b8cf-be31fcc12ac5",
   "metadata": {},
   "outputs": [
    {
     "data": {
      "text/plain": [
       "array([136770.89342156,   7035.78996578,  -2290.28176636, ...,\n",
       "        10538.91035923,  31896.92837212,   -515.39733968], shape=(7146,))"
      ]
     },
     "execution_count": 28,
     "metadata": {},
     "output_type": "execute_result"
    }
   ],
   "source": [
    "y_pred = X_train@w[1:]+w[0]\n",
    "y_pred"
   ]
  },
  {
   "cell_type": "code",
   "execution_count": 29,
   "id": "c3f1315f-9ec0-44da-8e6b-29ca4d369512",
   "metadata": {},
   "outputs": [
    {
     "data": {
      "text/plain": [
       "<Axes: ylabel='Count'>"
      ]
     },
     "execution_count": 29,
     "metadata": {},
     "output_type": "execute_result"
    },
    {
     "data": {
      "image/png": "[encoded data removed]",
      "text/plain": [
       "<Figure size 640x480 with 1 Axes>"
      ]
     },
     "metadata": {},
     "output_type": "display_data"
    }
   ],
   "source": [
    "sns.histplot(y_pred, color='blue', alpha=0.4, bins=50,  label='y_pred')\n",
    "sns.histplot(y_train_orig, color='red', alpha=0.4, bins=50, label='y_train_orig')"
   ]
  },
  {
   "cell_type": "markdown",
   "id": "d9941b31-0c09-45ac-8fea-933093aa0056",
   "metadata": {},
   "source": [
    "## Training with logarithmic transformation on prices"
   ]
  },
  {
   "cell_type": "code",
   "execution_count": 30,
   "id": "2b479d8b-19f4-4c61-bc20-57cc31e82c3e",
   "metadata": {},
   "outputs": [
    {
     "data": {
      "text/plain": [
       "(np.float64(-181.01825893171366),\n",
       " array([ 9.44258274e-02,  3.86632053e-03,  6.84665302e-02, -2.50587975e-02,\n",
       "        -3.36901987e-03,  1.06294020e-02, -4.88019831e-05]))"
      ]
     },
     "execution_count": 30,
     "metadata": {},
     "output_type": "execute_result"
    }
   ],
   "source": [
    "w_with_log_transform = linear_regression(X_train,log_y_train)\n",
    "w_with_log_transform[0],w_with_log_transform[1:]"
   ]
  },
  {
   "cell_type": "code",
   "execution_count": 31,
   "id": "1a010c83-6e8d-403b-933a-8f7aea7a0888",
   "metadata": {},
   "outputs": [],
   "source": [
    "y_pred_log = X_train@w_with_log_transform[1:] + w_with_log_transform[0]"
   ]
  },
  {
   "cell_type": "code",
   "execution_count": 32,
   "id": "e52eb57b-9dae-4f13-bfac-eb46030d3dd9",
   "metadata": {},
   "outputs": [
    {
     "data": {
      "text/plain": [
       "<Axes: ylabel='Count'>"
      ]
     },
     "execution_count": 32,
     "metadata": {},
     "output_type": "execute_result"
    },
    {
     "data": {
      "image/png": "[encoded data removed]",
      "text/plain": [
       "<Figure size 640x480 with 1 Axes>"
      ]
     },
     "metadata": {},
     "output_type": "display_data"
    }
   ],
   "source": [
    "sns.histplot(y_pred_log,color='blue',alpha=0.4,bins=50)\n",
    "sns.histplot(log_y_train,color='red',alpha=0.4,bins=50)"
   ]
  },
  {
   "cell_type": "markdown",
   "id": "b226f67d-7067-48ba-a540-835484200496",
   "metadata": {},
   "source": [
    "## using validation set"
   ]
  },
  {
   "cell_type": "code",
   "execution_count": 33,
   "id": "e614b202-373e-42d9-ae7c-4109b55777ca",
   "metadata": {},
   "outputs": [],
   "source": [
    "subset_val = df_val.values\n",
    "y_pred_val_log = subset_val@w_with_log_transform[1:] + w_with_log_transform[0]"
   ]
  },
  {
   "cell_type": "code",
   "execution_count": 34,
   "id": "1c00fc90-a506-4489-8733-0907ecbbac2a",
   "metadata": {},
   "outputs": [
    {
     "data": {
      "text/plain": [
       "<Axes: ylabel='Count'>"
      ]
     },
     "execution_count": 34,
     "metadata": {},
     "output_type": "execute_result"
    },
    {
     "data": {
      "image/png": "[encoded data removed]",
      "text/plain": [
       "<Figure size 640x480 with 1 Axes>"
      ]
     },
     "metadata": {},
     "output_type": "display_data"
    }
   ],
   "source": [
    "sns.histplot(y_pred_val_log,color='blue',alpha=0.4,bins=50)\n",
    "sns.histplot(log_y_val,color='red',alpha=0.4,bins=50)"
   ]
  },
  {
   "cell_type": "markdown",
   "id": "f5a5c738-c3f6-43e5-a67b-0414fc3318a0",
   "metadata": {},
   "source": [
    "# RMSE"
   ]
  },
  {
   "cell_type": "code",
   "execution_count": 35,
   "id": "e652c2fb-430a-4f1e-8964-c337577a5c23",
   "metadata": {},
   "outputs": [],
   "source": [
    "def root_mean_squared_error(y,y_pred):\n",
    "    se = (y-y_pred)**2\n",
    "    mse = se.mean()\n",
    "    return np.sqrt(mse)"
   ]
  },
  {
   "cell_type": "markdown",
   "id": "40b3bdf4-8765-4d02-bda0-5d565546ab82",
   "metadata": {},
   "source": [
    "Without log transformation"
   ]
  },
  {
   "cell_type": "code",
   "execution_count": 36,
   "id": "5b0bd9cd-0f53-4258-b012-6a159e979795",
   "metadata": {},
   "outputs": [
    {
     "data": {
      "text/plain": [
       "np.float64(47648.04971669507)"
      ]
     },
     "execution_count": 36,
     "metadata": {},
     "output_type": "execute_result"
    }
   ],
   "source": [
    "root_mean_squared_error(y_train_orig,y_pred)"
   ]
  },
  {
   "cell_type": "markdown",
   "id": "047beb8c-79a1-460f-86e4-bb54a9b3590d",
   "metadata": {},
   "source": [
    "With log transformation"
   ]
  },
  {
   "cell_type": "code",
   "execution_count": 37,
   "id": "9f624acb-8bc1-4037-b03d-783045575f80",
   "metadata": {},
   "outputs": [
    {
     "data": {
      "text/plain": [
       "np.float64(45600.21511423705)"
      ]
     },
     "execution_count": 37,
     "metadata": {},
     "output_type": "execute_result"
    }
   ],
   "source": [
    "root_mean_squared_error(np.exp(log_y_train),np.exp(y_pred_log))"
   ]
  },
  {
   "cell_type": "markdown",
   "id": "2298d929-44ed-4a67-a4f1-5a7d1f8af33f",
   "metadata": {},
   "source": [
    "# Validation"
   ]
  },
  {
   "cell_type": "markdown",
   "id": "b16e35b6-ffdb-4469-9bd8-db744ab66051",
   "metadata": {},
   "source": [
    "## Without log transformation"
   ]
  },
  {
   "cell_type": "code",
   "execution_count": 38,
   "id": "4bec2f0f-9604-468d-8779-d5d576976fe7",
   "metadata": {},
   "outputs": [],
   "source": [
    "X_val = df_val.values"
   ]
  },
  {
   "cell_type": "code",
   "execution_count": 39,
   "id": "d7a2dc6b-59bf-4aa6-aa56-24fb21642f06",
   "metadata": {},
   "outputs": [],
   "source": [
    "y_val_pred = X_val@w[1:]+w[0]"
   ]
  },
  {
   "cell_type": "code",
   "execution_count": 40,
   "id": "501ac78a-9b3e-4fb0-83d6-005c028626e8",
   "metadata": {},
   "outputs": [
    {
     "data": {
      "text/plain": [
       "np.float64(32519.942857031667)"
      ]
     },
     "execution_count": 40,
     "metadata": {},
     "output_type": "execute_result"
    }
   ],
   "source": [
    "root_mean_squared_error(y_val_orig,y_val_pred)"
   ]
  },
  {
   "cell_type": "markdown",
   "id": "cf9641f8-1134-46fa-a297-cb2ef530b040",
   "metadata": {},
   "source": [
    "## With log transformation"
   ]
  },
  {
   "cell_type": "code",
   "execution_count": 41,
   "id": "125fe7c5-6779-43a8-b0c6-418d9a4d6536",
   "metadata": {},
   "outputs": [],
   "source": [
    "log_y_val_pred = X_val@w_with_log_transform[1:]+w_with_log_transform[0]"
   ]
  },
  {
   "cell_type": "code",
   "execution_count": 42,
   "id": "57a8a438-3f29-4395-9aac-8613c805ec86",
   "metadata": {},
   "outputs": [
    {
     "data": {
      "text/plain": [
       "np.float64(32700.727667690033)"
      ]
     },
     "execution_count": 42,
     "metadata": {},
     "output_type": "execute_result"
    }
   ],
   "source": [
    "root_mean_squared_error(np.exp(log_y_val),np.exp(log_y_val_pred))"
   ]
  },
  {
   "cell_type": "markdown",
   "id": "24041417-c4eb-4424-912f-e05105ce8195",
   "metadata": {},
   "source": [
    "# Simple feature engineering"
   ]
  },
  {
   "cell_type": "code",
   "execution_count": 43,
   "id": "489bbe64-02d0-4646-a526-8a4008b59821",
   "metadata": {},
   "outputs": [],
   "source": [
    "def add_feature_age(df_train):\n",
    "    df_dummy = df_train.copy()\n",
    "    # so let's assume we are in this max year and calculate the age of every model\n",
    "    df_dummy['year'] = df_train['year'].max()-df_dummy['year']\n",
    "    df_dummy.rename(columns={'year':'age'},inplace=True)\n",
    "    return df_dummy"
   ]
  },
  {
   "cell_type": "code",
   "execution_count": 44,
   "id": "faa6a9ce-83b2-48d2-a01f-1431ee58bdf3",
   "metadata": {},
   "outputs": [
    {
     "data": {
      "text/html": [
       "<div>\n",
       "<style scoped>\n",
       "    .dataframe tbody tr th:only-of-type {\n",
       "        vertical-align: middle;\n",
       "    }\n",
       "\n",
       "    .dataframe tbody tr th {\n",
       "        vertical-align: top;\n",
       "    }\n",
       "\n",
       "    .dataframe thead th {\n",
       "        text-align: right;\n",
       "    }\n",
       "</style>\n",
       "<table border=\"1\" class=\"dataframe\">\n",
       "  <thead>\n",
       "    <tr style=\"text-align: right;\">\n",
       "      <th></th>\n",
       "      <th>age</th>\n",
       "      <th>engine_hp</th>\n",
       "      <th>engine_cylinders</th>\n",
       "      <th>number_of_doors</th>\n",
       "      <th>highway_mpg</th>\n",
       "      <th>city_mpg</th>\n",
       "      <th>popularity</th>\n",
       "    </tr>\n",
       "  </thead>\n",
       "  <tbody>\n",
       "    <tr>\n",
       "      <th>925</th>\n",
       "      <td>2</td>\n",
       "      <td>520.0</td>\n",
       "      <td>6.0</td>\n",
       "      <td>2.0</td>\n",
       "      <td>24</td>\n",
       "      <td>17</td>\n",
       "      <td>1715</td>\n",
       "    </tr>\n",
       "    <tr>\n",
       "      <th>11422</th>\n",
       "      <td>18</td>\n",
       "      <td>158.0</td>\n",
       "      <td>6.0</td>\n",
       "      <td>4.0</td>\n",
       "      <td>22</td>\n",
       "      <td>16</td>\n",
       "      <td>535</td>\n",
       "    </tr>\n",
       "    <tr>\n",
       "      <th>9049</th>\n",
       "      <td>22</td>\n",
       "      <td>115.0</td>\n",
       "      <td>4.0</td>\n",
       "      <td>2.0</td>\n",
       "      <td>30</td>\n",
       "      <td>23</td>\n",
       "      <td>1439</td>\n",
       "    </tr>\n",
       "    <tr>\n",
       "      <th>6626</th>\n",
       "      <td>2</td>\n",
       "      <td>400.0</td>\n",
       "      <td>6.0</td>\n",
       "      <td>4.0</td>\n",
       "      <td>23</td>\n",
       "      <td>17</td>\n",
       "      <td>1715</td>\n",
       "    </tr>\n",
       "    <tr>\n",
       "      <th>7403</th>\n",
       "      <td>10</td>\n",
       "      <td>255.0</td>\n",
       "      <td>6.0</td>\n",
       "      <td>4.0</td>\n",
       "      <td>22</td>\n",
       "      <td>14</td>\n",
       "      <td>1013</td>\n",
       "    </tr>\n",
       "    <tr>\n",
       "      <th>...</th>\n",
       "      <td>...</td>\n",
       "      <td>...</td>\n",
       "      <td>...</td>\n",
       "      <td>...</td>\n",
       "      <td>...</td>\n",
       "      <td>...</td>\n",
       "      <td>...</td>\n",
       "    </tr>\n",
       "    <tr>\n",
       "      <th>5285</th>\n",
       "      <td>3</td>\n",
       "      <td>240.0</td>\n",
       "      <td>6.0</td>\n",
       "      <td>4.0</td>\n",
       "      <td>26</td>\n",
       "      <td>19</td>\n",
       "      <td>617</td>\n",
       "    </tr>\n",
       "    <tr>\n",
       "      <th>2420</th>\n",
       "      <td>0</td>\n",
       "      <td>200.0</td>\n",
       "      <td>4.0</td>\n",
       "      <td>4.0</td>\n",
       "      <td>31</td>\n",
       "      <td>22</td>\n",
       "      <td>873</td>\n",
       "    </tr>\n",
       "    <tr>\n",
       "      <th>2779</th>\n",
       "      <td>2</td>\n",
       "      <td>200.0</td>\n",
       "      <td>4.0</td>\n",
       "      <td>4.0</td>\n",
       "      <td>25</td>\n",
       "      <td>19</td>\n",
       "      <td>1385</td>\n",
       "    </tr>\n",
       "    <tr>\n",
       "      <th>3708</th>\n",
       "      <td>0</td>\n",
       "      <td>241.0</td>\n",
       "      <td>4.0</td>\n",
       "      <td>4.0</td>\n",
       "      <td>29</td>\n",
       "      <td>22</td>\n",
       "      <td>617</td>\n",
       "    </tr>\n",
       "    <tr>\n",
       "      <th>4795</th>\n",
       "      <td>0</td>\n",
       "      <td>160.0</td>\n",
       "      <td>4.0</td>\n",
       "      <td>4.0</td>\n",
       "      <td>40</td>\n",
       "      <td>27</td>\n",
       "      <td>5657</td>\n",
       "    </tr>\n",
       "  </tbody>\n",
       "</table>\n",
       "<p>7146 rows × 7 columns</p>\n",
       "</div>"
      ],
      "text/plain": [
       "       age  engine_hp  engine_cylinders  number_of_doors  highway_mpg  \\\n",
       "925      2      520.0               6.0              2.0           24   \n",
       "11422   18      158.0               6.0              4.0           22   \n",
       "9049    22      115.0               4.0              2.0           30   \n",
       "6626     2      400.0               6.0              4.0           23   \n",
       "7403    10      255.0               6.0              4.0           22   \n",
       "...    ...        ...               ...              ...          ...   \n",
       "5285     3      240.0               6.0              4.0           26   \n",
       "2420     0      200.0               4.0              4.0           31   \n",
       "2779     2      200.0               4.0              4.0           25   \n",
       "3708     0      241.0               4.0              4.0           29   \n",
       "4795     0      160.0               4.0              4.0           40   \n",
       "\n",
       "       city_mpg  popularity  \n",
       "925          17        1715  \n",
       "11422        16         535  \n",
       "9049         23        1439  \n",
       "6626         17        1715  \n",
       "7403         14        1013  \n",
       "...         ...         ...  \n",
       "5285         19         617  \n",
       "2420         22         873  \n",
       "2779         19        1385  \n",
       "3708         22         617  \n",
       "4795         27        5657  \n",
       "\n",
       "[7146 rows x 7 columns]"
      ]
     },
     "execution_count": 44,
     "metadata": {},
     "output_type": "execute_result"
    }
   ],
   "source": [
    "new_df = add_feature_age(df_train)\n",
    "new_df"
   ]
  },
  {
   "cell_type": "code",
   "execution_count": 45,
   "id": "8635ba6d-72c5-409d-9ac9-4e8e9fd5ed1c",
   "metadata": {},
   "outputs": [],
   "source": [
    "X_with_age = new_df.values"
   ]
  },
  {
   "cell_type": "code",
   "execution_count": 46,
   "id": "28e66add-6bc9-4712-9734-12cd32273228",
   "metadata": {},
   "outputs": [
    {
     "data": {
      "text/plain": [
       "array([[2.000e+00, 5.200e+02, 6.000e+00, ..., 2.400e+01, 1.700e+01,\n",
       "        1.715e+03],\n",
       "       [1.800e+01, 1.580e+02, 6.000e+00, ..., 2.200e+01, 1.600e+01,\n",
       "        5.350e+02],\n",
       "       [2.200e+01, 1.150e+02, 4.000e+00, ..., 3.000e+01, 2.300e+01,\n",
       "        1.439e+03],\n",
       "       ...,\n",
       "       [2.000e+00, 2.000e+02, 4.000e+00, ..., 2.500e+01, 1.900e+01,\n",
       "        1.385e+03],\n",
       "       [0.000e+00, 2.410e+02, 4.000e+00, ..., 2.900e+01, 2.200e+01,\n",
       "        6.170e+02],\n",
       "       [0.000e+00, 1.600e+02, 4.000e+00, ..., 4.000e+01, 2.700e+01,\n",
       "        5.657e+03]], shape=(7146, 7))"
      ]
     },
     "execution_count": 46,
     "metadata": {},
     "output_type": "execute_result"
    }
   ],
   "source": [
    "X_with_age"
   ]
  },
  {
   "cell_type": "markdown",
   "id": "f963cb3b-ec12-4886-8569-a3ab254ce776",
   "metadata": {},
   "source": [
    "## Training without log transformation"
   ]
  },
  {
   "cell_type": "code",
   "execution_count": 47,
   "id": "0848adcf-a7f9-4a86-afc4-d8436f129cd5",
   "metadata": {},
   "outputs": [
    {
     "data": {
      "text/plain": [
       "(np.float64(-90778.83614479103),\n",
       " array([-3.65480098e+01,  3.34391212e+02,  6.53896288e+03, -4.90471195e+03,\n",
       "         4.86984338e+02,  1.06302221e+03, -3.17432069e+00]))"
      ]
     },
     "execution_count": 47,
     "metadata": {},
     "output_type": "execute_result"
    }
   ],
   "source": [
    "w_with_age = linear_regression(X_with_age,y_train_orig)\n",
    "w_with_age[0],w_with_age[1:]"
   ]
  },
  {
   "cell_type": "code",
   "execution_count": 48,
   "id": "3b6415fd-4e3b-4c85-92b4-ffe673f84821",
   "metadata": {},
   "outputs": [],
   "source": [
    "y_pred_with_age = X_with_age@w_with_age[1:] + w_with_age[0]"
   ]
  },
  {
   "cell_type": "code",
   "execution_count": 49,
   "id": "7a9a542f-e6ff-4816-8bad-6616f48d7abf",
   "metadata": {},
   "outputs": [
    {
     "data": {
      "text/plain": [
       "np.float64(47648.04971669508)"
      ]
     },
     "execution_count": 49,
     "metadata": {},
     "output_type": "execute_result"
    }
   ],
   "source": [
    "root_mean_squared_error(y_train_orig,y_pred_with_age)"
   ]
  },
  {
   "cell_type": "code",
   "execution_count": 50,
   "id": "8361e5ab-0a2c-407b-ac64-1c67a3d2af88",
   "metadata": {},
   "outputs": [
    {
     "data": {
      "text/plain": [
       "<Axes: ylabel='Count'>"
      ]
     },
     "execution_count": 50,
     "metadata": {},
     "output_type": "execute_result"
    },
    {
     "data": {
      "image/png": "[encoded data removed]",
      "text/plain": [
       "<Figure size 640x480 with 1 Axes>"
      ]
     },
     "metadata": {},
     "output_type": "display_data"
    }
   ],
   "source": [
    "sns.histplot(y_train_orig,color='red',alpha=0.4,bins=50)\n",
    "sns.histplot(y_pred_with_age,color='blue',alpha=0.4,bins=50)"
   ]
  },
  {
   "cell_type": "markdown",
   "id": "66f54711-6c02-42d6-a245-c655450768de",
   "metadata": {},
   "source": [
    "## Training with log transformation"
   ]
  },
  {
   "cell_type": "code",
   "execution_count": 51,
   "id": "75e51cb8-ce86-418f-b1cf-23c51373fc3c",
   "metadata": {},
   "outputs": [
    {
     "data": {
      "text/plain": [
       "(np.float64(9.438634909446836),\n",
       " array([-9.44258274e-02,  3.86632053e-03,  6.84665302e-02, -2.50587975e-02,\n",
       "        -3.36901987e-03,  1.06294020e-02, -4.88019831e-05]))"
      ]
     },
     "execution_count": 51,
     "metadata": {},
     "output_type": "execute_result"
    }
   ],
   "source": [
    "w_with_log_transform_and_age = linear_regression(X_with_age,log_y_train)\n",
    "w_with_log_transform_and_age[0],w_with_log_transform_and_age[1:]"
   ]
  },
  {
   "cell_type": "code",
   "execution_count": 52,
   "id": "5c8968d6-741c-4a09-a112-c18441081e3b",
   "metadata": {},
   "outputs": [],
   "source": [
    "log_y_pred_with_age = X_with_age@w_with_log_transform_and_age[1:] + w_with_log_transform_and_age[0]"
   ]
  },
  {
   "cell_type": "code",
   "execution_count": 53,
   "id": "72fac9f1-c380-41e2-b43f-7a9898c2fe16",
   "metadata": {},
   "outputs": [
    {
     "data": {
      "text/plain": [
       "np.float64(45600.215114326595)"
      ]
     },
     "execution_count": 53,
     "metadata": {},
     "output_type": "execute_result"
    }
   ],
   "source": [
    "root_mean_squared_error(np.exp(log_y_train),np.exp(log_y_pred_with_age))"
   ]
  },
  {
   "cell_type": "code",
   "execution_count": 54,
   "id": "44490ef8-22df-4ca4-909e-9d79ba5ac730",
   "metadata": {},
   "outputs": [
    {
     "data": {
      "text/plain": [
       "<Axes: ylabel='Count'>"
      ]
     },
     "execution_count": 54,
     "metadata": {},
     "output_type": "execute_result"
    },
    {
     "data": {
      "image/png": "[encoded data removed]",
      "text/plain": [
       "<Figure size 640x480 with 1 Axes>"
      ]
     },
     "metadata": {},
     "output_type": "display_data"
    }
   ],
   "source": [
    "sns.histplot(log_y_train,color='red',alpha=0.4,bins=50)\n",
    "sns.histplot(log_y_pred_with_age,color='blue',alpha=0.4,bins=50)"
   ]
  },
  {
   "cell_type": "markdown",
   "id": "13d7e30a-3d3c-4526-bc70-f30fdfef20e1",
   "metadata": {},
   "source": [
    "## Validation"
   ]
  },
  {
   "cell_type": "code",
   "execution_count": 55,
   "id": "36f9ab9a-a3d6-440b-b4d7-a6cc838c7b7b",
   "metadata": {},
   "outputs": [],
   "source": [
    "X_val_with_age = add_feature_age(df_val).values"
   ]
  },
  {
   "cell_type": "markdown",
   "id": "c1085ca0-a11b-47ee-bcef-7b94c7f9e730",
   "metadata": {},
   "source": [
    "### Model that was trained without log transformation"
   ]
  },
  {
   "cell_type": "code",
   "execution_count": 56,
   "id": "ae314947-d974-439b-9cb7-443afd0db347",
   "metadata": {},
   "outputs": [
    {
     "data": {
      "text/plain": [
       "np.float64(32519.942857031045)"
      ]
     },
     "execution_count": 56,
     "metadata": {},
     "output_type": "execute_result"
    }
   ],
   "source": [
    "y_val_pred_with_age = X_val_with_age@w_with_age[1:] +w_with_age[0]\n",
    "root_mean_squared_error(y_val_orig,y_val_pred_with_age)"
   ]
  },
  {
   "cell_type": "code",
   "execution_count": 57,
   "id": "49d2d881-1131-42ba-9a19-e14d42ee9a2f",
   "metadata": {},
   "outputs": [
    {
     "data": {
      "text/plain": [
       "<Axes: ylabel='Count'>"
      ]
     },
     "execution_count": 57,
     "metadata": {},
     "output_type": "execute_result"
    },
    {
     "data": {
      "image/png": "[encoded data removed]",
      "text/plain": [
       "<Figure size 640x480 with 1 Axes>"
      ]
     },
     "metadata": {},
     "output_type": "display_data"
    }
   ],
   "source": [
    "sns.histplot(y_val_orig,color='red',alpha=0.4,bins=50)\n",
    "sns.histplot(y_val_pred_with_age,color='blue',alpha=0.4,bins=50)"
   ]
  },
  {
   "cell_type": "markdown",
   "id": "6c969735-d4ac-431a-869b-6062fd74f936",
   "metadata": {},
   "source": [
    "### Model that was trained with log transformation"
   ]
  },
  {
   "cell_type": "code",
   "execution_count": 58,
   "id": "20bb861c-529c-47a4-a359-a1dab31baeda",
   "metadata": {},
   "outputs": [
    {
     "data": {
      "text/plain": [
       "np.float64(32700.727667644605)"
      ]
     },
     "execution_count": 58,
     "metadata": {},
     "output_type": "execute_result"
    }
   ],
   "source": [
    "log_y_val_pred_with_age = X_val_with_age@w_with_log_transform_and_age[1:]+w_with_log_transform_and_age[0]\n",
    "root_mean_squared_error(np.exp(log_y_val),np.exp(log_y_val_pred_with_age))"
   ]
  },
  {
   "cell_type": "code",
   "execution_count": 59,
   "id": "304e26e7-381c-4b34-96f9-40f30a166282",
   "metadata": {},
   "outputs": [
    {
     "data": {
      "text/plain": [
       "<Axes: ylabel='Count'>"
      ]
     },
     "execution_count": 59,
     "metadata": {},
     "output_type": "execute_result"
    },
    {
     "data": {
      "image/png": "[encoded data removed]",
      "text/plain": [
       "<Figure size 640x480 with 1 Axes>"
      ]
     },
     "metadata": {},
     "output_type": "display_data"
    }
   ],
   "source": [
    "sns.histplot(log_y_val,color='red',alpha=0.4,bins=50)\n",
    "sns.histplot(log_y_pred_with_age,color='blue',alpha=0.4,bins=50)"
   ]
  },
  {
   "cell_type": "markdown",
   "id": "000efae8-afeb-4b65-a82f-bbd376411ac5",
   "metadata": {},
   "source": [
    "# Categorical variables"
   ]
  },
  {
   "cell_type": "code",
   "execution_count": 60,
   "id": "0bb4b3e8-ee2e-41a1-9af6-5f28cc1e72f3",
   "metadata": {},
   "outputs": [
    {
     "data": {
      "text/plain": [
       "Index(['year', 'engine_hp', 'engine_cylinders', 'number_of_doors',\n",
       "       'highway_mpg', 'city_mpg', 'popularity'],\n",
       "      dtype='object')"
      ]
     },
     "execution_count": 60,
     "metadata": {},
     "output_type": "execute_result"
    }
   ],
   "source": [
    "df_train.columns"
   ]
  },
  {
   "cell_type": "code",
   "execution_count": 61,
   "id": "871cf3f8-e7d6-4f71-8cb6-c75449c21e69",
   "metadata": {},
   "outputs": [
    {
     "data": {
      "text/plain": [
       "Index(['year', 'engine_hp', 'engine_cylinders', 'number_of_doors',\n",
       "       'highway_mpg', 'city_mpg', 'popularity'],\n",
       "      dtype='object')"
      ]
     },
     "execution_count": 61,
     "metadata": {},
     "output_type": "execute_result"
    }
   ],
   "source": [
    "df_val.columns"
   ]
  },
  {
   "cell_type": "code",
   "execution_count": 62,
   "id": "9650f007-2aa0-4269-8fcf-4ce0a9421b49",
   "metadata": {},
   "outputs": [
    {
     "data": {
      "text/plain": [
       "year                  28\n",
       "engine_hp            357\n",
       "engine_cylinders       9\n",
       "number_of_doors        3\n",
       "highway_mpg           59\n",
       "city_mpg              65\n",
       "popularity            48\n",
       "msrp                6046\n",
       "dtype: int64"
      ]
     },
     "execution_count": 62,
     "metadata": {},
     "output_type": "execute_result"
    }
   ],
   "source": [
    "df.nunique()"
   ]
  },
  {
   "cell_type": "code",
   "execution_count": 63,
   "id": "f92e4af4-c948-4762-ab1e-27f078c71fc9",
   "metadata": {},
   "outputs": [],
   "source": [
    "def make_df_one_hot_encoding(df,columns):\n",
    "    new_df = df.copy()\n",
    "    new_df['year'] = new_df['year'].max()-new_df['year'];\n",
    "    new_df.rename(columns = {'year':'age'},inplace=True)\n",
    "    for column in columns:\n",
    "        unique_values = list(new_df[column].unique().astype('int'))\n",
    "        for value in unique_values:\n",
    "            new_df[column+'_%s'% value] = (new_df[column] == value).astype('int')\n",
    "        del new_df[column]\n",
    "        return new_df"
   ]
  },
  {
   "cell_type": "code",
   "execution_count": 64,
   "id": "a51bd916-c7cd-402b-ad34-69e11e665e77",
   "metadata": {},
   "outputs": [
    {
     "data": {
      "text/html": [
       "<div>\n",
       "<style scoped>\n",
       "    .dataframe tbody tr th:only-of-type {\n",
       "        vertical-align: middle;\n",
       "    }\n",
       "\n",
       "    .dataframe tbody tr th {\n",
       "        vertical-align: top;\n",
       "    }\n",
       "\n",
       "    .dataframe thead th {\n",
       "        text-align: right;\n",
       "    }\n",
       "</style>\n",
       "<table border=\"1\" class=\"dataframe\">\n",
       "  <thead>\n",
       "    <tr style=\"text-align: right;\">\n",
       "      <th></th>\n",
       "      <th>age</th>\n",
       "      <th>engine_hp</th>\n",
       "      <th>engine_cylinders</th>\n",
       "      <th>highway_mpg</th>\n",
       "      <th>city_mpg</th>\n",
       "      <th>popularity</th>\n",
       "      <th>number_of_doors_2</th>\n",
       "      <th>number_of_doors_4</th>\n",
       "      <th>number_of_doors_3</th>\n",
       "    </tr>\n",
       "  </thead>\n",
       "  <tbody>\n",
       "    <tr>\n",
       "      <th>925</th>\n",
       "      <td>2</td>\n",
       "      <td>520.0</td>\n",
       "      <td>6.0</td>\n",
       "      <td>24</td>\n",
       "      <td>17</td>\n",
       "      <td>1715</td>\n",
       "      <td>1</td>\n",
       "      <td>0</td>\n",
       "      <td>0</td>\n",
       "    </tr>\n",
       "    <tr>\n",
       "      <th>11422</th>\n",
       "      <td>18</td>\n",
       "      <td>158.0</td>\n",
       "      <td>6.0</td>\n",
       "      <td>22</td>\n",
       "      <td>16</td>\n",
       "      <td>535</td>\n",
       "      <td>0</td>\n",
       "      <td>1</td>\n",
       "      <td>0</td>\n",
       "    </tr>\n",
       "    <tr>\n",
       "      <th>9049</th>\n",
       "      <td>22</td>\n",
       "      <td>115.0</td>\n",
       "      <td>4.0</td>\n",
       "      <td>30</td>\n",
       "      <td>23</td>\n",
       "      <td>1439</td>\n",
       "      <td>1</td>\n",
       "      <td>0</td>\n",
       "      <td>0</td>\n",
       "    </tr>\n",
       "    <tr>\n",
       "      <th>6626</th>\n",
       "      <td>2</td>\n",
       "      <td>400.0</td>\n",
       "      <td>6.0</td>\n",
       "      <td>23</td>\n",
       "      <td>17</td>\n",
       "      <td>1715</td>\n",
       "      <td>0</td>\n",
       "      <td>1</td>\n",
       "      <td>0</td>\n",
       "    </tr>\n",
       "    <tr>\n",
       "      <th>7403</th>\n",
       "      <td>10</td>\n",
       "      <td>255.0</td>\n",
       "      <td>6.0</td>\n",
       "      <td>22</td>\n",
       "      <td>14</td>\n",
       "      <td>1013</td>\n",
       "      <td>0</td>\n",
       "      <td>1</td>\n",
       "      <td>0</td>\n",
       "    </tr>\n",
       "  </tbody>\n",
       "</table>\n",
       "</div>"
      ],
      "text/plain": [
       "       age  engine_hp  engine_cylinders  highway_mpg  city_mpg  popularity  \\\n",
       "925      2      520.0               6.0           24        17        1715   \n",
       "11422   18      158.0               6.0           22        16         535   \n",
       "9049    22      115.0               4.0           30        23        1439   \n",
       "6626     2      400.0               6.0           23        17        1715   \n",
       "7403    10      255.0               6.0           22        14        1013   \n",
       "\n",
       "       number_of_doors_2  number_of_doors_4  number_of_doors_3  \n",
       "925                    1                  0                  0  \n",
       "11422                  0                  1                  0  \n",
       "9049                   1                  0                  0  \n",
       "6626                   0                  1                  0  \n",
       "7403                   0                  1                  0  "
      ]
     },
     "execution_count": 64,
     "metadata": {},
     "output_type": "execute_result"
    }
   ],
   "source": [
    "df_train_1_hot_enc = make_df_one_hot_encoding(df_train,['number_of_doors'])\n",
    "df_train_1_hot_enc.head()"
   ]
  },
  {
   "cell_type": "code",
   "execution_count": 65,
   "id": "cedbeedf-37f2-4e78-93f7-11132d9949f7",
   "metadata": {},
   "outputs": [
    {
     "data": {
      "text/plain": [
       "number_of_doors\n",
       "4.0    5016\n",
       "2.0    1910\n",
       "3.0     220\n",
       "Name: count, dtype: int64"
      ]
     },
     "execution_count": 65,
     "metadata": {},
     "output_type": "execute_result"
    }
   ],
   "source": [
    "df_train['number_of_doors'].value_counts()"
   ]
  },
  {
   "cell_type": "code",
   "execution_count": 66,
   "id": "0fc78908-13f5-49f9-92ca-9020c5b5f446",
   "metadata": {},
   "outputs": [],
   "source": [
    "df_val_1_hot_enc = make_df_one_hot_encoding(df_val,['number_of_doors'])\n",
    "df_test_1_hot_enc = make_df_one_hot_encoding(df_test,['number_of_doors'])"
   ]
  },
  {
   "cell_type": "markdown",
   "id": "da1a02e7-6592-413d-b0d9-b7d79388b433",
   "metadata": {},
   "source": [
    "### training"
   ]
  },
  {
   "cell_type": "code",
   "execution_count": 67,
   "id": "1845f4b9-2b69-4946-865f-4f90f079b661",
   "metadata": {},
   "outputs": [
    {
     "data": {
      "text/plain": [
       "array([[  2., 520.,   6., ...,   1.,   0.,   0.],\n",
       "       [ 18., 158.,   6., ...,   0.,   1.,   0.],\n",
       "       [ 22., 115.,   4., ...,   1.,   0.,   0.],\n",
       "       ...,\n",
       "       [  2., 200.,   4., ...,   0.,   1.,   0.],\n",
       "       [  0., 241.,   4., ...,   0.,   1.,   0.],\n",
       "       [  0., 160.,   4., ...,   0.,   1.,   0.]], shape=(7146, 9))"
      ]
     },
     "execution_count": 67,
     "metadata": {},
     "output_type": "execute_result"
    }
   ],
   "source": [
    "X_train_with_1_hot_enc = df_train_1_hot_enc.values\n",
    "X_train_with_1_hot_enc"
   ]
  },
  {
   "cell_type": "code",
   "execution_count": 68,
   "id": "5307b670-ad64-4254-b7da-db32a30859e5",
   "metadata": {},
   "outputs": [
    {
     "data": {
      "text/plain": [
       "((7146, 9), (7146,))"
      ]
     },
     "execution_count": 68,
     "metadata": {},
     "output_type": "execute_result"
    }
   ],
   "source": [
    "X_train_with_1_hot_enc.shape,y_train_orig.shape"
   ]
  },
  {
   "cell_type": "code",
   "execution_count": 69,
   "id": "d7eddd5a-0e80-4a55-b93f-76dfdda0e5c1",
   "metadata": {},
   "outputs": [
    {
     "data": {
      "text/plain": [
       "(np.float64(-109402.22790035132),\n",
       " array([-3.88699274e+01,  3.33230016e+02,  6.58594160e+03,  4.78588644e+02,\n",
       "         1.06470857e+03, -3.13145585e+00,  9.10876508e+03, -7.76719350e+02,\n",
       "         1.66054054e+03]))"
      ]
     },
     "execution_count": 69,
     "metadata": {},
     "output_type": "execute_result"
    }
   ],
   "source": [
    "w = linear_regression(X_train_with_1_hot_enc,y_train_orig)\n",
    "w[0],w[1:]"
   ]
  },
  {
   "cell_type": "code",
   "execution_count": 70,
   "id": "dea0ee71-89f1-49af-b7ab-ab698e5309b9",
   "metadata": {},
   "outputs": [],
   "source": [
    "y_pred_on_train_1_hot_enc = X_train_with_1_hot_enc@w[1:] +w[0]"
   ]
  },
  {
   "cell_type": "code",
   "execution_count": 71,
   "id": "6757dd6a-1a0e-4c86-bcd8-e03980c9a08d",
   "metadata": {},
   "outputs": [
    {
     "data": {
      "text/plain": [
       "np.float64(47646.23418705186)"
      ]
     },
     "execution_count": 71,
     "metadata": {},
     "output_type": "execute_result"
    }
   ],
   "source": [
    "training_rmse = root_mean_squared_error(y_train_orig,y_pred_on_train_1_hot_enc)\n",
    "training_rmse"
   ]
  },
  {
   "cell_type": "code",
   "execution_count": 72,
   "id": "78dab2e2-d60b-4d9f-8621-158706b874d3",
   "metadata": {},
   "outputs": [
    {
     "data": {
      "text/plain": [
       "<Axes: ylabel='Count'>"
      ]
     },
     "execution_count": 72,
     "metadata": {},
     "output_type": "execute_result"
    },
    {
     "data": {
      "image/png": "[encoded data removed]",
      "text/plain": [
       "<Figure size 640x480 with 1 Axes>"
      ]
     },
     "metadata": {},
     "output_type": "display_data"
    }
   ],
   "source": [
    "sns.histplot(y_pred_on_train_1_hot_enc,color = 'blue',alpha = 0.4,bins=50)\n",
    "sns.histplot(y_train_orig,color = 'red',alpha = 0.4,bins=50)"
   ]
  },
  {
   "cell_type": "markdown",
   "id": "25ed3c53-1bab-4ff6-9b6a-040a18bbd1e7",
   "metadata": {},
   "source": [
    "### Validation"
   ]
  },
  {
   "cell_type": "code",
   "execution_count": 73,
   "id": "2de813ac-aed7-4046-a338-37dbfd1a48a6",
   "metadata": {},
   "outputs": [],
   "source": [
    "X_val_with_1_hot_enc = df_val_1_hot_enc.values"
   ]
  },
  {
   "cell_type": "code",
   "execution_count": 74,
   "id": "e41f02b0-6340-41f5-8f01-a6b3c8ad45e2",
   "metadata": {},
   "outputs": [],
   "source": [
    "y_pred_1_hot_enc = X_val_with_1_hot_enc@w[1:]+w[0]"
   ]
  },
  {
   "cell_type": "code",
   "execution_count": 75,
   "id": "5ba32278-de9d-4d43-a75b-cb8197b288e7",
   "metadata": {},
   "outputs": [
    {
     "data": {
      "text/plain": [
       "np.float64(32517.57433248727)"
      ]
     },
     "execution_count": 75,
     "metadata": {},
     "output_type": "execute_result"
    }
   ],
   "source": [
    "root_mean_squared_error(y_val_orig,y_pred_1_hot_enc)"
   ]
  },
  {
   "cell_type": "code",
   "execution_count": 76,
   "id": "5ad7fc44-8366-4330-8b81-e494ef9a5e2a",
   "metadata": {},
   "outputs": [
    {
     "data": {
      "text/plain": [
       "<Axes: ylabel='Count'>"
      ]
     },
     "execution_count": 76,
     "metadata": {},
     "output_type": "execute_result"
    },
    {
     "data": {
      "image/png": "[encoded data removed]",
      "text/plain": [
       "<Figure size 640x480 with 1 Axes>"
      ]
     },
     "metadata": {},
     "output_type": "display_data"
    }
   ],
   "source": [
    "sns.histplot(y_pred_1_hot_enc,color = 'blue',alpha = 0.4,bins=50)\n",
    "sns.histplot(y_val_orig,color = 'red',alpha = 0.4,bins=50)"
   ]
  },
  {
   "cell_type": "markdown",
   "id": "b22d8d05-8565-4f5d-b518-2d4e3baed7ae",
   "metadata": {},
   "source": [
    "### with log transformed data"
   ]
  },
  {
   "cell_type": "markdown",
   "id": "14f7cf3b-94b3-4150-93da-429ed81153d5",
   "metadata": {},
   "source": [
    "### training"
   ]
  },
  {
   "cell_type": "code",
   "execution_count": 77,
   "id": "307ad02a-f07c-4e1d-807c-54f642c00b72",
   "metadata": {},
   "outputs": [
    {
     "data": {
      "text/plain": [
       "(np.float64(26.552457730181505),\n",
       " array([-9.46143947e-02,  3.77201761e-03,  7.22817605e-02, -4.05085000e-03,\n",
       "         1.07663544e-02, -4.53208484e-05, -1.71399994e+01, -1.71962940e+01,\n",
       "        -1.73716216e+01]))"
      ]
     },
     "execution_count": 77,
     "metadata": {},
     "output_type": "execute_result"
    }
   ],
   "source": [
    "w = linear_regression(X_train_with_1_hot_enc,log_y_train)\n",
    "w[0],w[1:]"
   ]
  },
  {
   "cell_type": "code",
   "execution_count": 78,
   "id": "dd35b414-f1d5-4bf4-965b-cd601fa72e56",
   "metadata": {},
   "outputs": [],
   "source": [
    "log_y_pred_1_hot_enc = X_train_with_1_hot_enc@w[1:]+w[0]"
   ]
  },
  {
   "cell_type": "code",
   "execution_count": 79,
   "id": "f9cd54f3-2581-4360-8873-53bb7237c733",
   "metadata": {},
   "outputs": [
    {
     "data": {
      "text/plain": [
       "<Axes: ylabel='Count'>"
      ]
     },
     "execution_count": 79,
     "metadata": {},
     "output_type": "execute_result"
    },
    {
     "data": {
      "image/png": "[encoded data removed]",
      "text/plain": [
       "<Figure size 640x480 with 1 Axes>"
      ]
     },
     "metadata": {},
     "output_type": "display_data"
    }
   ],
   "source": [
    "sns.histplot(log_y_pred_1_hot_enc,color = 'blue',alpha = 0.4,bins=50)\n",
    "sns.histplot(log_y_train,color = 'red',alpha = 0.4,bins=50)"
   ]
  },
  {
   "cell_type": "markdown",
   "id": "5d46a8c6-5b62-40b1-b7f3-a367a66a1f39",
   "metadata": {},
   "source": [
    "### validation"
   ]
  },
  {
   "cell_type": "code",
   "execution_count": 80,
   "id": "b1b28fe1-a50c-43e7-95f7-5931c3dee47e",
   "metadata": {},
   "outputs": [],
   "source": [
    "log_y_pred_1_hot_enc = X_val_with_1_hot_enc@w[1:]+w[0]"
   ]
  },
  {
   "cell_type": "code",
   "execution_count": 81,
   "id": "c58b2b9c-8097-4e31-a802-1f8ceac92985",
   "metadata": {},
   "outputs": [
    {
     "data": {
      "text/plain": [
       "np.float64(0.5165038116680333)"
      ]
     },
     "execution_count": 81,
     "metadata": {},
     "output_type": "execute_result"
    }
   ],
   "source": [
    "root_mean_squared_error(log_y_val,log_y_pred_1_hot_enc)"
   ]
  },
  {
   "cell_type": "code",
   "execution_count": 82,
   "id": "66453618-4f65-4bb3-aea2-249d3d02e917",
   "metadata": {},
   "outputs": [
    {
     "ename": "ValueError",
     "evalue": "operands could not be broadcast together with shapes (2381,) (7146,) ",
     "output_type": "error",
     "traceback": [
      "\u001b[31m---------------------------------------------------------------------------\u001b[39m",
      "\u001b[31mValueError\u001b[39m                                Traceback (most recent call last)",
      "\u001b[36mCell\u001b[39m\u001b[36m \u001b[39m\u001b[32mIn[82]\u001b[39m\u001b[32m, line 1\u001b[39m\n\u001b[32m----> \u001b[39m\u001b[32m1\u001b[39m \u001b[43mroot_mean_squared_error\u001b[49m\u001b[43m(\u001b[49m\u001b[43mlog_y_val\u001b[49m\u001b[43m,\u001b[49m\u001b[43mlog_y_pred_with_age\u001b[49m\u001b[43m)\u001b[49m\n",
      "\u001b[36mCell\u001b[39m\u001b[36m \u001b[39m\u001b[32mIn[35]\u001b[39m\u001b[32m, line 2\u001b[39m, in \u001b[36mroot_mean_squared_error\u001b[39m\u001b[34m(y, y_pred)\u001b[39m\n\u001b[32m      1\u001b[39m \u001b[38;5;28;01mdef\u001b[39;00m\u001b[38;5;250m \u001b[39m\u001b[34mroot_mean_squared_error\u001b[39m(y,y_pred):\n\u001b[32m----> \u001b[39m\u001b[32m2\u001b[39m     se = (\u001b[43my\u001b[49m\u001b[43m-\u001b[49m\u001b[43my_pred\u001b[49m)**\u001b[32m2\u001b[39m\n\u001b[32m      3\u001b[39m     mse = se.mean()\n\u001b[32m      4\u001b[39m     \u001b[38;5;28;01mreturn\u001b[39;00m np.sqrt(mse)\n",
      "\u001b[31mValueError\u001b[39m: operands could not be broadcast together with shapes (2381,) (7146,) "
     ]
    }
   ],
   "source": [
    "root_mean_squared_error(log_y_val,log)"
   ]
  },
  {
   "cell_type": "code",
   "execution_count": null,
   "id": "196a3c64-08e0-4947-a963-72c2335bd36f",
   "metadata": {},
   "outputs": [],
   "source": [
    "sns.histplot(log_y_pred_1_hot_enc,color = 'blue',alpha = 0.4,bins=50)\n",
    "sns.histplot(log_y_val,color = 'red',alpha = 0.4,bins=50)"
   ]
  },
  {
   "cell_type": "code",
   "execution_count": null,
   "id": "afaf998d-a78e-4b23-a601-de4a339ad48a",
   "metadata": {},
   "outputs": [],
   "source": []
  }
 ],
 "metadata": {
  "kernelspec": {
   "display_name": "Python 3 (ipykernel)",
   "language": "python",
   "name": "python3"
  },
  "language_info": {
   "codemirror_mode": {
    "name": "ipython",
    "version": 3
   },
   "file_extension": ".py",
   "mimetype": "text/x-python",
   "name": "python",
   "nbconvert_exporter": "python",
   "pygments_lexer": "ipython3",
   "version": "3.12.1"
  }
 },
 "nbformat": 4,
 "nbformat_minor": 5
}
